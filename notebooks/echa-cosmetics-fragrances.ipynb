{
 "cells": [
  {
   "cell_type": "markdown",
   "metadata": {},
   "source": [
    "# ECHA: cosmetics and fragrances\n",
    "\n",
    "Here's what we need to find out:\n",
    "- Of all the substances registered under REACH, how many are used exclusively in cosmetics (i.e. in product category 28 and/or 39 only)?\n",
    "- What is the EC identification number and registered tonnage band of these substances?\n",
    "- Which of these substances have an ECHA decision associated with them?\n",
    "- What is the date, status and web address of these decisions?"
   ]
  },
  {
   "cell_type": "markdown",
   "metadata": {},
   "source": [
    "# Initial list of PC 28 and 39 substances\n",
    "\n",
    "- Used ECHA advanced searach for chemicals on 1 Apr 2021\n",
    "- Under 'Uses and exposure'\n",
    "    - Selected 'Consumer Uses'\n",
    "    - Selected categories\n",
    "        - 'PC 28' perfumes, fragrances\n",
    "        - 'PC 39' cosmetics, personal care products\n",
    "    - Selected 'OR'\n",
    "- Returned 5,821 results\n",
    "- Downloaded as CSV"
   ]
  },
  {
   "cell_type": "code",
   "execution_count": 12,
   "metadata": {},
   "outputs": [],
   "source": [
    "import pandas as pd\n",
    "import re"
   ]
  },
  {
   "cell_type": "code",
   "execution_count": 2,
   "metadata": {},
   "outputs": [],
   "source": [
    "search = pd.read_csv('search-export-28-39-1-apr-2021.csv', sep='\\t', skiprows=3)"
   ]
  },
  {
   "cell_type": "code",
   "execution_count": 3,
   "metadata": {},
   "outputs": [],
   "source": [
    "search.drop(columns=[search.columns.to_list()[-1]], inplace=True)"
   ]
  },
  {
   "cell_type": "code",
   "execution_count": 4,
   "metadata": {},
   "outputs": [
    {
     "data": {
      "text/html": [
       "<div>\n",
       "<style scoped>\n",
       "    .dataframe tbody tr th:only-of-type {\n",
       "        vertical-align: middle;\n",
       "    }\n",
       "\n",
       "    .dataframe tbody tr th {\n",
       "        vertical-align: top;\n",
       "    }\n",
       "\n",
       "    .dataframe thead th {\n",
       "        text-align: right;\n",
       "    }\n",
       "</style>\n",
       "<table border=\"1\" class=\"dataframe\">\n",
       "  <thead>\n",
       "    <tr style=\"text-align: right;\">\n",
       "      <th></th>\n",
       "      <th>Substance Name</th>\n",
       "      <th>EC Number</th>\n",
       "      <th>CAS Number</th>\n",
       "      <th>Substance Information Page</th>\n",
       "      <th>Brief Profile Page</th>\n",
       "      <th>Substance Regulatory Obligations Page</th>\n",
       "    </tr>\n",
       "  </thead>\n",
       "  <tbody>\n",
       "    <tr>\n",
       "      <th>0</th>\n",
       "      <td>''amyl nitrite'', mixed isomers</td>\n",
       "      <td>203-770-8</td>\n",
       "      <td>110-46-3</td>\n",
       "      <td>https://echa.europa.eu/substance-information/-...</td>\n",
       "      <td>https://echa.europa.eu/brief-profile/-/briefpr...</td>\n",
       "      <td>https://echa.europa.eu/legislation-obligation/...</td>\n",
       "    </tr>\n",
       "    <tr>\n",
       "      <th>1</th>\n",
       "      <td>((Methylethylene)bis(oxy))dipropanol</td>\n",
       "      <td>246-466-0</td>\n",
       "      <td>24800-44-0</td>\n",
       "      <td>https://echa.europa.eu/substance-information/-...</td>\n",
       "      <td>https://echa.europa.eu/brief-profile/-/briefpr...</td>\n",
       "      <td>https://echa.europa.eu/legislation-obligation/...</td>\n",
       "    </tr>\n",
       "    <tr>\n",
       "      <th>2</th>\n",
       "      <td>(+)-bornan-2-one</td>\n",
       "      <td>207-355-2</td>\n",
       "      <td>464-49-3</td>\n",
       "      <td>https://echa.europa.eu/substance-information/-...</td>\n",
       "      <td>https://echa.europa.eu/brief-profile/-/briefpr...</td>\n",
       "      <td>https://echa.europa.eu/legislation-obligation/...</td>\n",
       "    </tr>\n",
       "    <tr>\n",
       "      <th>3</th>\n",
       "      <td>(+)-Butyl lactate</td>\n",
       "      <td>252-036-3</td>\n",
       "      <td>34451-19-9</td>\n",
       "      <td>https://echa.europa.eu/substance-information/-...</td>\n",
       "      <td>https://echa.europa.eu/brief-profile/-/briefpr...</td>\n",
       "      <td>NaN</td>\n",
       "    </tr>\n",
       "    <tr>\n",
       "      <th>4</th>\n",
       "      <td>(+)-L-arginine hydrochloride</td>\n",
       "      <td>214-275-1</td>\n",
       "      <td>1119-34-2</td>\n",
       "      <td>https://echa.europa.eu/substance-information/-...</td>\n",
       "      <td>https://echa.europa.eu/brief-profile/-/briefpr...</td>\n",
       "      <td>NaN</td>\n",
       "    </tr>\n",
       "  </tbody>\n",
       "</table>\n",
       "</div>"
      ],
      "text/plain": [
       "                         Substance Name  EC Number  CAS Number  \\\n",
       "0       ''amyl nitrite'', mixed isomers  203-770-8    110-46-3   \n",
       "1  ((Methylethylene)bis(oxy))dipropanol  246-466-0  24800-44-0   \n",
       "2                      (+)-bornan-2-one  207-355-2    464-49-3   \n",
       "3                     (+)-Butyl lactate  252-036-3  34451-19-9   \n",
       "4          (+)-L-arginine hydrochloride  214-275-1   1119-34-2   \n",
       "\n",
       "                          Substance Information Page  \\\n",
       "0  https://echa.europa.eu/substance-information/-...   \n",
       "1  https://echa.europa.eu/substance-information/-...   \n",
       "2  https://echa.europa.eu/substance-information/-...   \n",
       "3  https://echa.europa.eu/substance-information/-...   \n",
       "4  https://echa.europa.eu/substance-information/-...   \n",
       "\n",
       "                                  Brief Profile Page  \\\n",
       "0  https://echa.europa.eu/brief-profile/-/briefpr...   \n",
       "1  https://echa.europa.eu/brief-profile/-/briefpr...   \n",
       "2  https://echa.europa.eu/brief-profile/-/briefpr...   \n",
       "3  https://echa.europa.eu/brief-profile/-/briefpr...   \n",
       "4  https://echa.europa.eu/brief-profile/-/briefpr...   \n",
       "\n",
       "               Substance Regulatory Obligations Page  \n",
       "0  https://echa.europa.eu/legislation-obligation/...  \n",
       "1  https://echa.europa.eu/legislation-obligation/...  \n",
       "2  https://echa.europa.eu/legislation-obligation/...  \n",
       "3                                                NaN  \n",
       "4                                                NaN  "
      ]
     },
     "execution_count": 4,
     "metadata": {},
     "output_type": "execute_result"
    }
   ],
   "source": [
    "search.head()"
   ]
  },
  {
   "cell_type": "code",
   "execution_count": 5,
   "metadata": {},
   "outputs": [],
   "source": [
    "search.drop(961, inplace=True)"
   ]
  },
  {
   "cell_type": "code",
   "execution_count": 6,
   "metadata": {},
   "outputs": [
    {
     "name": "stdout",
     "output_type": "stream",
     "text": [
      "<class 'pandas.core.frame.DataFrame'>\n",
      "Int64Index: 5820 entries, 0 to 5820\n",
      "Data columns (total 6 columns):\n",
      " #   Column                                 Non-Null Count  Dtype \n",
      "---  ------                                 --------------  ----- \n",
      " 0   Substance Name                         5820 non-null   object\n",
      " 1   EC Number                              5820 non-null   object\n",
      " 2   CAS Number                             5820 non-null   object\n",
      " 3   Substance Information Page             5820 non-null   object\n",
      " 4   Brief Profile Page                     5820 non-null   object\n",
      " 5   Substance Regulatory Obligations Page  1285 non-null   object\n",
      "dtypes: object(6)\n",
      "memory usage: 318.3+ KB\n"
     ]
    }
   ],
   "source": [
    "search.info()"
   ]
  },
  {
   "cell_type": "markdown",
   "metadata": {},
   "source": [
    "# Scraping for full uses and exposure data"
   ]
  },
  {
   "cell_type": "code",
   "execution_count": 63,
   "metadata": {},
   "outputs": [],
   "source": [
    "import requests\n",
    "\n",
    "from bs4 import BeautifulSoup"
   ]
  },
  {
   "cell_type": "code",
   "execution_count": 8,
   "metadata": {},
   "outputs": [],
   "source": [
    "API_KEY = \"c6df1900baa34395a8bfd0db327a09b1\"\n",
    "\n",
    "proxy_host = 'proxy.crawlera.com'\n",
    "proxy_port = '8011'\n",
    "proxy_auth = f'{API_KEY}:'\n",
    "\n",
    "\n",
    "proxies = {\"https\": f\"https://{proxy_auth}@{proxy_host}:{proxy_port}/\",\n",
    "           \"http\": f\"http://{proxy_auth}@{proxy_host}:{proxy_port}/\"}"
   ]
  },
  {
   "cell_type": "markdown",
   "metadata": {},
   "source": [
    "Format: `r = requests.get(url, proxies=proxies, verify=False)`\n",
    "\n",
    "See: https://docs.zyte.com/smart-proxy-manager-integrations.html#zyte-proxy-requests"
   ]
  },
  {
   "cell_type": "code",
   "execution_count": 9,
   "metadata": {},
   "outputs": [],
   "source": [
    "urls = search[['EC Number', 'Brief Profile Page']]"
   ]
  },
  {
   "cell_type": "markdown",
   "metadata": {},
   "source": [
    "## Exporting urls into 6 CSV files\n",
    "\n",
    "The proxy would only allow one thread at a time, so this part isn't necessary any more."
   ]
  },
  {
   "cell_type": "code",
   "execution_count": 10,
   "metadata": {},
   "outputs": [],
   "source": [
    "files = ['in' + str(n) + '.csv' for n in range(1, 7)]"
   ]
  },
  {
   "cell_type": "code",
   "execution_count": 14,
   "metadata": {},
   "outputs": [],
   "source": [
    "for n, file in zip(range(0, 5800, 1000), files):\n",
    "    if n < 5000:\n",
    "        urls.iloc[n : n + 1000, :].to_csv(file, header=False, index=False)\n",
    "    else:\n",
    "        urls.iloc[n:, :].to_csv(file, header=False, index=False)\n",
    "    "
   ]
  },
  {
   "cell_type": "code",
   "execution_count": 15,
   "metadata": {},
   "outputs": [
    {
     "name": "stdout",
     "output_type": "stream",
     "text": [
      "cosmetics-substances-export.csv      in5.csv\r\n",
      "dossier-evaluation-status-export.csv in6.csv\r\n",
      "in1.csv                              non-cosmetics-substances-export.csv\r\n",
      "in2.csv                              search-export-28-39-1-apr-2021.csv\r\n",
      "in3.csv                              test_in.csv\r\n",
      "in4.csv\r\n"
     ]
    }
   ],
   "source": [
    "!ls *.csv"
   ]
  },
  {
   "cell_type": "code",
   "execution_count": 16,
   "metadata": {},
   "outputs": [
    {
     "name": "stdout",
     "output_type": "stream",
     "text": [
      "203-770-8,https://echa.europa.eu/brief-profile/-/briefprofile/100.003.429\r\n",
      "246-466-0,https://echa.europa.eu/brief-profile/-/briefprofile/100.042.227\r\n",
      "207-355-2,https://echa.europa.eu/brief-profile/-/briefprofile/100.006.688\r\n",
      "252-036-3,https://echa.europa.eu/brief-profile/-/briefprofile/100.047.291\r\n",
      "214-275-1,https://echa.europa.eu/brief-profile/-/briefprofile/100.012.978\r\n"
     ]
    }
   ],
   "source": [
    "!cat in1.csv | head -n 5"
   ]
  },
  {
   "cell_type": "markdown",
   "metadata": {},
   "source": [
    "## Setting up subprocesses"
   ]
  },
  {
   "cell_type": "code",
   "execution_count": 17,
   "metadata": {},
   "outputs": [],
   "source": [
    "in_files = files\n",
    "out_files = ['out' + str(n) + '.json' for n in range(1, 7)]\n",
    "log_files = ['log' + str(n) + '.txt' for n in range(1, 7)]"
   ]
  },
  {
   "cell_type": "code",
   "execution_count": 18,
   "metadata": {},
   "outputs": [],
   "source": [
    "import subprocess"
   ]
  },
  {
   "cell_type": "code",
   "execution_count": 20,
   "metadata": {},
   "outputs": [
    {
     "data": {
      "text/plain": [
       "CompletedProcess(args=['./scrape.py', 'test_in.csv', 'test_out.json', 'test_log.txt', '0'], returncode=0)"
      ]
     },
     "execution_count": 20,
     "metadata": {},
     "output_type": "execute_result"
    }
   ],
   "source": [
    "subprocess.run(['./scrape.py', 'test_in.csv', 'test_out.json', 'test_log.txt', '0'])"
   ]
  },
  {
   "cell_type": "code",
   "execution_count": 21,
   "metadata": {},
   "outputs": [
    {
     "name": "stdout",
     "output_type": "stream",
     "text": [
      "\r\n",
      "DEBUG:root:At row 0: AttributeError 'NoneType' object has no attribute 'find_all'\r\n",
      "CRITICAL:root:Website not responding. Stopped at line 1\r\n",
      "DEBUG:root:line 0: AttributeError 'NoneType' object has no attribute 'find_all'\r\n",
      "CRITICAL:root:line 1: Website not responding\r\n",
      "DEBUG:root:line 0: AttributeError 'NoneType' object has no attribute 'find_all'\r\n",
      "DEBUG:root:line 2: AttributeError 'NoneType' object has no attribute 'find_all'\r\n",
      "DEBUG:root:line 0: AttributeError 'NoneType' object has no attribute 'find_all'\r\n",
      "DEBUG:root:line 2: AttributeError 'NoneType' object has no attribute 'find_all'\r\n"
     ]
    }
   ],
   "source": [
    "!cat test_log.txt"
   ]
  },
  {
   "cell_type": "markdown",
   "metadata": {},
   "source": [
    "# Cleaning the JSON  files"
   ]
  },
  {
   "cell_type": "code",
   "execution_count": 1,
   "metadata": {},
   "outputs": [],
   "source": [
    "import json"
   ]
  },
  {
   "cell_type": "code",
   "execution_count": 7,
   "metadata": {},
   "outputs": [],
   "source": [
    "out = json.load(open('out_commas.json'))"
   ]
  },
  {
   "cell_type": "code",
   "execution_count": 8,
   "metadata": {},
   "outputs": [
    {
     "data": {
      "text/plain": [
       "5735"
      ]
     },
     "execution_count": 8,
     "metadata": {},
     "output_type": "execute_result"
    }
   ],
   "source": [
    "len(out.keys())"
   ]
  },
  {
   "cell_type": "code",
   "execution_count": 10,
   "metadata": {},
   "outputs": [],
   "source": [
    "keys = list(out.keys())"
   ]
  },
  {
   "cell_type": "code",
   "execution_count": 11,
   "metadata": {},
   "outputs": [
    {
     "data": {
      "text/plain": [
       "{'general': ['This substance is registered under the REACH Regulation and is manufactured in and / or imported to the European Economic Area, at ≥ 10 to < 100 per annum.',\n",
       "  'This substance is used by consumers, in formulation or re-packing, at industrial sites and in manufacturing.'],\n",
       " 'consumer uses': ['This substance is used in the following products: leather treatment products and washing & cleaning products.',\n",
       "  'Other release to the environment of this substance is likely to occur from: indoor use (e.g. machine wash liquids/detergents, automotive care products, paints and coating or adhesives, fragrances and air fresheners).'],\n",
       " 'article service life': ['ECHA has no public registered data on the use of this substance in activities or processes at the workplace.',\n",
       "  'ECHA has no public registered data on the routes by which this substance is most likely to be released to the environment.',\n",
       "  'ECHA has no public registered data indicating whether or into which articles the substance might have been processed.'],\n",
       " 'widespread uses by professional workers': ['ECHA has no public registered data indicating whether or in which chemical products the substance might be used.',\n",
       "  'ECHA has no public registered data on the types of manufacture using this substance.',\n",
       "  'ECHA has no public registered data on the use of this substance in activities or processes at the workplace.',\n",
       "  'ECHA has no public registered data on the routes by which this substance is most likely to be released to the environment.'],\n",
       " 'formulation or re-packing': ['ECHA has no public registered data indicating whether or in which chemical products the substance might be used.',\n",
       "  'This substance is used in the following activities or processes at workplace: transfer of substance into small containers.',\n",
       "  'Release to the environment of this substance can occur from industrial use: formulation of mixtures.'],\n",
       " 'uses at industrial sites': ['ECHA has no public registered data indicating whether or in which chemical products the substance might be used.',\n",
       "  'ECHA has no public registered data on the types of manufacture using this substance.',\n",
       "  'This substance is used in the following activities or processes at workplace: closed processes with no likelihood of exposure, closed batch processing in synthesis or formulation and transfer of chemicals at dedicated facilities.',\n",
       "  'ECHA has no public registered data on the routes by which this substance is most likely to be released to the environment.'],\n",
       " 'manufacture': ['This substance is used in the following activities or processes at workplace: closed batch processing in synthesis or formulation.',\n",
       "  'Release to the environment of this substance can occur from industrial use: manufacturing of the substance.']}"
      ]
     },
     "execution_count": 11,
     "metadata": {},
     "output_type": "execute_result"
    }
   ],
   "source": [
    "out[keys[0]]"
   ]
  },
  {
   "cell_type": "code",
   "execution_count": 13,
   "metadata": {},
   "outputs": [],
   "source": [
    "df = pd.read_json('out_commas.json')"
   ]
  },
  {
   "cell_type": "code",
   "execution_count": 15,
   "metadata": {},
   "outputs": [
    {
     "data": {
      "text/html": [
       "<div>\n",
       "<style scoped>\n",
       "    .dataframe tbody tr th:only-of-type {\n",
       "        vertical-align: middle;\n",
       "    }\n",
       "\n",
       "    .dataframe tbody tr th {\n",
       "        vertical-align: top;\n",
       "    }\n",
       "\n",
       "    .dataframe thead th {\n",
       "        text-align: right;\n",
       "    }\n",
       "</style>\n",
       "<table border=\"1\" class=\"dataframe\">\n",
       "  <thead>\n",
       "    <tr style=\"text-align: right;\">\n",
       "      <th></th>\n",
       "      <th>general</th>\n",
       "      <th>consumer uses</th>\n",
       "      <th>article service life</th>\n",
       "      <th>widespread uses by professional workers</th>\n",
       "      <th>formulation or re-packing</th>\n",
       "      <th>uses at industrial sites</th>\n",
       "      <th>manufacture</th>\n",
       "      <th>biocidal uses</th>\n",
       "    </tr>\n",
       "  </thead>\n",
       "  <tbody>\n",
       "    <tr>\n",
       "      <th>203-770-8</th>\n",
       "      <td>[This substance is registered under the REACH ...</td>\n",
       "      <td>[This substance is used in the following produ...</td>\n",
       "      <td>[ECHA has no public registered data on the use...</td>\n",
       "      <td>[ECHA has no public registered data indicating...</td>\n",
       "      <td>[ECHA has no public registered data indicating...</td>\n",
       "      <td>[ECHA has no public registered data indicating...</td>\n",
       "      <td>[This substance is used in the following activ...</td>\n",
       "      <td>NaN</td>\n",
       "    </tr>\n",
       "    <tr>\n",
       "      <th>246-466-0</th>\n",
       "      <td>[This substance is registered under the REACH ...</td>\n",
       "      <td>[This substance is used in the following produ...</td>\n",
       "      <td>[ECHA has no public registered data on the use...</td>\n",
       "      <td>[ECHA has no public registered data indicating...</td>\n",
       "      <td>[ECHA has no public registered data indicating...</td>\n",
       "      <td>[ECHA has no public registered data indicating...</td>\n",
       "      <td>[This substance is used in the following activ...</td>\n",
       "      <td>NaN</td>\n",
       "    </tr>\n",
       "    <tr>\n",
       "      <th>207-355-2</th>\n",
       "      <td>[This substance is registered under the REACH ...</td>\n",
       "      <td>[This substance is used in the following produ...</td>\n",
       "      <td>[ECHA has no public registered data on the use...</td>\n",
       "      <td>[This substance is used in the following produ...</td>\n",
       "      <td>[This substance is used in the following produ...</td>\n",
       "      <td>[This substance is used in the following produ...</td>\n",
       "      <td>[This substance is used in the following activ...</td>\n",
       "      <td>NaN</td>\n",
       "    </tr>\n",
       "    <tr>\n",
       "      <th>252-036-3</th>\n",
       "      <td>[This substance is registered under the REACH ...</td>\n",
       "      <td>[This substance is used in the following produ...</td>\n",
       "      <td>[ECHA has no public registered data on the use...</td>\n",
       "      <td>[This substance is used in the following produ...</td>\n",
       "      <td>[This substance is used in the following produ...</td>\n",
       "      <td>[This substance is used in the following produ...</td>\n",
       "      <td>[This substance is used in the following activ...</td>\n",
       "      <td>NaN</td>\n",
       "    </tr>\n",
       "    <tr>\n",
       "      <th>214-275-1</th>\n",
       "      <td>[This substance is registered under the REACH ...</td>\n",
       "      <td>[ECHA has no public registered data indicating...</td>\n",
       "      <td>[ECHA has no public registered data on the use...</td>\n",
       "      <td>[This substance is used in the following produ...</td>\n",
       "      <td>[ECHA has no public registered data indicating...</td>\n",
       "      <td>[This substance is used in the following produ...</td>\n",
       "      <td>[ECHA has no public registered data on the use...</td>\n",
       "      <td>NaN</td>\n",
       "    </tr>\n",
       "  </tbody>\n",
       "</table>\n",
       "</div>"
      ],
      "text/plain": [
       "                                                     general  \\\n",
       "203-770-8  [This substance is registered under the REACH ...   \n",
       "246-466-0  [This substance is registered under the REACH ...   \n",
       "207-355-2  [This substance is registered under the REACH ...   \n",
       "252-036-3  [This substance is registered under the REACH ...   \n",
       "214-275-1  [This substance is registered under the REACH ...   \n",
       "\n",
       "                                               consumer uses  \\\n",
       "203-770-8  [This substance is used in the following produ...   \n",
       "246-466-0  [This substance is used in the following produ...   \n",
       "207-355-2  [This substance is used in the following produ...   \n",
       "252-036-3  [This substance is used in the following produ...   \n",
       "214-275-1  [ECHA has no public registered data indicating...   \n",
       "\n",
       "                                        article service life  \\\n",
       "203-770-8  [ECHA has no public registered data on the use...   \n",
       "246-466-0  [ECHA has no public registered data on the use...   \n",
       "207-355-2  [ECHA has no public registered data on the use...   \n",
       "252-036-3  [ECHA has no public registered data on the use...   \n",
       "214-275-1  [ECHA has no public registered data on the use...   \n",
       "\n",
       "                     widespread uses by professional workers  \\\n",
       "203-770-8  [ECHA has no public registered data indicating...   \n",
       "246-466-0  [ECHA has no public registered data indicating...   \n",
       "207-355-2  [This substance is used in the following produ...   \n",
       "252-036-3  [This substance is used in the following produ...   \n",
       "214-275-1  [This substance is used in the following produ...   \n",
       "\n",
       "                                   formulation or re-packing  \\\n",
       "203-770-8  [ECHA has no public registered data indicating...   \n",
       "246-466-0  [ECHA has no public registered data indicating...   \n",
       "207-355-2  [This substance is used in the following produ...   \n",
       "252-036-3  [This substance is used in the following produ...   \n",
       "214-275-1  [ECHA has no public registered data indicating...   \n",
       "\n",
       "                                    uses at industrial sites  \\\n",
       "203-770-8  [ECHA has no public registered data indicating...   \n",
       "246-466-0  [ECHA has no public registered data indicating...   \n",
       "207-355-2  [This substance is used in the following produ...   \n",
       "252-036-3  [This substance is used in the following produ...   \n",
       "214-275-1  [This substance is used in the following produ...   \n",
       "\n",
       "                                                 manufacture biocidal uses  \n",
       "203-770-8  [This substance is used in the following activ...           NaN  \n",
       "246-466-0  [This substance is used in the following activ...           NaN  \n",
       "207-355-2  [This substance is used in the following activ...           NaN  \n",
       "252-036-3  [This substance is used in the following activ...           NaN  \n",
       "214-275-1  [ECHA has no public registered data on the use...           NaN  "
      ]
     },
     "execution_count": 15,
     "metadata": {},
     "output_type": "execute_result"
    }
   ],
   "source": [
    "df.T.head()"
   ]
  },
  {
   "cell_type": "code",
   "execution_count": 50,
   "metadata": {},
   "outputs": [],
   "source": [
    "uses = df.T['consumer uses']"
   ]
  },
  {
   "cell_type": "code",
   "execution_count": 51,
   "metadata": {},
   "outputs": [],
   "source": [
    "test_uses = [r[1] for r in uses[:4].map(lambda x: x[0]).iteritems()]"
   ]
  },
  {
   "cell_type": "code",
   "execution_count": 52,
   "metadata": {},
   "outputs": [
    {
     "name": "stdout",
     "output_type": "stream",
     "text": [
      "This substance is used in the following products: leather treatment products and washing & cleaning products.\n"
     ]
    }
   ],
   "source": [
    "x = test_uses[0]\n",
    "print(x)"
   ]
  },
  {
   "cell_type": "code",
   "execution_count": 53,
   "metadata": {},
   "outputs": [],
   "source": [
    "import re"
   ]
  },
  {
   "cell_type": "code",
   "execution_count": 55,
   "metadata": {},
   "outputs": [],
   "source": [
    "pat = re.compile(r'[a-zA-Z ]+: (.+)')"
   ]
  },
  {
   "cell_type": "code",
   "execution_count": 56,
   "metadata": {},
   "outputs": [],
   "source": [
    "m = re.match(pat, test_uses[0])"
   ]
  },
  {
   "cell_type": "code",
   "execution_count": 57,
   "metadata": {},
   "outputs": [
    {
     "data": {
      "text/plain": [
       "<re.Match object; span=(0, 109), match='This substance is used in the following products:>"
      ]
     },
     "execution_count": 57,
     "metadata": {},
     "output_type": "execute_result"
    }
   ],
   "source": [
    "m"
   ]
  },
  {
   "cell_type": "code",
   "execution_count": 60,
   "metadata": {},
   "outputs": [],
   "source": [
    "test_uses2 = [re.match(pat, x).group(1).rstrip('.') for x in test_uses]"
   ]
  },
  {
   "cell_type": "code",
   "execution_count": 61,
   "metadata": {},
   "outputs": [
    {
     "data": {
      "text/plain": [
       "['leather treatment products and washing & cleaning products',\n",
       " 'lubricants and greases and anti-freeze products',\n",
       " 'perfumes and fragrances, cosmetics and personal care products, air care products, biocides (e.g. disinfectants, pest control products), polishes and waxes, washing & cleaning products, fuels and inks and toners',\n",
       " 'plant protection products']"
      ]
     },
     "execution_count": 61,
     "metadata": {},
     "output_type": "execute_result"
    }
   ],
   "source": [
    "test_uses2"
   ]
  },
  {
   "cell_type": "code",
   "execution_count": 80,
   "metadata": {},
   "outputs": [],
   "source": [
    "with open('product_categories.txt', 'r') as f:\n",
    "    pc = f.read()"
   ]
  },
  {
   "cell_type": "code",
   "execution_count": 73,
   "metadata": {},
   "outputs": [],
   "source": [
    "pat = re.compile(r'(PC [0-9abc]{1,2}): (.+)')"
   ]
  },
  {
   "cell_type": "code",
   "execution_count": 74,
   "metadata": {},
   "outputs": [],
   "source": [
    "product_categories = {}\n",
    "for x in pc:\n",
    "    m = re.match(pat, x)\n",
    "    product_categories[m.group(2).lower()] = m.group(1)"
   ]
  },
  {
   "cell_type": "code",
   "execution_count": 75,
   "metadata": {},
   "outputs": [
    {
     "data": {
      "text/plain": [
       "dict_items([('other', 'PC 0'), ('adhesives, sealants', 'PC 1'), ('adsorbents', 'PC 2'), ('air care products', 'PC 3'), ('anti-freeze and de-icing products', 'PC 4'), ('base metals and alloys', 'PC 7'), ('biocidal products (e.g. disinfectants, pest control)', 'PC 8'), ('coatings and paints, thinners, paint removes', 'PC 9a'), ('fillers, putties, plasters, modelling clay', 'PC 9b'), ('finger paints', 'PC 9c'), ('explosives', 'PC 11'), ('fertilisers', 'PC 12'), ('fuels', 'PC 13'), ('metal surface treatment products', 'PC 14'), ('non-metal-surface treatment products', 'PC 15'), ('heat transfer fluids', 'PC 16'), ('hydraulic fluids', 'PC 17'), ('ink and toners', 'PC 18'), ('intermediate', 'PC 19'), ('products such as ph-regulators, flocculants, precipitants, neutralisation agents', 'PC 20'), ('laboratory chemicals', 'PC 21'), ('leather treatment products', 'PC 23'), ('lubricants, greases, release products', 'PC 24'), ('metal working fluids', 'PC 25'), ('paper and board treatment products', 'PC 26'), ('plant protection products', 'PC 27'), ('perfumes, fragrances', 'PC 28'), ('pharmaceuticals', 'PC 29'), ('photo-chemicals', 'PC 30'), ('polishes and wax blends', 'PC 31'), ('polymer preparations and compounds', 'PC 32'), ('semiconductors', 'PC 33'), ('textile dyes, and impregnating products', 'PC 34'), ('washing and cleaning products', 'PC 35'), ('water softeners', 'PC 36'), ('water treatment chemicals\"', 'PC 37'), ('welding and soldering products, flux products', 'PC 38'), ('cosmetics, personal care products', 'PC 39'), ('extraction agents', 'PC 40'), ('oil and gas exploration or production products', 'PC 41'), ('electrolytes for batteries', 'PC 42')])"
      ]
     },
     "execution_count": 75,
     "metadata": {},
     "output_type": "execute_result"
    }
   ],
   "source": [
    "product_categories.items()"
   ]
  },
  {
   "cell_type": "code",
   "execution_count": 83,
   "metadata": {},
   "outputs": [
    {
     "data": {
      "text/plain": [
       "'PC 35'"
      ]
     },
     "execution_count": 83,
     "metadata": {},
     "output_type": "execute_result"
    }
   ],
   "source": [
    "product_categories['washing and cleaning products']"
   ]
  },
  {
   "cell_type": "code",
   "execution_count": 86,
   "metadata": {},
   "outputs": [],
   "source": [
    "complications = [k for k in product_categories.keys()\n",
    "        if ('and' in k) or (',' in k)]"
   ]
  },
  {
   "cell_type": "code",
   "execution_count": 88,
   "metadata": {
    "scrolled": true
   },
   "outputs": [
    {
     "data": {
      "text/plain": [
       "['PC 0',\n",
       " 'PC 1',\n",
       " 'PC 2',\n",
       " 'PC 3',\n",
       " 'PC 4',\n",
       " 'PC 7',\n",
       " 'PC 8',\n",
       " 'PC 9a',\n",
       " 'PC 9b',\n",
       " 'PC 9c',\n",
       " 'PC 11',\n",
       " 'PC 12',\n",
       " 'PC 13',\n",
       " 'PC 14',\n",
       " 'PC 15',\n",
       " 'PC 16',\n",
       " 'PC 17',\n",
       " 'PC 18',\n",
       " 'PC 19',\n",
       " 'PC 20',\n",
       " 'PC 21',\n",
       " 'PC 23',\n",
       " 'PC 24',\n",
       " 'PC 25',\n",
       " 'PC 26',\n",
       " 'PC 27',\n",
       " 'PC 28',\n",
       " 'PC 29',\n",
       " 'PC 30',\n",
       " 'PC 31',\n",
       " 'PC 32',\n",
       " 'PC 33',\n",
       " 'PC 34',\n",
       " 'PC 35',\n",
       " 'PC 36',\n",
       " 'PC 37',\n",
       " 'PC 38',\n",
       " 'PC 39',\n",
       " 'PC 40',\n",
       " 'PC 41',\n",
       " 'PC 42']"
      ]
     },
     "execution_count": 88,
     "metadata": {},
     "output_type": "execute_result"
    }
   ],
   "source": [
    "vals = [v for k, v in product_categories.items()]\n",
    "vals"
   ]
  },
  {
   "cell_type": "code",
   "execution_count": 89,
   "metadata": {},
   "outputs": [],
   "source": [
    "template = pd.Series(data=len(vals) * [0], index=vals)"
   ]
  },
  {
   "cell_type": "code",
   "execution_count": 91,
   "metadata": {},
   "outputs": [],
   "source": [
    "product_categories['washing & cleaning products'] = product_categories['washing and cleaning products']"
   ]
  },
  {
   "cell_type": "code",
   "execution_count": 94,
   "metadata": {},
   "outputs": [],
   "source": [
    "def get_pc(x):\n",
    "    result = template.copy()\n",
    "    for k in product_categories.keys():\n",
    "        if k in x:\n",
    "            result[product_categories[k]] = 1\n",
    "    return result"
   ]
  },
  {
   "cell_type": "code",
   "execution_count": 95,
   "metadata": {},
   "outputs": [
    {
     "data": {
      "text/plain": [
       "PC 0     0\n",
       "PC 1     0\n",
       "PC 2     0\n",
       "PC 3     0\n",
       "PC 4     0\n",
       "PC 7     0\n",
       "PC 8     0\n",
       "PC 9a    0\n",
       "PC 9b    0\n",
       "PC 9c    0\n",
       "PC 11    0\n",
       "PC 12    0\n",
       "PC 13    0\n",
       "PC 14    0\n",
       "PC 15    0\n",
       "PC 16    0\n",
       "PC 17    0\n",
       "PC 18    0\n",
       "PC 19    0\n",
       "PC 20    0\n",
       "PC 21    0\n",
       "PC 23    1\n",
       "PC 24    0\n",
       "PC 25    0\n",
       "PC 26    0\n",
       "PC 27    0\n",
       "PC 28    0\n",
       "PC 29    0\n",
       "PC 30    0\n",
       "PC 31    0\n",
       "PC 32    0\n",
       "PC 33    0\n",
       "PC 34    0\n",
       "PC 35    1\n",
       "PC 36    0\n",
       "PC 37    0\n",
       "PC 38    0\n",
       "PC 39    0\n",
       "PC 40    0\n",
       "PC 41    0\n",
       "PC 42    0\n",
       "dtype: int64"
      ]
     },
     "execution_count": 95,
     "metadata": {},
     "output_type": "execute_result"
    }
   ],
   "source": [
    "get_pc(test_uses2[0])"
   ]
  },
  {
   "cell_type": "code",
   "execution_count": null,
   "metadata": {},
   "outputs": [],
   "source": []
  }
 ],
 "metadata": {
  "kernelspec": {
   "display_name": "Python 3",
   "language": "python",
   "name": "python3"
  },
  "language_info": {
   "codemirror_mode": {
    "name": "ipython",
    "version": 3
   },
   "file_extension": ".py",
   "mimetype": "text/x-python",
   "name": "python",
   "nbconvert_exporter": "python",
   "pygments_lexer": "ipython3",
   "version": "3.9.5"
  }
 },
 "nbformat": 4,
 "nbformat_minor": 4
}
