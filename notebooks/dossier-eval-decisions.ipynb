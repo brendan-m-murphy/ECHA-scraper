{
 "cells": [
  {
   "cell_type": "code",
   "execution_count": 1,
   "metadata": {},
   "outputs": [],
   "source": [
    "import pandas as pd"
   ]
  },
  {
   "cell_type": "markdown",
   "metadata": {},
   "source": [
    "# Chemicals being evaluated"
   ]
  },
  {
   "cell_type": "code",
   "execution_count": 2,
   "metadata": {},
   "outputs": [],
   "source": [
    "df = pd.read_csv('dossier-evaluation-status-export.csv', sep='\\t', skiprows=16)\n",
    "\n",
    "df = df.drop(columns=['Unnamed: 13'])"
   ]
  },
  {
   "cell_type": "code",
   "execution_count": 4,
   "metadata": {},
   "outputs": [
    {
     "name": "stdout",
     "output_type": "stream",
     "text": [
      "<class 'pandas.core.frame.DataFrame'>\n",
      "RangeIndex: 5890 entries, 0 to 5889\n",
      "Data columns (total 13 columns):\n",
      " #   Column                  Non-Null Count  Dtype \n",
      "---  ------                  --------------  ----- \n",
      " 0   Substance name          5890 non-null   object\n",
      " 1   Description             390 non-null    object\n",
      " 2   EC / List no            5890 non-null   object\n",
      " 3   CAS no                  5890 non-null   object\n",
      " 4   Decision type           5889 non-null   object\n",
      " 5   Scope                   5889 non-null   object\n",
      " 6   Status                  5880 non-null   object\n",
      " 7   Decision date           2823 non-null   object\n",
      " 8   Decision's deadline(s)  2790 non-null   object\n",
      " 9   Decision                2749 non-null   object\n",
      " 10  Appeal information      71 non-null     object\n",
      " 11  Dossier url             5754 non-null   object\n",
      " 12  Latest update           5890 non-null   object\n",
      "dtypes: object(13)\n",
      "memory usage: 598.3+ KB\n"
     ]
    }
   ],
   "source": [
    "df.info()"
   ]
  },
  {
   "cell_type": "markdown",
   "metadata": {},
   "source": [
    "# Substances used in cosmetics\n",
    "\n",
    "Searched ECHA registered substances for anything used for cosmetics (PC 39)"
   ]
  },
  {
   "cell_type": "code",
   "execution_count": 5,
   "metadata": {},
   "outputs": [],
   "source": [
    "cosmetics = pd.read_csv('cosmetics-substances-export.csv', sep='\\t', skiprows=39)\n",
    "\n",
    "cosmetics = cosmetics.drop(columns=['Unnamed: 13'])"
   ]
  },
  {
   "cell_type": "code",
   "execution_count": 6,
   "metadata": {},
   "outputs": [
    {
     "name": "stdout",
     "output_type": "stream",
     "text": [
      "<class 'pandas.core.frame.DataFrame'>\n",
      "RangeIndex: 2838 entries, 0 to 2837\n",
      "Data columns (total 13 columns):\n",
      " #   Column                      Non-Null Count  Dtype \n",
      "---  ------                      --------------  ----- \n",
      " 0   Name                        2838 non-null   object\n",
      " 1   EC / List Number            2838 non-null   object\n",
      " 2   Cas Number                  2838 non-null   object\n",
      " 3   ID                          2838 non-null   object\n",
      " 4   Registration Status         2838 non-null   object\n",
      " 5   Registration Type           2838 non-null   object\n",
      " 6   Submission Type             2838 non-null   object\n",
      " 7   Total tonnage Band          2838 non-null   object\n",
      " 8   Tonnage Band Min            2838 non-null   object\n",
      " 9   Tonnage Band Max            2838 non-null   object\n",
      " 10  Last Updated                2838 non-null   object\n",
      " 11  Factsheet URL               2767 non-null   object\n",
      " 12  Substance Information Page  2647 non-null   object\n",
      "dtypes: object(13)\n",
      "memory usage: 288.4+ KB\n"
     ]
    }
   ],
   "source": [
    "cosmetics.info()"
   ]
  },
  {
   "cell_type": "code",
   "execution_count": 8,
   "metadata": {},
   "outputs": [
    {
     "data": {
      "text/plain": [
       "Name                                                           (+)-bornan-2-one\n",
       "EC / List Number                                                      207-355-2\n",
       "Cas Number                                                             464-49-3\n",
       "ID                                                                  100.006.688\n",
       "Registration Status                                                      Active\n",
       "Registration Type                                                          Full\n",
       "Submission Type                                                           Joint\n",
       "Total tonnage Band                                       ≥ 100 to < 1000 tonnes\n",
       "Tonnage Band Min                                                            100\n",
       "Tonnage Band Max                                                           1000\n",
       "Last Updated                                                         16-03-2020\n",
       "Factsheet URL                 https://echa.europa.eu/registration-dossier/-/...\n",
       "Substance Information Page    https://echa.europa.eu/substance-information/-...\n",
       "Name: 0, dtype: object"
      ]
     },
     "execution_count": 8,
     "metadata": {},
     "output_type": "execute_result"
    }
   ],
   "source": [
    "cosmetics.iloc[0, :]"
   ]
  },
  {
   "cell_type": "code",
   "execution_count": 30,
   "metadata": {},
   "outputs": [
    {
     "data": {
      "text/plain": [
       "'https://echa.europa.eu/registration-dossier/-/registered-dossier/24627'"
      ]
     },
     "execution_count": 30,
     "metadata": {},
     "output_type": "execute_result"
    }
   ],
   "source": [
    "cosmetics.iloc[0, -2]"
   ]
  },
  {
   "cell_type": "code",
   "execution_count": 31,
   "metadata": {},
   "outputs": [
    {
     "data": {
      "text/plain": [
       "'https://echa.europa.eu/registration-dossier/-/registered-dossier/11919'"
      ]
     },
     "execution_count": 31,
     "metadata": {},
     "output_type": "execute_result"
    }
   ],
   "source": [
    "cosmetics.iloc[1, -2]"
   ]
  },
  {
   "cell_type": "code",
   "execution_count": 102,
   "metadata": {},
   "outputs": [
    {
     "data": {
      "text/html": [
       "<div>\n",
       "<style scoped>\n",
       "    .dataframe tbody tr th:only-of-type {\n",
       "        vertical-align: middle;\n",
       "    }\n",
       "\n",
       "    .dataframe tbody tr th {\n",
       "        vertical-align: top;\n",
       "    }\n",
       "\n",
       "    .dataframe thead th {\n",
       "        text-align: right;\n",
       "    }\n",
       "</style>\n",
       "<table border=\"1\" class=\"dataframe\">\n",
       "  <thead>\n",
       "    <tr style=\"text-align: right;\">\n",
       "      <th></th>\n",
       "      <th>EC / List no</th>\n",
       "      <th>ID</th>\n",
       "    </tr>\n",
       "  </thead>\n",
       "  <tbody>\n",
       "    <tr>\n",
       "      <th>0</th>\n",
       "      <td>207-355-2</td>\n",
       "      <td>100.006.688</td>\n",
       "    </tr>\n",
       "    <tr>\n",
       "      <th>1</th>\n",
       "      <td>214-275-1</td>\n",
       "      <td>100.012.978</td>\n",
       "    </tr>\n",
       "    <tr>\n",
       "      <th>2</th>\n",
       "      <td>239-387-8</td>\n",
       "      <td>100.035.791</td>\n",
       "    </tr>\n",
       "    <tr>\n",
       "      <th>3</th>\n",
       "      <td>218-691-4</td>\n",
       "      <td>100.016.993</td>\n",
       "    </tr>\n",
       "    <tr>\n",
       "      <th>4</th>\n",
       "      <td>201-766-0</td>\n",
       "      <td>100.001.606</td>\n",
       "    </tr>\n",
       "  </tbody>\n",
       "</table>\n",
       "</div>"
      ],
      "text/plain": [
       "  EC / List no           ID\n",
       "0    207-355-2  100.006.688\n",
       "1    214-275-1  100.012.978\n",
       "2    239-387-8  100.035.791\n",
       "3    218-691-4  100.016.993\n",
       "4    201-766-0  100.001.606"
      ]
     },
     "execution_count": 102,
     "metadata": {},
     "output_type": "execute_result"
    }
   ],
   "source": [
    "df_cos = cosmetics[['EC / List Number', 'ID']]\n",
    "df_cos.columns = ['EC / List no', 'ID']\n",
    "df_cos.head()"
   ]
  },
  {
   "cell_type": "code",
   "execution_count": 103,
   "metadata": {},
   "outputs": [],
   "source": [
    "def make_url(x):\n",
    "    return 'https://echa.europa.eu/brief-profile/-/briefprofile/' + x"
   ]
  },
  {
   "cell_type": "code",
   "execution_count": 104,
   "metadata": {},
   "outputs": [
    {
     "name": "stderr",
     "output_type": "stream",
     "text": [
      "<ipython-input-104-79cd433c4f33>:1: SettingWithCopyWarning: \n",
      "A value is trying to be set on a copy of a slice from a DataFrame.\n",
      "Try using .loc[row_indexer,col_indexer] = value instead\n",
      "\n",
      "See the caveats in the documentation: https://pandas.pydata.org/pandas-docs/stable/user_guide/indexing.html#returning-a-view-versus-a-copy\n",
      "  df_cos['brief profile'] = df_cos['ID'].copy().map(make_url)\n"
     ]
    }
   ],
   "source": [
    "df_cos['brief profile'] = df_cos['ID'].copy().map(make_url)"
   ]
  },
  {
   "cell_type": "code",
   "execution_count": 105,
   "metadata": {},
   "outputs": [
    {
     "name": "stderr",
     "output_type": "stream",
     "text": [
      "/opt/anaconda3/envs/data_engineer_nd/lib/python3.8/site-packages/pandas/core/frame.py:4163: SettingWithCopyWarning: \n",
      "A value is trying to be set on a copy of a slice from a DataFrame\n",
      "\n",
      "See the caveats in the documentation: https://pandas.pydata.org/pandas-docs/stable/user_guide/indexing.html#returning-a-view-versus-a-copy\n",
      "  return super().drop(\n"
     ]
    }
   ],
   "source": [
    "df_cos.drop(columns=['ID'], inplace=True)"
   ]
  },
  {
   "cell_type": "code",
   "execution_count": 106,
   "metadata": {},
   "outputs": [
    {
     "data": {
      "text/html": [
       "<div>\n",
       "<style scoped>\n",
       "    .dataframe tbody tr th:only-of-type {\n",
       "        vertical-align: middle;\n",
       "    }\n",
       "\n",
       "    .dataframe tbody tr th {\n",
       "        vertical-align: top;\n",
       "    }\n",
       "\n",
       "    .dataframe thead th {\n",
       "        text-align: right;\n",
       "    }\n",
       "</style>\n",
       "<table border=\"1\" class=\"dataframe\">\n",
       "  <thead>\n",
       "    <tr style=\"text-align: right;\">\n",
       "      <th></th>\n",
       "      <th>EC / List no</th>\n",
       "      <th>brief profile</th>\n",
       "    </tr>\n",
       "  </thead>\n",
       "  <tbody>\n",
       "    <tr>\n",
       "      <th>0</th>\n",
       "      <td>207-355-2</td>\n",
       "      <td>https://echa.europa.eu/brief-profile/-/briefpr...</td>\n",
       "    </tr>\n",
       "    <tr>\n",
       "      <th>1</th>\n",
       "      <td>214-275-1</td>\n",
       "      <td>https://echa.europa.eu/brief-profile/-/briefpr...</td>\n",
       "    </tr>\n",
       "    <tr>\n",
       "      <th>2</th>\n",
       "      <td>239-387-8</td>\n",
       "      <td>https://echa.europa.eu/brief-profile/-/briefpr...</td>\n",
       "    </tr>\n",
       "    <tr>\n",
       "      <th>3</th>\n",
       "      <td>218-691-4</td>\n",
       "      <td>https://echa.europa.eu/brief-profile/-/briefpr...</td>\n",
       "    </tr>\n",
       "    <tr>\n",
       "      <th>4</th>\n",
       "      <td>201-766-0</td>\n",
       "      <td>https://echa.europa.eu/brief-profile/-/briefpr...</td>\n",
       "    </tr>\n",
       "  </tbody>\n",
       "</table>\n",
       "</div>"
      ],
      "text/plain": [
       "  EC / List no                                      brief profile\n",
       "0    207-355-2  https://echa.europa.eu/brief-profile/-/briefpr...\n",
       "1    214-275-1  https://echa.europa.eu/brief-profile/-/briefpr...\n",
       "2    239-387-8  https://echa.europa.eu/brief-profile/-/briefpr...\n",
       "3    218-691-4  https://echa.europa.eu/brief-profile/-/briefpr...\n",
       "4    201-766-0  https://echa.europa.eu/brief-profile/-/briefpr..."
      ]
     },
     "execution_count": 106,
     "metadata": {},
     "output_type": "execute_result"
    }
   ],
   "source": [
    "df_cos.head()"
   ]
  },
  {
   "cell_type": "code",
   "execution_count": 87,
   "metadata": {},
   "outputs": [],
   "source": [
    "used_in_cosmetics = df['EC / List no'].isin(cosmetics['EC / List Number'].unique())"
   ]
  },
  {
   "cell_type": "markdown",
   "metadata": {},
   "source": [
    "# Merged data"
   ]
  },
  {
   "cell_type": "code",
   "execution_count": 40,
   "metadata": {},
   "outputs": [],
   "source": [
    "df = pd.merge(df, df_cos, on='EC / List no')"
   ]
  },
  {
   "cell_type": "code",
   "execution_count": 45,
   "metadata": {},
   "outputs": [
    {
     "name": "stdout",
     "output_type": "stream",
     "text": [
      "<class 'pandas.core.frame.DataFrame'>\n",
      "Int64Index: 1862 entries, 0 to 1861\n",
      "Data columns (total 14 columns):\n",
      " #   Column                  Non-Null Count  Dtype \n",
      "---  ------                  --------------  ----- \n",
      " 0   Substance name          1862 non-null   object\n",
      " 1   Description             131 non-null    object\n",
      " 2   EC / List no            1862 non-null   object\n",
      " 3   CAS no                  1862 non-null   object\n",
      " 4   Decision type           1862 non-null   object\n",
      " 5   Scope                   1862 non-null   object\n",
      " 6   Status                  1862 non-null   object\n",
      " 7   Decision date           761 non-null    object\n",
      " 8   Decision's deadline(s)  758 non-null    object\n",
      " 9   Decision                727 non-null    object\n",
      " 10  Appeal information      15 non-null     object\n",
      " 11  Dossier url             1813 non-null   object\n",
      " 12  Latest update           1862 non-null   object\n",
      " 13  ID                      1862 non-null   object\n",
      "dtypes: object(14)\n",
      "memory usage: 218.2+ KB\n"
     ]
    }
   ],
   "source": [
    "df.info()"
   ]
  },
  {
   "cell_type": "code",
   "execution_count": 47,
   "metadata": {},
   "outputs": [],
   "source": [
    "df['Latest update'] = pd.to_datetime(df['Latest update'], dayfirst=True)"
   ]
  },
  {
   "cell_type": "code",
   "execution_count": 50,
   "metadata": {},
   "outputs": [
    {
     "data": {
      "text/html": [
       "<div>\n",
       "<style scoped>\n",
       "    .dataframe tbody tr th:only-of-type {\n",
       "        vertical-align: middle;\n",
       "    }\n",
       "\n",
       "    .dataframe tbody tr th {\n",
       "        vertical-align: top;\n",
       "    }\n",
       "\n",
       "    .dataframe thead th {\n",
       "        text-align: right;\n",
       "    }\n",
       "</style>\n",
       "<table border=\"1\" class=\"dataframe\">\n",
       "  <thead>\n",
       "    <tr style=\"text-align: right;\">\n",
       "      <th></th>\n",
       "      <th>Substance name</th>\n",
       "      <th>Description</th>\n",
       "      <th>EC / List no</th>\n",
       "      <th>CAS no</th>\n",
       "      <th>Decision type</th>\n",
       "      <th>Scope</th>\n",
       "      <th>Status</th>\n",
       "      <th>Decision date</th>\n",
       "      <th>Decision's deadline(s)</th>\n",
       "      <th>Decision</th>\n",
       "      <th>Appeal information</th>\n",
       "      <th>Dossier url</th>\n",
       "      <th>Latest update</th>\n",
       "      <th>ID</th>\n",
       "    </tr>\n",
       "  </thead>\n",
       "  <tbody>\n",
       "    <tr>\n",
       "      <th>0</th>\n",
       "      <td>Camphene</td>\n",
       "      <td>NaN</td>\n",
       "      <td>201-234-8</td>\n",
       "      <td>79-92-5</td>\n",
       "      <td>TPE</td>\n",
       "      <td>Testing Proposal</td>\n",
       "      <td>Ongoing</td>\n",
       "      <td>NaN</td>\n",
       "      <td>NaN</td>\n",
       "      <td>NaN</td>\n",
       "      <td>NaN</td>\n",
       "      <td>https://www.echa.europa.eu/web/guest/registrat...</td>\n",
       "      <td>2021-03-18</td>\n",
       "      <td>100.001.123</td>\n",
       "    </tr>\n",
       "    <tr>\n",
       "      <th>1</th>\n",
       "      <td>Camphene</td>\n",
       "      <td>NaN</td>\n",
       "      <td>201-234-8</td>\n",
       "      <td>79-92-5</td>\n",
       "      <td>CCH</td>\n",
       "      <td>Comprehensive</td>\n",
       "      <td>Ongoing</td>\n",
       "      <td>NaN</td>\n",
       "      <td>NaN</td>\n",
       "      <td>NaN</td>\n",
       "      <td>NaN</td>\n",
       "      <td>https://www.echa.europa.eu/web/guest/registrat...</td>\n",
       "      <td>2021-03-18</td>\n",
       "      <td>100.001.123</td>\n",
       "    </tr>\n",
       "    <tr>\n",
       "      <th>4</th>\n",
       "      <td>1-aminopropan-2-ol</td>\n",
       "      <td>NaN</td>\n",
       "      <td>201-162-7</td>\n",
       "      <td>78-96-6</td>\n",
       "      <td>TPE</td>\n",
       "      <td>Testing Proposal</td>\n",
       "      <td>Information requested</td>\n",
       "      <td>16/03/2021</td>\n",
       "      <td>21/06/2022</td>\n",
       "      <td>NaN</td>\n",
       "      <td>NaN</td>\n",
       "      <td>https://www.echa.europa.eu/web/guest/registrat...</td>\n",
       "      <td>2021-03-18</td>\n",
       "      <td>100.001.057</td>\n",
       "    </tr>\n",
       "    <tr>\n",
       "      <th>5</th>\n",
       "      <td>1-aminopropan-2-ol</td>\n",
       "      <td>NaN</td>\n",
       "      <td>201-162-7</td>\n",
       "      <td>78-96-6</td>\n",
       "      <td>CCH</td>\n",
       "      <td>Comprehensive</td>\n",
       "      <td>Information requested</td>\n",
       "      <td>16/03/2021</td>\n",
       "      <td>24/06/2024</td>\n",
       "      <td>NaN</td>\n",
       "      <td>NaN</td>\n",
       "      <td>https://www.echa.europa.eu/web/guest/registrat...</td>\n",
       "      <td>2021-03-18</td>\n",
       "      <td>100.001.057</td>\n",
       "    </tr>\n",
       "    <tr>\n",
       "      <th>6</th>\n",
       "      <td>Hydrocarbons, C10-14 (even numbered), n-alkane...</td>\n",
       "      <td>NaN</td>\n",
       "      <td>701-035-0</td>\n",
       "      <td>-</td>\n",
       "      <td>TPE</td>\n",
       "      <td>Testing Proposal</td>\n",
       "      <td>Concluded</td>\n",
       "      <td>NaN</td>\n",
       "      <td>NaN</td>\n",
       "      <td>NaN</td>\n",
       "      <td>NaN</td>\n",
       "      <td>https://www.echa.europa.eu/web/guest/registrat...</td>\n",
       "      <td>2021-03-16</td>\n",
       "      <td>100.266.401</td>\n",
       "    </tr>\n",
       "  </tbody>\n",
       "</table>\n",
       "</div>"
      ],
      "text/plain": [
       "                                      Substance name Description EC / List no  \\\n",
       "0                                           Camphene         NaN    201-234-8   \n",
       "1                                           Camphene         NaN    201-234-8   \n",
       "4                                 1-aminopropan-2-ol         NaN    201-162-7   \n",
       "5                                 1-aminopropan-2-ol         NaN    201-162-7   \n",
       "6  Hydrocarbons, C10-14 (even numbered), n-alkane...         NaN    701-035-0   \n",
       "\n",
       "    CAS no Decision type             Scope                 Status  \\\n",
       "0  79-92-5           TPE  Testing Proposal                Ongoing   \n",
       "1  79-92-5           CCH     Comprehensive                Ongoing   \n",
       "4  78-96-6           TPE  Testing Proposal  Information requested   \n",
       "5  78-96-6           CCH     Comprehensive  Information requested   \n",
       "6        -           TPE  Testing Proposal              Concluded   \n",
       "\n",
       "  Decision date Decision's deadline(s) Decision Appeal information   \\\n",
       "0           NaN                    NaN      NaN                 NaN   \n",
       "1           NaN                    NaN      NaN                 NaN   \n",
       "4    16/03/2021             21/06/2022      NaN                 NaN   \n",
       "5    16/03/2021             24/06/2024      NaN                 NaN   \n",
       "6           NaN                    NaN      NaN                 NaN   \n",
       "\n",
       "                                         Dossier url Latest update  \\\n",
       "0  https://www.echa.europa.eu/web/guest/registrat...    2021-03-18   \n",
       "1  https://www.echa.europa.eu/web/guest/registrat...    2021-03-18   \n",
       "4  https://www.echa.europa.eu/web/guest/registrat...    2021-03-18   \n",
       "5  https://www.echa.europa.eu/web/guest/registrat...    2021-03-18   \n",
       "6  https://www.echa.europa.eu/web/guest/registrat...    2021-03-16   \n",
       "\n",
       "            ID  \n",
       "0  100.001.123  \n",
       "1  100.001.123  \n",
       "4  100.001.057  \n",
       "5  100.001.057  \n",
       "6  100.266.401  "
      ]
     },
     "execution_count": 50,
     "metadata": {},
     "output_type": "execute_result"
    }
   ],
   "source": [
    "df.sort_values(by='Latest update', ascending=False).head()"
   ]
  },
  {
   "cell_type": "markdown",
   "metadata": {},
   "source": [
    "# All substances that have non-cosmetic uses\n",
    "\n",
    "Searched https://echa.europa.eu/information-on-chemicals/registered-substances?p_p_id=dissregisteredsubstances_WAR_dissregsubsportlet&p_p_lifecycle=1&p_p_state=normal&p_p_mode=view&p_p_col_id=column-1&p_p_col_pos=1&p_p_col_count=2&_dissregisteredsubstances_WAR_dissregsubsportlet_javax.portlet.action=dissRegisteredSubstancesAction\n",
    "\n",
    "for all substances with any use besides cosmetics (PC 39).\n",
    "\n",
    "Exported as 'non-cosmetics-substances-export.csv'."
   ]
  },
  {
   "cell_type": "code",
   "execution_count": 88,
   "metadata": {},
   "outputs": [],
   "source": [
    "non_cosmetics = pd.read_csv('non-cosmetics-substances-export.csv', sep='\\t', skiprows=78)"
   ]
  },
  {
   "cell_type": "code",
   "execution_count": 89,
   "metadata": {},
   "outputs": [],
   "source": [
    "non_cosmetics.drop(columns=['Unnamed: 13'], inplace=True)"
   ]
  },
  {
   "cell_type": "code",
   "execution_count": 90,
   "metadata": {},
   "outputs": [],
   "source": [
    "filt = df['EC / List no'].isin(non_cosmetics['EC / List Number'].unique())"
   ]
  },
  {
   "cell_type": "code",
   "execution_count": 91,
   "metadata": {},
   "outputs": [
    {
     "data": {
      "text/html": [
       "<div>\n",
       "<style scoped>\n",
       "    .dataframe tbody tr th:only-of-type {\n",
       "        vertical-align: middle;\n",
       "    }\n",
       "\n",
       "    .dataframe tbody tr th {\n",
       "        vertical-align: top;\n",
       "    }\n",
       "\n",
       "    .dataframe thead th {\n",
       "        text-align: right;\n",
       "    }\n",
       "</style>\n",
       "<table border=\"1\" class=\"dataframe\">\n",
       "  <thead>\n",
       "    <tr style=\"text-align: right;\">\n",
       "      <th></th>\n",
       "      <th>Substance name</th>\n",
       "      <th>Description</th>\n",
       "      <th>EC / List no</th>\n",
       "      <th>CAS no</th>\n",
       "      <th>Decision type</th>\n",
       "      <th>Scope</th>\n",
       "      <th>Status</th>\n",
       "      <th>Decision date</th>\n",
       "      <th>Decision's deadline(s)</th>\n",
       "      <th>Decision</th>\n",
       "      <th>Appeal information</th>\n",
       "      <th>Dossier url</th>\n",
       "      <th>Latest update</th>\n",
       "    </tr>\n",
       "  </thead>\n",
       "  <tbody>\n",
       "    <tr>\n",
       "      <th>19</th>\n",
       "      <td>Star anise, Illicium verum, ext.</td>\n",
       "      <td>Extractives and their physically modified deri...</td>\n",
       "      <td>283-518-1</td>\n",
       "      <td>84650-59-9</td>\n",
       "      <td>TPE</td>\n",
       "      <td>Testing Proposal</td>\n",
       "      <td>Under assessment</td>\n",
       "      <td>NaN</td>\n",
       "      <td>NaN</td>\n",
       "      <td>NaN</td>\n",
       "      <td>NaN</td>\n",
       "      <td>https://www.echa.europa.eu/web/guest/registrat...</td>\n",
       "      <td>15/03/2021</td>\n",
       "    </tr>\n",
       "    <tr>\n",
       "      <th>21</th>\n",
       "      <td>Sodium hydrogen N-(1-oxotetradecyl)-L-glutamate</td>\n",
       "      <td>NaN</td>\n",
       "      <td>253-981-4</td>\n",
       "      <td>38517-37-2</td>\n",
       "      <td>TPE</td>\n",
       "      <td>Testing Proposal</td>\n",
       "      <td>Concluded</td>\n",
       "      <td>20/01/2021</td>\n",
       "      <td>NaN</td>\n",
       "      <td>https://www.echa.europa.eu/documents/10162/a5d...</td>\n",
       "      <td>NaN</td>\n",
       "      <td>https://www.echa.europa.eu/web/guest/registrat...</td>\n",
       "      <td>15/03/2021</td>\n",
       "    </tr>\n",
       "    <tr>\n",
       "      <th>77</th>\n",
       "      <td>Propane-1,3-diol</td>\n",
       "      <td>NaN</td>\n",
       "      <td>207-997-3</td>\n",
       "      <td>504-63-2</td>\n",
       "      <td>CCH</td>\n",
       "      <td>Comprehensive</td>\n",
       "      <td>Under assessment</td>\n",
       "      <td>NaN</td>\n",
       "      <td>NaN</td>\n",
       "      <td>NaN</td>\n",
       "      <td>NaN</td>\n",
       "      <td>https://www.echa.europa.eu/web/guest/registrat...</td>\n",
       "      <td>08/03/2021</td>\n",
       "    </tr>\n",
       "    <tr>\n",
       "      <th>131</th>\n",
       "      <td>Sodium salts of [[(phosphonomethyl)imino]bis[e...</td>\n",
       "      <td>NaN</td>\n",
       "      <td>701-216-4</td>\n",
       "      <td>-</td>\n",
       "      <td>TPE</td>\n",
       "      <td>Testing Proposal</td>\n",
       "      <td>Follow-up</td>\n",
       "      <td>14/02/2020</td>\n",
       "      <td>19/02/2021</td>\n",
       "      <td>https://www.echa.europa.eu/documents/10162/4b8...</td>\n",
       "      <td>NaN</td>\n",
       "      <td>https://www.echa.europa.eu/web/guest/registrat...</td>\n",
       "      <td>23/02/2021</td>\n",
       "    </tr>\n",
       "    <tr>\n",
       "      <th>132</th>\n",
       "      <td>Sodium salts of [[(phosphonomethyl)imino]bis[e...</td>\n",
       "      <td>NaN</td>\n",
       "      <td>701-215-9</td>\n",
       "      <td>-</td>\n",
       "      <td>TPE</td>\n",
       "      <td>Testing Proposal</td>\n",
       "      <td>Follow-up</td>\n",
       "      <td>14/02/2020</td>\n",
       "      <td>19/02/2021</td>\n",
       "      <td>https://www.echa.europa.eu/documents/10162/d75...</td>\n",
       "      <td>NaN</td>\n",
       "      <td>https://www.echa.europa.eu/web/guest/registrat...</td>\n",
       "      <td>23/02/2021</td>\n",
       "    </tr>\n",
       "    <tr>\n",
       "      <th>...</th>\n",
       "      <td>...</td>\n",
       "      <td>...</td>\n",
       "      <td>...</td>\n",
       "      <td>...</td>\n",
       "      <td>...</td>\n",
       "      <td>...</td>\n",
       "      <td>...</td>\n",
       "      <td>...</td>\n",
       "      <td>...</td>\n",
       "      <td>...</td>\n",
       "      <td>...</td>\n",
       "      <td>...</td>\n",
       "      <td>...</td>\n",
       "    </tr>\n",
       "    <tr>\n",
       "      <th>4984</th>\n",
       "      <td>Oxydiethylene dibenzoate</td>\n",
       "      <td>NaN</td>\n",
       "      <td>204-407-6</td>\n",
       "      <td>120-55-8</td>\n",
       "      <td>CCH</td>\n",
       "      <td>Targeted</td>\n",
       "      <td>Concluded</td>\n",
       "      <td>22/09/2016</td>\n",
       "      <td>29/09/2017</td>\n",
       "      <td>https://www.echa.europa.eu/documents/10162/8f7...</td>\n",
       "      <td>NaN</td>\n",
       "      <td>https://www.echa.europa.eu/web/guest/registrat...</td>\n",
       "      <td>04/10/2018</td>\n",
       "    </tr>\n",
       "    <tr>\n",
       "      <th>4990</th>\n",
       "      <td>Orange, sweet, ext.</td>\n",
       "      <td>Extractives and their physically modified deri...</td>\n",
       "      <td>232-433-8</td>\n",
       "      <td>8028-48-6</td>\n",
       "      <td>CCH</td>\n",
       "      <td>Targeted</td>\n",
       "      <td>Concluded</td>\n",
       "      <td>20/05/2015</td>\n",
       "      <td>27/08/2015</td>\n",
       "      <td>https://www.echa.europa.eu/documents/10162/870...</td>\n",
       "      <td>NaN</td>\n",
       "      <td>https://www.echa.europa.eu/web/guest/registrat...</td>\n",
       "      <td>04/10/2018</td>\n",
       "    </tr>\n",
       "    <tr>\n",
       "      <th>4992</th>\n",
       "      <td>Oligomerisation products of ethylene oxide wit...</td>\n",
       "      <td>NaN</td>\n",
       "      <td>932-164-2</td>\n",
       "      <td>-</td>\n",
       "      <td>TPE</td>\n",
       "      <td>Testing Proposal</td>\n",
       "      <td>Concluded</td>\n",
       "      <td>05/11/2012</td>\n",
       "      <td>05/05/2014</td>\n",
       "      <td>https://www.echa.europa.eu/documents/10162/3f3...</td>\n",
       "      <td>NaN</td>\n",
       "      <td>https://www.echa.europa.eu/web/guest/registrat...</td>\n",
       "      <td>04/10/2018</td>\n",
       "    </tr>\n",
       "    <tr>\n",
       "      <th>4993</th>\n",
       "      <td>Oligomerisation products of ethylene oxide wit...</td>\n",
       "      <td>NaN</td>\n",
       "      <td>932-164-2</td>\n",
       "      <td>-</td>\n",
       "      <td>CCH</td>\n",
       "      <td>Targeted</td>\n",
       "      <td>Concluded</td>\n",
       "      <td>01/12/2014</td>\n",
       "      <td>08/12/2015</td>\n",
       "      <td>https://www.echa.europa.eu/documents/10162/fda...</td>\n",
       "      <td>NaN</td>\n",
       "      <td>https://www.echa.europa.eu/web/guest/registrat...</td>\n",
       "      <td>04/10/2018</td>\n",
       "    </tr>\n",
       "    <tr>\n",
       "      <th>5014</th>\n",
       "      <td>Nitromethane</td>\n",
       "      <td>NaN</td>\n",
       "      <td>200-876-6</td>\n",
       "      <td>75-52-5</td>\n",
       "      <td>TPE</td>\n",
       "      <td>Testing Proposal</td>\n",
       "      <td>Concluded</td>\n",
       "      <td>18/03/2015</td>\n",
       "      <td>27/06/2016</td>\n",
       "      <td>https://www.echa.europa.eu/documents/10162/239...</td>\n",
       "      <td>NaN</td>\n",
       "      <td>https://www.echa.europa.eu/web/guest/registrat...</td>\n",
       "      <td>04/10/2018</td>\n",
       "    </tr>\n",
       "  </tbody>\n",
       "</table>\n",
       "<p>405 rows × 13 columns</p>\n",
       "</div>"
      ],
      "text/plain": [
       "                                         Substance name  \\\n",
       "19                     Star anise, Illicium verum, ext.   \n",
       "21      Sodium hydrogen N-(1-oxotetradecyl)-L-glutamate   \n",
       "77                                     Propane-1,3-diol   \n",
       "131   Sodium salts of [[(phosphonomethyl)imino]bis[e...   \n",
       "132   Sodium salts of [[(phosphonomethyl)imino]bis[e...   \n",
       "...                                                 ...   \n",
       "4984                           Oxydiethylene dibenzoate   \n",
       "4990                                Orange, sweet, ext.   \n",
       "4992  Oligomerisation products of ethylene oxide wit...   \n",
       "4993  Oligomerisation products of ethylene oxide wit...   \n",
       "5014                                       Nitromethane   \n",
       "\n",
       "                                            Description EC / List no  \\\n",
       "19    Extractives and their physically modified deri...    283-518-1   \n",
       "21                                                  NaN    253-981-4   \n",
       "77                                                  NaN    207-997-3   \n",
       "131                                                 NaN    701-216-4   \n",
       "132                                                 NaN    701-215-9   \n",
       "...                                                 ...          ...   \n",
       "4984                                                NaN    204-407-6   \n",
       "4990  Extractives and their physically modified deri...    232-433-8   \n",
       "4992                                                NaN    932-164-2   \n",
       "4993                                                NaN    932-164-2   \n",
       "5014                                                NaN    200-876-6   \n",
       "\n",
       "          CAS no Decision type             Scope            Status  \\\n",
       "19    84650-59-9           TPE  Testing Proposal  Under assessment   \n",
       "21    38517-37-2           TPE  Testing Proposal         Concluded   \n",
       "77      504-63-2           CCH     Comprehensive  Under assessment   \n",
       "131            -           TPE  Testing Proposal         Follow-up   \n",
       "132            -           TPE  Testing Proposal         Follow-up   \n",
       "...          ...           ...               ...               ...   \n",
       "4984    120-55-8           CCH          Targeted         Concluded   \n",
       "4990   8028-48-6           CCH          Targeted         Concluded   \n",
       "4992           -           TPE  Testing Proposal         Concluded   \n",
       "4993           -           CCH          Targeted         Concluded   \n",
       "5014     75-52-5           TPE  Testing Proposal         Concluded   \n",
       "\n",
       "     Decision date Decision's deadline(s)  \\\n",
       "19             NaN                    NaN   \n",
       "21      20/01/2021                    NaN   \n",
       "77             NaN                    NaN   \n",
       "131     14/02/2020             19/02/2021   \n",
       "132     14/02/2020             19/02/2021   \n",
       "...            ...                    ...   \n",
       "4984    22/09/2016             29/09/2017   \n",
       "4990    20/05/2015             27/08/2015   \n",
       "4992    05/11/2012             05/05/2014   \n",
       "4993    01/12/2014             08/12/2015   \n",
       "5014    18/03/2015             27/06/2016   \n",
       "\n",
       "                                               Decision Appeal information   \\\n",
       "19                                                  NaN                 NaN   \n",
       "21    https://www.echa.europa.eu/documents/10162/a5d...                 NaN   \n",
       "77                                                  NaN                 NaN   \n",
       "131   https://www.echa.europa.eu/documents/10162/4b8...                 NaN   \n",
       "132   https://www.echa.europa.eu/documents/10162/d75...                 NaN   \n",
       "...                                                 ...                 ...   \n",
       "4984  https://www.echa.europa.eu/documents/10162/8f7...                 NaN   \n",
       "4990  https://www.echa.europa.eu/documents/10162/870...                 NaN   \n",
       "4992  https://www.echa.europa.eu/documents/10162/3f3...                 NaN   \n",
       "4993  https://www.echa.europa.eu/documents/10162/fda...                 NaN   \n",
       "5014  https://www.echa.europa.eu/documents/10162/239...                 NaN   \n",
       "\n",
       "                                            Dossier url Latest update  \n",
       "19    https://www.echa.europa.eu/web/guest/registrat...    15/03/2021  \n",
       "21    https://www.echa.europa.eu/web/guest/registrat...    15/03/2021  \n",
       "77    https://www.echa.europa.eu/web/guest/registrat...    08/03/2021  \n",
       "131   https://www.echa.europa.eu/web/guest/registrat...    23/02/2021  \n",
       "132   https://www.echa.europa.eu/web/guest/registrat...    23/02/2021  \n",
       "...                                                 ...           ...  \n",
       "4984  https://www.echa.europa.eu/web/guest/registrat...    04/10/2018  \n",
       "4990  https://www.echa.europa.eu/web/guest/registrat...    04/10/2018  \n",
       "4992  https://www.echa.europa.eu/web/guest/registrat...    04/10/2018  \n",
       "4993  https://www.echa.europa.eu/web/guest/registrat...    04/10/2018  \n",
       "5014  https://www.echa.europa.eu/web/guest/registrat...    04/10/2018  \n",
       "\n",
       "[405 rows x 13 columns]"
      ]
     },
     "execution_count": 91,
     "metadata": {},
     "output_type": "execute_result"
    }
   ],
   "source": [
    "df[~filt & used_in_cosmetics]"
   ]
  },
  {
   "cell_type": "code",
   "execution_count": 110,
   "metadata": {},
   "outputs": [],
   "source": [
    "df_cosmetics_only = pd.merge(df[~filt & used_in_cosmetics], df_cos, on='EC / List no')"
   ]
  },
  {
   "cell_type": "code",
   "execution_count": 111,
   "metadata": {},
   "outputs": [
    {
     "data": {
      "text/html": [
       "<div>\n",
       "<style scoped>\n",
       "    .dataframe tbody tr th:only-of-type {\n",
       "        vertical-align: middle;\n",
       "    }\n",
       "\n",
       "    .dataframe tbody tr th {\n",
       "        vertical-align: top;\n",
       "    }\n",
       "\n",
       "    .dataframe thead th {\n",
       "        text-align: right;\n",
       "    }\n",
       "</style>\n",
       "<table border=\"1\" class=\"dataframe\">\n",
       "  <thead>\n",
       "    <tr style=\"text-align: right;\">\n",
       "      <th></th>\n",
       "      <th>Substance name</th>\n",
       "      <th>Description</th>\n",
       "      <th>EC / List no</th>\n",
       "      <th>CAS no</th>\n",
       "      <th>Decision type</th>\n",
       "      <th>Scope</th>\n",
       "      <th>Status</th>\n",
       "      <th>Decision date</th>\n",
       "      <th>Decision's deadline(s)</th>\n",
       "      <th>Decision</th>\n",
       "      <th>Appeal information</th>\n",
       "      <th>Dossier url</th>\n",
       "      <th>Latest update</th>\n",
       "      <th>brief profile</th>\n",
       "    </tr>\n",
       "  </thead>\n",
       "  <tbody>\n",
       "    <tr>\n",
       "      <th>0</th>\n",
       "      <td>Star anise, Illicium verum, ext.</td>\n",
       "      <td>Extractives and their physically modified deri...</td>\n",
       "      <td>283-518-1</td>\n",
       "      <td>84650-59-9</td>\n",
       "      <td>TPE</td>\n",
       "      <td>Testing Proposal</td>\n",
       "      <td>Under assessment</td>\n",
       "      <td>NaN</td>\n",
       "      <td>NaN</td>\n",
       "      <td>NaN</td>\n",
       "      <td>NaN</td>\n",
       "      <td>https://www.echa.europa.eu/web/guest/registrat...</td>\n",
       "      <td>15/03/2021</td>\n",
       "      <td>https://echa.europa.eu/brief-profile/-/briefpr...</td>\n",
       "    </tr>\n",
       "    <tr>\n",
       "      <th>1</th>\n",
       "      <td>Sodium hydrogen N-(1-oxotetradecyl)-L-glutamate</td>\n",
       "      <td>NaN</td>\n",
       "      <td>253-981-4</td>\n",
       "      <td>38517-37-2</td>\n",
       "      <td>TPE</td>\n",
       "      <td>Testing Proposal</td>\n",
       "      <td>Concluded</td>\n",
       "      <td>20/01/2021</td>\n",
       "      <td>NaN</td>\n",
       "      <td>https://www.echa.europa.eu/documents/10162/a5d...</td>\n",
       "      <td>NaN</td>\n",
       "      <td>https://www.echa.europa.eu/web/guest/registrat...</td>\n",
       "      <td>15/03/2021</td>\n",
       "      <td>https://echa.europa.eu/brief-profile/-/briefpr...</td>\n",
       "    </tr>\n",
       "    <tr>\n",
       "      <th>2</th>\n",
       "      <td>Sodium hydrogen N-(1-oxotetradecyl)-L-glutamate</td>\n",
       "      <td>NaN</td>\n",
       "      <td>253-981-4</td>\n",
       "      <td>38517-37-2</td>\n",
       "      <td>CCH</td>\n",
       "      <td>Targeted</td>\n",
       "      <td>Ongoing</td>\n",
       "      <td>NaN</td>\n",
       "      <td>NaN</td>\n",
       "      <td>NaN</td>\n",
       "      <td>NaN</td>\n",
       "      <td>https://www.echa.europa.eu/web/guest/registrat...</td>\n",
       "      <td>31/08/2020</td>\n",
       "      <td>https://echa.europa.eu/brief-profile/-/briefpr...</td>\n",
       "    </tr>\n",
       "    <tr>\n",
       "      <th>3</th>\n",
       "      <td>Propane-1,3-diol</td>\n",
       "      <td>NaN</td>\n",
       "      <td>207-997-3</td>\n",
       "      <td>504-63-2</td>\n",
       "      <td>CCH</td>\n",
       "      <td>Comprehensive</td>\n",
       "      <td>Under assessment</td>\n",
       "      <td>NaN</td>\n",
       "      <td>NaN</td>\n",
       "      <td>NaN</td>\n",
       "      <td>NaN</td>\n",
       "      <td>https://www.echa.europa.eu/web/guest/registrat...</td>\n",
       "      <td>08/03/2021</td>\n",
       "      <td>https://echa.europa.eu/brief-profile/-/briefpr...</td>\n",
       "    </tr>\n",
       "    <tr>\n",
       "      <th>4</th>\n",
       "      <td>Sodium salts of [[(phosphonomethyl)imino]bis[e...</td>\n",
       "      <td>NaN</td>\n",
       "      <td>701-216-4</td>\n",
       "      <td>-</td>\n",
       "      <td>TPE</td>\n",
       "      <td>Testing Proposal</td>\n",
       "      <td>Follow-up</td>\n",
       "      <td>14/02/2020</td>\n",
       "      <td>19/02/2021</td>\n",
       "      <td>https://www.echa.europa.eu/documents/10162/4b8...</td>\n",
       "      <td>NaN</td>\n",
       "      <td>https://www.echa.europa.eu/web/guest/registrat...</td>\n",
       "      <td>23/02/2021</td>\n",
       "      <td>https://echa.europa.eu/brief-profile/-/briefpr...</td>\n",
       "    </tr>\n",
       "  </tbody>\n",
       "</table>\n",
       "</div>"
      ],
      "text/plain": [
       "                                      Substance name  \\\n",
       "0                   Star anise, Illicium verum, ext.   \n",
       "1    Sodium hydrogen N-(1-oxotetradecyl)-L-glutamate   \n",
       "2    Sodium hydrogen N-(1-oxotetradecyl)-L-glutamate   \n",
       "3                                   Propane-1,3-diol   \n",
       "4  Sodium salts of [[(phosphonomethyl)imino]bis[e...   \n",
       "\n",
       "                                         Description EC / List no      CAS no  \\\n",
       "0  Extractives and their physically modified deri...    283-518-1  84650-59-9   \n",
       "1                                                NaN    253-981-4  38517-37-2   \n",
       "2                                                NaN    253-981-4  38517-37-2   \n",
       "3                                                NaN    207-997-3    504-63-2   \n",
       "4                                                NaN    701-216-4           -   \n",
       "\n",
       "  Decision type             Scope            Status Decision date  \\\n",
       "0           TPE  Testing Proposal  Under assessment           NaN   \n",
       "1           TPE  Testing Proposal         Concluded    20/01/2021   \n",
       "2           CCH          Targeted           Ongoing           NaN   \n",
       "3           CCH     Comprehensive  Under assessment           NaN   \n",
       "4           TPE  Testing Proposal         Follow-up    14/02/2020   \n",
       "\n",
       "  Decision's deadline(s)                                           Decision  \\\n",
       "0                    NaN                                                NaN   \n",
       "1                    NaN  https://www.echa.europa.eu/documents/10162/a5d...   \n",
       "2                    NaN                                                NaN   \n",
       "3                    NaN                                                NaN   \n",
       "4             19/02/2021  https://www.echa.europa.eu/documents/10162/4b8...   \n",
       "\n",
       "  Appeal information                                         Dossier url  \\\n",
       "0                 NaN  https://www.echa.europa.eu/web/guest/registrat...   \n",
       "1                 NaN  https://www.echa.europa.eu/web/guest/registrat...   \n",
       "2                 NaN  https://www.echa.europa.eu/web/guest/registrat...   \n",
       "3                 NaN  https://www.echa.europa.eu/web/guest/registrat...   \n",
       "4                 NaN  https://www.echa.europa.eu/web/guest/registrat...   \n",
       "\n",
       "  Latest update                                      brief profile  \n",
       "0    15/03/2021  https://echa.europa.eu/brief-profile/-/briefpr...  \n",
       "1    15/03/2021  https://echa.europa.eu/brief-profile/-/briefpr...  \n",
       "2    31/08/2020  https://echa.europa.eu/brief-profile/-/briefpr...  \n",
       "3    08/03/2021  https://echa.europa.eu/brief-profile/-/briefpr...  \n",
       "4    23/02/2021  https://echa.europa.eu/brief-profile/-/briefpr...  "
      ]
     },
     "execution_count": 111,
     "metadata": {},
     "output_type": "execute_result"
    }
   ],
   "source": [
    "df_cosmetics_only.head()"
   ]
  },
  {
   "cell_type": "code",
   "execution_count": 113,
   "metadata": {},
   "outputs": [
    {
     "name": "stdout",
     "output_type": "stream",
     "text": [
      "<class 'pandas.core.frame.DataFrame'>\n",
      "Int64Index: 414 entries, 0 to 413\n",
      "Data columns (total 14 columns):\n",
      " #   Column                  Non-Null Count  Dtype \n",
      "---  ------                  --------------  ----- \n",
      " 0   Substance name          414 non-null    object\n",
      " 1   Description             15 non-null     object\n",
      " 2   EC / List no            414 non-null    object\n",
      " 3   CAS no                  414 non-null    object\n",
      " 4   Decision type           414 non-null    object\n",
      " 5   Scope                   414 non-null    object\n",
      " 6   Status                  414 non-null    object\n",
      " 7   Decision date           194 non-null    object\n",
      " 8   Decision's deadline(s)  192 non-null    object\n",
      " 9   Decision                189 non-null    object\n",
      " 10  Appeal information      7 non-null      object\n",
      " 11  Dossier url             406 non-null    object\n",
      " 12  Latest update           414 non-null    object\n",
      " 13  brief profile           414 non-null    object\n",
      "dtypes: object(14)\n",
      "memory usage: 48.5+ KB\n"
     ]
    }
   ],
   "source": [
    "df_cosmetics_only.info()"
   ]
  },
  {
   "cell_type": "code",
   "execution_count": 114,
   "metadata": {},
   "outputs": [],
   "source": [
    "writer = pd.ExcelWriter('cosmetics_only.xlsx')\n",
    "\n",
    "df_cosmetics_only.to_excel(writer, 'Sheet1')\n",
    "\n",
    "writer.save()"
   ]
  },
  {
   "cell_type": "markdown",
   "metadata": {},
   "source": [
    "# Scraping profiles"
   ]
  },
  {
   "cell_type": "code",
   "execution_count": 117,
   "metadata": {},
   "outputs": [],
   "source": [
    "import requests"
   ]
  },
  {
   "cell_type": "code",
   "execution_count": 118,
   "metadata": {},
   "outputs": [],
   "source": [
    "url = df_cosmetics_only.iloc[0, -1]"
   ]
  },
  {
   "cell_type": "code",
   "execution_count": 137,
   "metadata": {},
   "outputs": [
    {
     "data": {
      "text/plain": [
       "'https://echa.europa.eu/brief-profile/-/briefprofile/100.075.899'"
      ]
     },
     "execution_count": 137,
     "metadata": {},
     "output_type": "execute_result"
    }
   ],
   "source": [
    "url"
   ]
  },
  {
   "cell_type": "code",
   "execution_count": 120,
   "metadata": {},
   "outputs": [],
   "source": [
    "test = requests.get(url)"
   ]
  },
  {
   "cell_type": "code",
   "execution_count": 128,
   "metadata": {},
   "outputs": [
    {
     "data": {
      "text/plain": [
       "'text/html;charset=UTF-8'"
      ]
     },
     "execution_count": 128,
     "metadata": {},
     "output_type": "execute_result"
    }
   ],
   "source": [
    "test.headers['Content-Type']"
   ]
  },
  {
   "cell_type": "code",
   "execution_count": 129,
   "metadata": {},
   "outputs": [],
   "source": [
    "import re"
   ]
  },
  {
   "cell_type": "code",
   "execution_count": 143,
   "metadata": {},
   "outputs": [
    {
     "ename": "IndexError",
     "evalue": "no such group",
     "output_type": "error",
     "traceback": [
      "\u001b[0;31m---------------------------------------------------------------------------\u001b[0m",
      "\u001b[0;31mIndexError\u001b[0m                                Traceback (most recent call last)",
      "\u001b[0;32m<ipython-input-143-7e77d62e0e04>\u001b[0m in \u001b[0;36m<module>\u001b[0;34m\u001b[0m\n\u001b[1;32m      1\u001b[0m \u001b[0mpat\u001b[0m \u001b[0;34m=\u001b[0m \u001b[0mre\u001b[0m\u001b[0;34m.\u001b[0m\u001b[0mcompile\u001b[0m\u001b[0;34m(\u001b[0m\u001b[0;34m'This substance is used in the following products: ([\\w ,&()\\.]+)\\.'\u001b[0m\u001b[0;34m)\u001b[0m\u001b[0;34m\u001b[0m\u001b[0;34m\u001b[0m\u001b[0m\n\u001b[0;32m----> 2\u001b[0;31m \u001b[0mre\u001b[0m\u001b[0;34m.\u001b[0m\u001b[0msearch\u001b[0m\u001b[0;34m(\u001b[0m\u001b[0mpat\u001b[0m\u001b[0;34m,\u001b[0m \u001b[0mtest\u001b[0m\u001b[0;34m.\u001b[0m\u001b[0mtext\u001b[0m\u001b[0;34m)\u001b[0m\u001b[0;34m.\u001b[0m\u001b[0mgroup\u001b[0m\u001b[0;34m(\u001b[0m\u001b[0;36m2\u001b[0m\u001b[0;34m)\u001b[0m\u001b[0;34m\u001b[0m\u001b[0;34m\u001b[0m\u001b[0m\n\u001b[0m",
      "\u001b[0;31mIndexError\u001b[0m: no such group"
     ]
    }
   ],
   "source": [
    "pat = re.compile('This substance is used in the following products: ([\\w ,&()\\.]+)\\.')\n",
    "re.search(pat, test.text).group(2)"
   ]
  },
  {
   "cell_type": "code",
   "execution_count": 140,
   "metadata": {},
   "outputs": [],
   "source": [
    "import time"
   ]
  },
  {
   "cell_type": "code",
   "execution_count": 141,
   "metadata": {},
   "outputs": [],
   "source": [
    "import random"
   ]
  },
  {
   "cell_type": "code",
   "execution_count": 142,
   "metadata": {},
   "outputs": [],
   "source": [
    "delay = random.randint(2, 5)"
   ]
  },
  {
   "cell_type": "code",
   "execution_count": 163,
   "metadata": {},
   "outputs": [],
   "source": [
    "def scrape(url):\n",
    "    time.sleep(random.randint(2, 5))\n",
    "    response = requests.get(url)\n",
    "    time.sleep(random.randint(2, 5))\n",
    "    if random.random() < 0.05:\n",
    "        time.sleep(30)\n",
    "    pat = re.compile('This substance is used in the following products: ([\\w ,&()-\\.]+)\\.')\n",
    "    products = re.search(pat, response.text)\n",
    "    if products:\n",
    "        return products.group(1)\n",
    "    else:\n",
    "        return 'scrape fail'"
   ]
  },
  {
   "cell_type": "code",
   "execution_count": 151,
   "metadata": {},
   "outputs": [],
   "source": [
    "to_scrape = df_cosmetics_only['brief profile']"
   ]
  },
  {
   "cell_type": "code",
   "execution_count": 152,
   "metadata": {},
   "outputs": [],
   "source": [
    "scraped = to_scrape.map(scrape)"
   ]
  },
  {
   "cell_type": "code",
   "execution_count": 153,
   "metadata": {},
   "outputs": [
    {
     "data": {
      "text/plain": [
       "0      washing & cleaning products, biocides (e.g. di...\n",
       "1      cosmetics and personal care products, inks and...\n",
       "2      cosmetics and personal care products, inks and...\n",
       "3      cosmetics and personal care products, fertilis...\n",
       "4      fertilisers, water softeners, coating products...\n",
       "                             ...                        \n",
       "409    air care products, perfumes and fragrances, po...\n",
       "410    washing & cleaning products, biocides (e.g. di...\n",
       "411    washing & cleaning products, biocides (e.g. di...\n",
       "412                 cosmetics and personal care products\n",
       "413    perfumes and fragrances, polishes and waxes an...\n",
       "Name: brief profile, Length: 414, dtype: object"
      ]
     },
     "execution_count": 153,
     "metadata": {},
     "output_type": "execute_result"
    }
   ],
   "source": [
    "scraped"
   ]
  },
  {
   "cell_type": "code",
   "execution_count": 155,
   "metadata": {},
   "outputs": [],
   "source": [
    "filt = scraped == 'cosmetics and personal care products'"
   ]
  },
  {
   "cell_type": "code",
   "execution_count": 185,
   "metadata": {},
   "outputs": [],
   "source": [
    "df_final = df_cosmetics_only[filt]"
   ]
  },
  {
   "cell_type": "code",
   "execution_count": 160,
   "metadata": {},
   "outputs": [],
   "source": [
    "df_scrape_fail = df_cosmetics_only[scraped == 'scrape fail'].copy()"
   ]
  },
  {
   "cell_type": "code",
   "execution_count": 162,
   "metadata": {},
   "outputs": [
    {
     "data": {
      "text/plain": [
       "'https://echa.europa.eu/brief-profile/-/briefprofile/100.000.684'"
      ]
     },
     "execution_count": 162,
     "metadata": {},
     "output_type": "execute_result"
    }
   ],
   "source": [
    "df_scrape_fail.iloc[1, -1]"
   ]
  },
  {
   "cell_type": "code",
   "execution_count": 164,
   "metadata": {},
   "outputs": [],
   "source": [
    "scraped_fix = df_scrape_fail['brief profile'].map(scrape)"
   ]
  },
  {
   "cell_type": "code",
   "execution_count": 165,
   "metadata": {},
   "outputs": [
    {
     "data": {
      "text/plain": [
       "86     lubricants and greases, adhesives and sealants...\n",
       "87     lubricants and greases, adhesives and sealants...\n",
       "88     lubricants and greases, adhesives and sealants...\n",
       "141    coating products, adhesives and sealants and n...\n",
       "142    coating products, adhesives and sealants and n...\n",
       "181    hydraulic fluids, adhesives and sealants, coat...\n",
       "182    hydraulic fluids, adhesives and sealants, coat...\n",
       "183    hydraulic fluids, adhesives and sealants, coat...\n",
       "184    hydraulic fluids, adhesives and sealants, coat...\n",
       "189    lubricants and greases, anti-freeze products, ...\n",
       "190    lubricants and greases, anti-freeze products, ...\n",
       "193    lubricants and greases, adhesives and sealants...\n",
       "195                                          scrape fail\n",
       "196                                          scrape fail\n",
       "197                                          scrape fail\n",
       "198                                          scrape fail\n",
       "199                                          scrape fail\n",
       "200                                          scrape fail\n",
       "201                                 anti-freeze products\n",
       "221                                          scrape fail\n",
       "222                                          scrape fail\n",
       "256    lubricants and greases, adhesives and sealants...\n",
       "257    lubricants and greases, adhesives and sealants...\n",
       "275    anti-freeze products, coating products, air ca...\n",
       "276    anti-freeze products, coating products, air ca...\n",
       "277    anti-freeze products, coating products, air ca...\n",
       "290    washing & cleaning products, air care products...\n",
       "297                                          scrape fail\n",
       "298                                          scrape fail\n",
       "299                                          scrape fail\n",
       "312    adhesives and sealants, adsorbents, air care p...\n",
       "324                                          scrape fail\n",
       "329                                          scrape fail\n",
       "391                                          scrape fail\n",
       "Name: brief profile, dtype: object"
      ]
     },
     "execution_count": 165,
     "metadata": {},
     "output_type": "execute_result"
    }
   ],
   "source": [
    "scraped_fix"
   ]
  },
  {
   "cell_type": "code",
   "execution_count": 166,
   "metadata": {},
   "outputs": [
    {
     "data": {
      "text/plain": [
       "'scrape fail'"
      ]
     },
     "execution_count": 166,
     "metadata": {},
     "output_type": "execute_result"
    }
   ],
   "source": [
    "scraped_fix[196]"
   ]
  },
  {
   "cell_type": "code",
   "execution_count": 168,
   "metadata": {},
   "outputs": [],
   "source": [
    "df_scrape_fail2 = df_scrape_fail[scraped_fix == 'scrape fail']"
   ]
  },
  {
   "cell_type": "code",
   "execution_count": 171,
   "metadata": {},
   "outputs": [
    {
     "data": {
      "text/plain": [
       "['https://echa.europa.eu/brief-profile/-/briefprofile/100.250.726',\n",
       " 'https://echa.europa.eu/brief-profile/-/briefprofile/100.250.726',\n",
       " 'https://echa.europa.eu/brief-profile/-/briefprofile/100.099.868',\n",
       " 'https://echa.europa.eu/brief-profile/-/briefprofile/100.099.868',\n",
       " 'https://echa.europa.eu/brief-profile/-/briefprofile/100.099.868',\n",
       " 'https://echa.europa.eu/brief-profile/-/briefprofile/100.099.868',\n",
       " 'https://echa.europa.eu/brief-profile/-/briefprofile/100.033.327',\n",
       " 'https://echa.europa.eu/brief-profile/-/briefprofile/100.033.327',\n",
       " 'https://echa.europa.eu/brief-profile/-/briefprofile/100.007.802',\n",
       " 'https://echa.europa.eu/brief-profile/-/briefprofile/100.007.802',\n",
       " 'https://echa.europa.eu/brief-profile/-/briefprofile/100.007.802',\n",
       " 'https://echa.europa.eu/brief-profile/-/briefprofile/100.045.877',\n",
       " 'https://echa.europa.eu/brief-profile/-/briefprofile/100.053.143',\n",
       " 'https://echa.europa.eu/brief-profile/-/briefprofile/100.102.183']"
      ]
     },
     "execution_count": 171,
     "metadata": {},
     "output_type": "execute_result"
    }
   ],
   "source": [
    "df_scrape_fail2['brief profile'].to_list()"
   ]
  },
  {
   "cell_type": "markdown",
   "metadata": {},
   "source": [
    "# Fixing links"
   ]
  },
  {
   "cell_type": "code",
   "execution_count": 186,
   "metadata": {
    "scrolled": true
   },
   "outputs": [],
   "source": [
    "df_final = df_final.drop(columns=['CAS no'])"
   ]
  },
  {
   "cell_type": "code",
   "execution_count": 187,
   "metadata": {},
   "outputs": [
    {
     "ename": "AttributeError",
     "evalue": "'Series' object has no attribute 'style'",
     "output_type": "error",
     "traceback": [
      "\u001b[0;31m---------------------------------------------------------------------------\u001b[0m",
      "\u001b[0;31mAttributeError\u001b[0m                            Traceback (most recent call last)",
      "\u001b[0;32m<ipython-input-187-bd3bd4bf82e7>\u001b[0m in \u001b[0;36m<module>\u001b[0;34m\u001b[0m\n\u001b[1;32m      1\u001b[0m \u001b[0;32mdef\u001b[0m \u001b[0madd_link\u001b[0m\u001b[0;34m(\u001b[0m\u001b[0mx\u001b[0m\u001b[0;34m)\u001b[0m\u001b[0;34m:\u001b[0m\u001b[0;34m\u001b[0m\u001b[0;34m\u001b[0m\u001b[0m\n\u001b[1;32m      2\u001b[0m     \u001b[0;32mreturn\u001b[0m \u001b[0;34mf'<a href=\"{x}\"\">{x}</a>'\u001b[0m\u001b[0;34m\u001b[0m\u001b[0;34m\u001b[0m\u001b[0m\n\u001b[0;32m----> 3\u001b[0;31m \u001b[0mdf_final\u001b[0m\u001b[0;34m[\u001b[0m\u001b[0;34m'brief profile'\u001b[0m\u001b[0;34m]\u001b[0m \u001b[0;34m=\u001b[0m \u001b[0mdf_final\u001b[0m\u001b[0;34m[\u001b[0m\u001b[0;34m'brief profile'\u001b[0m\u001b[0;34m]\u001b[0m\u001b[0;34m.\u001b[0m\u001b[0mstyle\u001b[0m\u001b[0;34m.\u001b[0m\u001b[0mmap\u001b[0m\u001b[0;34m(\u001b[0m\u001b[0madd_link\u001b[0m\u001b[0;34m)\u001b[0m\u001b[0;34m\u001b[0m\u001b[0;34m\u001b[0m\u001b[0m\n\u001b[0m",
      "\u001b[0;32m/opt/anaconda3/envs/data_engineer_nd/lib/python3.8/site-packages/pandas/core/generic.py\u001b[0m in \u001b[0;36m__getattr__\u001b[0;34m(self, name)\u001b[0m\n\u001b[1;32m   5137\u001b[0m             \u001b[0;32mif\u001b[0m \u001b[0mself\u001b[0m\u001b[0;34m.\u001b[0m\u001b[0m_info_axis\u001b[0m\u001b[0;34m.\u001b[0m\u001b[0m_can_hold_identifiers_and_holds_name\u001b[0m\u001b[0;34m(\u001b[0m\u001b[0mname\u001b[0m\u001b[0;34m)\u001b[0m\u001b[0;34m:\u001b[0m\u001b[0;34m\u001b[0m\u001b[0;34m\u001b[0m\u001b[0m\n\u001b[1;32m   5138\u001b[0m                 \u001b[0;32mreturn\u001b[0m \u001b[0mself\u001b[0m\u001b[0;34m[\u001b[0m\u001b[0mname\u001b[0m\u001b[0;34m]\u001b[0m\u001b[0;34m\u001b[0m\u001b[0;34m\u001b[0m\u001b[0m\n\u001b[0;32m-> 5139\u001b[0;31m             \u001b[0;32mreturn\u001b[0m \u001b[0mobject\u001b[0m\u001b[0;34m.\u001b[0m\u001b[0m__getattribute__\u001b[0m\u001b[0;34m(\u001b[0m\u001b[0mself\u001b[0m\u001b[0;34m,\u001b[0m \u001b[0mname\u001b[0m\u001b[0;34m)\u001b[0m\u001b[0;34m\u001b[0m\u001b[0;34m\u001b[0m\u001b[0m\n\u001b[0m\u001b[1;32m   5140\u001b[0m \u001b[0;34m\u001b[0m\u001b[0m\n\u001b[1;32m   5141\u001b[0m     \u001b[0;32mdef\u001b[0m \u001b[0m__setattr__\u001b[0m\u001b[0;34m(\u001b[0m\u001b[0mself\u001b[0m\u001b[0;34m,\u001b[0m \u001b[0mname\u001b[0m\u001b[0;34m:\u001b[0m \u001b[0mstr\u001b[0m\u001b[0;34m,\u001b[0m \u001b[0mvalue\u001b[0m\u001b[0;34m)\u001b[0m \u001b[0;34m->\u001b[0m \u001b[0;32mNone\u001b[0m\u001b[0;34m:\u001b[0m\u001b[0;34m\u001b[0m\u001b[0;34m\u001b[0m\u001b[0m\n",
      "\u001b[0;31mAttributeError\u001b[0m: 'Series' object has no attribute 'style'"
     ]
    }
   ],
   "source": [
    "def add_link(x):\n",
    "    return f'<a href=\"{x}\"\">{x}</a>'\n",
    "df_final['brief profile'] = df_final['brief profile'].map(add_link)"
   ]
  },
  {
   "cell_type": "code",
   "execution_count": 177,
   "metadata": {},
   "outputs": [
    {
     "data": {
      "text/html": [
       "<div>\n",
       "<style scoped>\n",
       "    .dataframe tbody tr th:only-of-type {\n",
       "        vertical-align: middle;\n",
       "    }\n",
       "\n",
       "    .dataframe tbody tr th {\n",
       "        vertical-align: top;\n",
       "    }\n",
       "\n",
       "    .dataframe thead th {\n",
       "        text-align: right;\n",
       "    }\n",
       "</style>\n",
       "<table border=\"1\" class=\"dataframe\">\n",
       "  <thead>\n",
       "    <tr style=\"text-align: right;\">\n",
       "      <th></th>\n",
       "      <th>Substance name</th>\n",
       "      <th>Description</th>\n",
       "      <th>EC / List no</th>\n",
       "      <th>Decision type</th>\n",
       "      <th>Scope</th>\n",
       "      <th>Status</th>\n",
       "      <th>Decision date</th>\n",
       "      <th>Decision's deadline(s)</th>\n",
       "      <th>Decision</th>\n",
       "      <th>Appeal information</th>\n",
       "      <th>Dossier url</th>\n",
       "      <th>Latest update</th>\n",
       "      <th>brief profile</th>\n",
       "    </tr>\n",
       "  </thead>\n",
       "  <tbody>\n",
       "    <tr>\n",
       "      <th>18</th>\n",
       "      <td>Reaction mass of Ethanaminium, 2-hydroxy-N,N-d...</td>\n",
       "      <td>NaN</td>\n",
       "      <td>951-974-7</td>\n",
       "      <td>TPE</td>\n",
       "      <td>Testing Proposal</td>\n",
       "      <td>Ongoing</td>\n",
       "      <td>NaN</td>\n",
       "      <td>NaN</td>\n",
       "      <td>NaN</td>\n",
       "      <td>NaN</td>\n",
       "      <td>https://www.echa.europa.eu/web/guest/registrat...</td>\n",
       "      <td>15/02/2021</td>\n",
       "      <td>&lt;a href=\"https://echa.europa.eu/brief-profile/...</td>\n",
       "    </tr>\n",
       "    <tr>\n",
       "      <th>19</th>\n",
       "      <td>Strontium hydroxide</td>\n",
       "      <td>NaN</td>\n",
       "      <td>242-367-1</td>\n",
       "      <td>CCH</td>\n",
       "      <td>Comprehensive</td>\n",
       "      <td>Information requested</td>\n",
       "      <td>08/12/2020</td>\n",
       "      <td>15/12/2022</td>\n",
       "      <td>https://www.echa.europa.eu/documents/10162/c97...</td>\n",
       "      <td>NaN</td>\n",
       "      <td>https://www.echa.europa.eu/web/guest/registrat...</td>\n",
       "      <td>08/02/2021</td>\n",
       "      <td>&lt;a href=\"https://echa.europa.eu/brief-profile/...</td>\n",
       "    </tr>\n",
       "    <tr>\n",
       "      <th>20</th>\n",
       "      <td>Strontium hydroxide</td>\n",
       "      <td>NaN</td>\n",
       "      <td>242-367-1</td>\n",
       "      <td>TPE</td>\n",
       "      <td>Testing Proposal</td>\n",
       "      <td>Concluded</td>\n",
       "      <td>NaN</td>\n",
       "      <td>NaN</td>\n",
       "      <td>NaN</td>\n",
       "      <td>NaN</td>\n",
       "      <td>https://www.echa.europa.eu/web/guest/registrat...</td>\n",
       "      <td>13/10/2018</td>\n",
       "      <td>&lt;a href=\"https://echa.europa.eu/brief-profile/...</td>\n",
       "    </tr>\n",
       "    <tr>\n",
       "      <th>38</th>\n",
       "      <td>Propane-1,2,3-triyl 3,5,5-trimethylhexanoate</td>\n",
       "      <td>NaN</td>\n",
       "      <td>260-257-1</td>\n",
       "      <td>CCH</td>\n",
       "      <td>Comprehensive</td>\n",
       "      <td>Information requested</td>\n",
       "      <td>24/04/2019</td>\n",
       "      <td>02/11/2021\"26/07/2023</td>\n",
       "      <td>https://www.echa.europa.eu/documents/10162/f06...</td>\n",
       "      <td>&lt;a href=\"https://echa.europa.eu/documents/1016...</td>\n",
       "      <td>https://www.echa.europa.eu/web/guest/registrat...</td>\n",
       "      <td>22/01/2021</td>\n",
       "      <td>&lt;a href=\"https://echa.europa.eu/brief-profile/...</td>\n",
       "    </tr>\n",
       "    <tr>\n",
       "      <th>60</th>\n",
       "      <td>Strontium chloride</td>\n",
       "      <td>NaN</td>\n",
       "      <td>233-971-6</td>\n",
       "      <td>CCH</td>\n",
       "      <td>Comprehensive</td>\n",
       "      <td>Concluded</td>\n",
       "      <td>NaN</td>\n",
       "      <td>NaN</td>\n",
       "      <td>NaN</td>\n",
       "      <td>NaN</td>\n",
       "      <td>https://www.echa.europa.eu/web/guest/registrat...</td>\n",
       "      <td>09/12/2020</td>\n",
       "      <td>&lt;a href=\"https://echa.europa.eu/brief-profile/...</td>\n",
       "    </tr>\n",
       "  </tbody>\n",
       "</table>\n",
       "</div>"
      ],
      "text/plain": [
       "                                       Substance name Description  \\\n",
       "18  Reaction mass of Ethanaminium, 2-hydroxy-N,N-d...         NaN   \n",
       "19                                Strontium hydroxide         NaN   \n",
       "20                                Strontium hydroxide         NaN   \n",
       "38       Propane-1,2,3-triyl 3,5,5-trimethylhexanoate         NaN   \n",
       "60                                 Strontium chloride         NaN   \n",
       "\n",
       "   EC / List no Decision type             Scope                 Status  \\\n",
       "18    951-974-7           TPE  Testing Proposal                Ongoing   \n",
       "19    242-367-1           CCH     Comprehensive  Information requested   \n",
       "20    242-367-1           TPE  Testing Proposal              Concluded   \n",
       "38    260-257-1           CCH     Comprehensive  Information requested   \n",
       "60    233-971-6           CCH     Comprehensive              Concluded   \n",
       "\n",
       "   Decision date Decision's deadline(s)  \\\n",
       "18           NaN                    NaN   \n",
       "19    08/12/2020             15/12/2022   \n",
       "20           NaN                    NaN   \n",
       "38    24/04/2019  02/11/2021\"26/07/2023   \n",
       "60           NaN                    NaN   \n",
       "\n",
       "                                             Decision  \\\n",
       "18                                                NaN   \n",
       "19  https://www.echa.europa.eu/documents/10162/c97...   \n",
       "20                                                NaN   \n",
       "38  https://www.echa.europa.eu/documents/10162/f06...   \n",
       "60                                                NaN   \n",
       "\n",
       "                                  Appeal information   \\\n",
       "18                                                NaN   \n",
       "19                                                NaN   \n",
       "20                                                NaN   \n",
       "38  <a href=\"https://echa.europa.eu/documents/1016...   \n",
       "60                                                NaN   \n",
       "\n",
       "                                          Dossier url Latest update  \\\n",
       "18  https://www.echa.europa.eu/web/guest/registrat...    15/02/2021   \n",
       "19  https://www.echa.europa.eu/web/guest/registrat...    08/02/2021   \n",
       "20  https://www.echa.europa.eu/web/guest/registrat...    13/10/2018   \n",
       "38  https://www.echa.europa.eu/web/guest/registrat...    22/01/2021   \n",
       "60  https://www.echa.europa.eu/web/guest/registrat...    09/12/2020   \n",
       "\n",
       "                                        brief profile  \n",
       "18  <a href=\"https://echa.europa.eu/brief-profile/...  \n",
       "19  <a href=\"https://echa.europa.eu/brief-profile/...  \n",
       "20  <a href=\"https://echa.europa.eu/brief-profile/...  \n",
       "38  <a href=\"https://echa.europa.eu/brief-profile/...  \n",
       "60  <a href=\"https://echa.europa.eu/brief-profile/...  "
      ]
     },
     "execution_count": 177,
     "metadata": {},
     "output_type": "execute_result"
    }
   ],
   "source": [
    "df_final.head()"
   ]
  },
  {
   "cell_type": "code",
   "execution_count": 188,
   "metadata": {},
   "outputs": [],
   "source": [
    "df_final.drop(columns=['Description'], inplace=True)"
   ]
  },
  {
   "cell_type": "code",
   "execution_count": 181,
   "metadata": {},
   "outputs": [
    {
     "name": "stderr",
     "output_type": "stream",
     "text": [
      "<ipython-input-181-d351916a7c5c>:1: SettingWithCopyWarning: \n",
      "A value is trying to be set on a copy of a slice from a DataFrame.\n",
      "Try using .loc[row_indexer,col_indexer] = value instead\n",
      "\n",
      "See the caveats in the documentation: https://pandas.pydata.org/pandas-docs/stable/user_guide/indexing.html#returning-a-view-versus-a-copy\n",
      "  df_final['Decision'] = df_final['Decision'].map(add_link)\n"
     ]
    }
   ],
   "source": [
    "df_final['Decision'] = df_final['Decision'].map(add_link)"
   ]
  },
  {
   "cell_type": "code",
   "execution_count": 182,
   "metadata": {},
   "outputs": [
    {
     "data": {
      "text/html": [
       "<div>\n",
       "<style scoped>\n",
       "    .dataframe tbody tr th:only-of-type {\n",
       "        vertical-align: middle;\n",
       "    }\n",
       "\n",
       "    .dataframe tbody tr th {\n",
       "        vertical-align: top;\n",
       "    }\n",
       "\n",
       "    .dataframe thead th {\n",
       "        text-align: right;\n",
       "    }\n",
       "</style>\n",
       "<table border=\"1\" class=\"dataframe\">\n",
       "  <thead>\n",
       "    <tr style=\"text-align: right;\">\n",
       "      <th></th>\n",
       "      <th>Substance name</th>\n",
       "      <th>EC / List no</th>\n",
       "      <th>Decision type</th>\n",
       "      <th>Scope</th>\n",
       "      <th>Status</th>\n",
       "      <th>Decision date</th>\n",
       "      <th>Decision's deadline(s)</th>\n",
       "      <th>Decision</th>\n",
       "      <th>Appeal information</th>\n",
       "      <th>Dossier url</th>\n",
       "      <th>Latest update</th>\n",
       "      <th>brief profile</th>\n",
       "    </tr>\n",
       "  </thead>\n",
       "  <tbody>\n",
       "    <tr>\n",
       "      <th>18</th>\n",
       "      <td>Reaction mass of Ethanaminium, 2-hydroxy-N,N-d...</td>\n",
       "      <td>951-974-7</td>\n",
       "      <td>TPE</td>\n",
       "      <td>Testing Proposal</td>\n",
       "      <td>Ongoing</td>\n",
       "      <td>NaN</td>\n",
       "      <td>NaN</td>\n",
       "      <td>&lt;a href=\"nan\"\"&gt;nan&lt;/a&gt;</td>\n",
       "      <td>NaN</td>\n",
       "      <td>https://www.echa.europa.eu/web/guest/registrat...</td>\n",
       "      <td>15/02/2021</td>\n",
       "      <td>&lt;a href=\"https://echa.europa.eu/brief-profile/...</td>\n",
       "    </tr>\n",
       "    <tr>\n",
       "      <th>19</th>\n",
       "      <td>Strontium hydroxide</td>\n",
       "      <td>242-367-1</td>\n",
       "      <td>CCH</td>\n",
       "      <td>Comprehensive</td>\n",
       "      <td>Information requested</td>\n",
       "      <td>08/12/2020</td>\n",
       "      <td>15/12/2022</td>\n",
       "      <td>&lt;a href=\"https://www.echa.europa.eu/documents/...</td>\n",
       "      <td>NaN</td>\n",
       "      <td>https://www.echa.europa.eu/web/guest/registrat...</td>\n",
       "      <td>08/02/2021</td>\n",
       "      <td>&lt;a href=\"https://echa.europa.eu/brief-profile/...</td>\n",
       "    </tr>\n",
       "    <tr>\n",
       "      <th>20</th>\n",
       "      <td>Strontium hydroxide</td>\n",
       "      <td>242-367-1</td>\n",
       "      <td>TPE</td>\n",
       "      <td>Testing Proposal</td>\n",
       "      <td>Concluded</td>\n",
       "      <td>NaN</td>\n",
       "      <td>NaN</td>\n",
       "      <td>&lt;a href=\"nan\"\"&gt;nan&lt;/a&gt;</td>\n",
       "      <td>NaN</td>\n",
       "      <td>https://www.echa.europa.eu/web/guest/registrat...</td>\n",
       "      <td>13/10/2018</td>\n",
       "      <td>&lt;a href=\"https://echa.europa.eu/brief-profile/...</td>\n",
       "    </tr>\n",
       "    <tr>\n",
       "      <th>38</th>\n",
       "      <td>Propane-1,2,3-triyl 3,5,5-trimethylhexanoate</td>\n",
       "      <td>260-257-1</td>\n",
       "      <td>CCH</td>\n",
       "      <td>Comprehensive</td>\n",
       "      <td>Information requested</td>\n",
       "      <td>24/04/2019</td>\n",
       "      <td>02/11/2021\"26/07/2023</td>\n",
       "      <td>&lt;a href=\"https://www.echa.europa.eu/documents/...</td>\n",
       "      <td>&lt;a href=\"https://echa.europa.eu/documents/1016...</td>\n",
       "      <td>https://www.echa.europa.eu/web/guest/registrat...</td>\n",
       "      <td>22/01/2021</td>\n",
       "      <td>&lt;a href=\"https://echa.europa.eu/brief-profile/...</td>\n",
       "    </tr>\n",
       "    <tr>\n",
       "      <th>60</th>\n",
       "      <td>Strontium chloride</td>\n",
       "      <td>233-971-6</td>\n",
       "      <td>CCH</td>\n",
       "      <td>Comprehensive</td>\n",
       "      <td>Concluded</td>\n",
       "      <td>NaN</td>\n",
       "      <td>NaN</td>\n",
       "      <td>&lt;a href=\"nan\"\"&gt;nan&lt;/a&gt;</td>\n",
       "      <td>NaN</td>\n",
       "      <td>https://www.echa.europa.eu/web/guest/registrat...</td>\n",
       "      <td>09/12/2020</td>\n",
       "      <td>&lt;a href=\"https://echa.europa.eu/brief-profile/...</td>\n",
       "    </tr>\n",
       "  </tbody>\n",
       "</table>\n",
       "</div>"
      ],
      "text/plain": [
       "                                       Substance name EC / List no  \\\n",
       "18  Reaction mass of Ethanaminium, 2-hydroxy-N,N-d...    951-974-7   \n",
       "19                                Strontium hydroxide    242-367-1   \n",
       "20                                Strontium hydroxide    242-367-1   \n",
       "38       Propane-1,2,3-triyl 3,5,5-trimethylhexanoate    260-257-1   \n",
       "60                                 Strontium chloride    233-971-6   \n",
       "\n",
       "   Decision type             Scope                 Status Decision date  \\\n",
       "18           TPE  Testing Proposal                Ongoing           NaN   \n",
       "19           CCH     Comprehensive  Information requested    08/12/2020   \n",
       "20           TPE  Testing Proposal              Concluded           NaN   \n",
       "38           CCH     Comprehensive  Information requested    24/04/2019   \n",
       "60           CCH     Comprehensive              Concluded           NaN   \n",
       "\n",
       "   Decision's deadline(s)                                           Decision  \\\n",
       "18                    NaN                             <a href=\"nan\"\">nan</a>   \n",
       "19             15/12/2022  <a href=\"https://www.echa.europa.eu/documents/...   \n",
       "20                    NaN                             <a href=\"nan\"\">nan</a>   \n",
       "38  02/11/2021\"26/07/2023  <a href=\"https://www.echa.europa.eu/documents/...   \n",
       "60                    NaN                             <a href=\"nan\"\">nan</a>   \n",
       "\n",
       "                                  Appeal information   \\\n",
       "18                                                NaN   \n",
       "19                                                NaN   \n",
       "20                                                NaN   \n",
       "38  <a href=\"https://echa.europa.eu/documents/1016...   \n",
       "60                                                NaN   \n",
       "\n",
       "                                          Dossier url Latest update  \\\n",
       "18  https://www.echa.europa.eu/web/guest/registrat...    15/02/2021   \n",
       "19  https://www.echa.europa.eu/web/guest/registrat...    08/02/2021   \n",
       "20  https://www.echa.europa.eu/web/guest/registrat...    13/10/2018   \n",
       "38  https://www.echa.europa.eu/web/guest/registrat...    22/01/2021   \n",
       "60  https://www.echa.europa.eu/web/guest/registrat...    09/12/2020   \n",
       "\n",
       "                                        brief profile  \n",
       "18  <a href=\"https://echa.europa.eu/brief-profile/...  \n",
       "19  <a href=\"https://echa.europa.eu/brief-profile/...  \n",
       "20  <a href=\"https://echa.europa.eu/brief-profile/...  \n",
       "38  <a href=\"https://echa.europa.eu/brief-profile/...  \n",
       "60  <a href=\"https://echa.europa.eu/brief-profile/...  "
      ]
     },
     "execution_count": 182,
     "metadata": {},
     "output_type": "execute_result"
    }
   ],
   "source": [
    "df_final.head()"
   ]
  },
  {
   "cell_type": "code",
   "execution_count": 183,
   "metadata": {},
   "outputs": [
    {
     "data": {
      "text/plain": [
       "'https://www.echa.europa.eu/web/guest/registration-dossier/-/registered-dossier/31631'"
      ]
     },
     "execution_count": 183,
     "metadata": {},
     "output_type": "execute_result"
    }
   ],
   "source": [
    "df_final.iloc[0, -3]"
   ]
  },
  {
   "cell_type": "code",
   "execution_count": 189,
   "metadata": {},
   "outputs": [],
   "source": [
    "writer = pd.ExcelWriter('cosmetics_only_scraped.xlsx')\n",
    "df_final.to_excel(writer, 'Sheet1')\n",
    "writer.save()"
   ]
  },
  {
   "cell_type": "code",
   "execution_count": null,
   "metadata": {},
   "outputs": [],
   "source": []
  }
 ],
 "metadata": {
  "kernelspec": {
   "display_name": "Python 3",
   "language": "python",
   "name": "python3"
  },
  "language_info": {
   "codemirror_mode": {
    "name": "ipython",
    "version": 3
   },
   "file_extension": ".py",
   "mimetype": "text/x-python",
   "name": "python",
   "nbconvert_exporter": "python",
   "pygments_lexer": "ipython3",
   "version": "3.9.5"
  }
 },
 "nbformat": 4,
 "nbformat_minor": 4
}
