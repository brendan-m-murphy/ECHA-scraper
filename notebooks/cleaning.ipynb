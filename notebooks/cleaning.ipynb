{
 "cells": [
  {
   "cell_type": "markdown",
   "metadata": {},
   "source": [
    "# ECHA: cosmetics and fragrances\n",
    "\n",
    "Here's what we need to find out:\n",
    "- Of all the substances registered under REACH, how many are used exclusively in cosmetics (i.e. in product category 28 and/or 39 only)?\n",
    "- What is the EC identification number and registered tonnage band of these substances?\n",
    "- Which of these substances have an ECHA decision associated with them?\n",
    "- What is the date, status and web address of these decisions?"
   ]
  },
  {
   "cell_type": "markdown",
   "metadata": {},
   "source": [
    "# Initial list of PC 28 and 39 substances\n",
    "\n",
    "- Used ECHA advanced searach for chemicals on 1 Apr 2021\n",
    "- Under 'Uses and exposure'\n",
    "    - Selected 'Consumer Uses'\n",
    "    - Selected categories\n",
    "        - 'PC 28' perfumes, fragrances\n",
    "        - 'PC 39' cosmetics, personal care products\n",
    "    - Selected 'OR'\n",
    "- Returned 5,821 results\n",
    "- Downloaded as CSV"
   ]
  },
  {
   "cell_type": "code",
   "execution_count": 1,
   "metadata": {},
   "outputs": [],
   "source": [
    "import pandas as pd\n",
    "import re"
   ]
  },
  {
   "cell_type": "code",
   "execution_count": 2,
   "metadata": {},
   "outputs": [],
   "source": [
    "echa_df = pd.read_csv('../data/search-export-28-39-1-apr-2021.csv', sep='\\t', skiprows=3)"
   ]
  },
  {
   "cell_type": "code",
   "execution_count": 3,
   "metadata": {},
   "outputs": [],
   "source": [
    "echa_df.drop(columns=[echa_df.columns.to_list()[-1]], inplace=True)"
   ]
  },
  {
   "cell_type": "code",
   "execution_count": 4,
   "metadata": {},
   "outputs": [
    {
     "data": {
      "text/html": [
       "<div>\n",
       "<style scoped>\n",
       "    .dataframe tbody tr th:only-of-type {\n",
       "        vertical-align: middle;\n",
       "    }\n",
       "\n",
       "    .dataframe tbody tr th {\n",
       "        vertical-align: top;\n",
       "    }\n",
       "\n",
       "    .dataframe thead th {\n",
       "        text-align: right;\n",
       "    }\n",
       "</style>\n",
       "<table border=\"1\" class=\"dataframe\">\n",
       "  <thead>\n",
       "    <tr style=\"text-align: right;\">\n",
       "      <th></th>\n",
       "      <th>Substance Name</th>\n",
       "      <th>EC Number</th>\n",
       "      <th>CAS Number</th>\n",
       "      <th>Substance Information Page</th>\n",
       "      <th>Brief Profile Page</th>\n",
       "      <th>Substance Regulatory Obligations Page</th>\n",
       "    </tr>\n",
       "  </thead>\n",
       "  <tbody>\n",
       "    <tr>\n",
       "      <th>0</th>\n",
       "      <td>''amyl nitrite'', mixed isomers</td>\n",
       "      <td>203-770-8</td>\n",
       "      <td>110-46-3</td>\n",
       "      <td>https://echa.europa.eu/substance-information/-...</td>\n",
       "      <td>https://echa.europa.eu/brief-profile/-/briefpr...</td>\n",
       "      <td>https://echa.europa.eu/legislation-obligation/...</td>\n",
       "    </tr>\n",
       "    <tr>\n",
       "      <th>1</th>\n",
       "      <td>((Methylethylene)bis(oxy))dipropanol</td>\n",
       "      <td>246-466-0</td>\n",
       "      <td>24800-44-0</td>\n",
       "      <td>https://echa.europa.eu/substance-information/-...</td>\n",
       "      <td>https://echa.europa.eu/brief-profile/-/briefpr...</td>\n",
       "      <td>https://echa.europa.eu/legislation-obligation/...</td>\n",
       "    </tr>\n",
       "    <tr>\n",
       "      <th>2</th>\n",
       "      <td>(+)-bornan-2-one</td>\n",
       "      <td>207-355-2</td>\n",
       "      <td>464-49-3</td>\n",
       "      <td>https://echa.europa.eu/substance-information/-...</td>\n",
       "      <td>https://echa.europa.eu/brief-profile/-/briefpr...</td>\n",
       "      <td>https://echa.europa.eu/legislation-obligation/...</td>\n",
       "    </tr>\n",
       "    <tr>\n",
       "      <th>3</th>\n",
       "      <td>(+)-Butyl lactate</td>\n",
       "      <td>252-036-3</td>\n",
       "      <td>34451-19-9</td>\n",
       "      <td>https://echa.europa.eu/substance-information/-...</td>\n",
       "      <td>https://echa.europa.eu/brief-profile/-/briefpr...</td>\n",
       "      <td>NaN</td>\n",
       "    </tr>\n",
       "    <tr>\n",
       "      <th>4</th>\n",
       "      <td>(+)-L-arginine hydrochloride</td>\n",
       "      <td>214-275-1</td>\n",
       "      <td>1119-34-2</td>\n",
       "      <td>https://echa.europa.eu/substance-information/-...</td>\n",
       "      <td>https://echa.europa.eu/brief-profile/-/briefpr...</td>\n",
       "      <td>NaN</td>\n",
       "    </tr>\n",
       "  </tbody>\n",
       "</table>\n",
       "</div>"
      ],
      "text/plain": [
       "                         Substance Name  EC Number  CAS Number  \\\n",
       "0       ''amyl nitrite'', mixed isomers  203-770-8    110-46-3   \n",
       "1  ((Methylethylene)bis(oxy))dipropanol  246-466-0  24800-44-0   \n",
       "2                      (+)-bornan-2-one  207-355-2    464-49-3   \n",
       "3                     (+)-Butyl lactate  252-036-3  34451-19-9   \n",
       "4          (+)-L-arginine hydrochloride  214-275-1   1119-34-2   \n",
       "\n",
       "                          Substance Information Page  \\\n",
       "0  https://echa.europa.eu/substance-information/-...   \n",
       "1  https://echa.europa.eu/substance-information/-...   \n",
       "2  https://echa.europa.eu/substance-information/-...   \n",
       "3  https://echa.europa.eu/substance-information/-...   \n",
       "4  https://echa.europa.eu/substance-information/-...   \n",
       "\n",
       "                                  Brief Profile Page  \\\n",
       "0  https://echa.europa.eu/brief-profile/-/briefpr...   \n",
       "1  https://echa.europa.eu/brief-profile/-/briefpr...   \n",
       "2  https://echa.europa.eu/brief-profile/-/briefpr...   \n",
       "3  https://echa.europa.eu/brief-profile/-/briefpr...   \n",
       "4  https://echa.europa.eu/brief-profile/-/briefpr...   \n",
       "\n",
       "               Substance Regulatory Obligations Page  \n",
       "0  https://echa.europa.eu/legislation-obligation/...  \n",
       "1  https://echa.europa.eu/legislation-obligation/...  \n",
       "2  https://echa.europa.eu/legislation-obligation/...  \n",
       "3                                                NaN  \n",
       "4                                                NaN  "
      ]
     },
     "execution_count": 4,
     "metadata": {},
     "output_type": "execute_result"
    }
   ],
   "source": [
    "echa_df.head()"
   ]
  },
  {
   "cell_type": "code",
   "execution_count": 5,
   "metadata": {},
   "outputs": [
    {
     "name": "stdout",
     "output_type": "stream",
     "text": [
      "<class 'pandas.core.frame.DataFrame'>\n",
      "RangeIndex: 5821 entries, 0 to 5820\n",
      "Data columns (total 6 columns):\n",
      " #   Column                                 Non-Null Count  Dtype \n",
      "---  ------                                 --------------  ----- \n",
      " 0   Substance Name                         5821 non-null   object\n",
      " 1   EC Number                              5821 non-null   object\n",
      " 2   CAS Number                             5821 non-null   object\n",
      " 3   Substance Information Page             5821 non-null   object\n",
      " 4   Brief Profile Page                     5820 non-null   object\n",
      " 5   Substance Regulatory Obligations Page  1285 non-null   object\n",
      "dtypes: object(6)\n",
      "memory usage: 273.0+ KB\n"
     ]
    }
   ],
   "source": [
    "echa_df.info()"
   ]
  },
  {
   "cell_type": "code",
   "execution_count": 6,
   "metadata": {},
   "outputs": [
    {
     "data": {
      "text/html": [
       "<div>\n",
       "<style scoped>\n",
       "    .dataframe tbody tr th:only-of-type {\n",
       "        vertical-align: middle;\n",
       "    }\n",
       "\n",
       "    .dataframe tbody tr th {\n",
       "        vertical-align: top;\n",
       "    }\n",
       "\n",
       "    .dataframe thead th {\n",
       "        text-align: right;\n",
       "    }\n",
       "</style>\n",
       "<table border=\"1\" class=\"dataframe\">\n",
       "  <thead>\n",
       "    <tr style=\"text-align: right;\">\n",
       "      <th></th>\n",
       "      <th>Substance Name</th>\n",
       "      <th>EC Number</th>\n",
       "      <th>CAS Number</th>\n",
       "      <th>Substance Information Page</th>\n",
       "      <th>Brief Profile Page</th>\n",
       "      <th>Substance Regulatory Obligations Page</th>\n",
       "    </tr>\n",
       "  </thead>\n",
       "  <tbody>\n",
       "    <tr>\n",
       "      <th>524</th>\n",
       "      <td>1-ol, [[4-[(3-aminophenyl)amino]-6-chloro-1,3,...</td>\n",
       "      <td>-</td>\n",
       "      <td>-</td>\n",
       "      <td>https://echa.europa.eu/substance-information/-...</td>\n",
       "      <td>https://echa.europa.eu/brief-profile/-/briefpr...</td>\n",
       "      <td>NaN</td>\n",
       "    </tr>\n",
       "    <tr>\n",
       "      <th>776</th>\n",
       "      <td>2-((E)-(4-((4-(1,3-dioxo-1,3-dihydro-2H-hetere...</td>\n",
       "      <td>-</td>\n",
       "      <td>-</td>\n",
       "      <td>https://echa.europa.eu/substance-information/-...</td>\n",
       "      <td>https://echa.europa.eu/brief-profile/-/briefpr...</td>\n",
       "      <td>NaN</td>\n",
       "    </tr>\n",
       "    <tr>\n",
       "      <th>825</th>\n",
       "      <td>2-[(8-amino-7-{[4-substituted-2-sulfonatopheny...</td>\n",
       "      <td>-</td>\n",
       "      <td>-</td>\n",
       "      <td>https://echa.europa.eu/substance-information/-...</td>\n",
       "      <td>https://echa.europa.eu/brief-profile/-/briefpr...</td>\n",
       "      <td>NaN</td>\n",
       "    </tr>\n",
       "    <tr>\n",
       "      <th>1081</th>\n",
       "      <td>2-propanol and 2-butanol production, distn. re...</td>\n",
       "      <td>-</td>\n",
       "      <td>-</td>\n",
       "      <td>https://echa.europa.eu/substance-information/-...</td>\n",
       "      <td>https://echa.europa.eu/brief-profile/-/briefpr...</td>\n",
       "      <td>NaN</td>\n",
       "    </tr>\n",
       "    <tr>\n",
       "      <th>1089</th>\n",
       "      <td>2-Propenoic acid, 2-hydroxyethyl ester, reacti...</td>\n",
       "      <td>-</td>\n",
       "      <td>-</td>\n",
       "      <td>https://echa.europa.eu/substance-information/-...</td>\n",
       "      <td>https://echa.europa.eu/brief-profile/-/briefpr...</td>\n",
       "      <td>NaN</td>\n",
       "    </tr>\n",
       "    <tr>\n",
       "      <th>...</th>\n",
       "      <td>...</td>\n",
       "      <td>...</td>\n",
       "      <td>...</td>\n",
       "      <td>...</td>\n",
       "      <td>...</td>\n",
       "      <td>...</td>\n",
       "    </tr>\n",
       "    <tr>\n",
       "      <th>5590</th>\n",
       "      <td>TexFRon AG</td>\n",
       "      <td>-</td>\n",
       "      <td>-</td>\n",
       "      <td>https://echa.europa.eu/substance-information/-...</td>\n",
       "      <td>https://echa.europa.eu/brief-profile/-/briefpr...</td>\n",
       "      <td>NaN</td>\n",
       "    </tr>\n",
       "    <tr>\n",
       "      <th>5595</th>\n",
       "      <td>Thiazol Blau</td>\n",
       "      <td>-</td>\n",
       "      <td>-</td>\n",
       "      <td>https://echa.europa.eu/substance-information/-...</td>\n",
       "      <td>https://echa.europa.eu/brief-profile/-/briefpr...</td>\n",
       "      <td>NaN</td>\n",
       "    </tr>\n",
       "    <tr>\n",
       "      <th>5673</th>\n",
       "      <td>Tris(2-hydroxyethyl)ammonium salts of tall-oil...</td>\n",
       "      <td>-</td>\n",
       "      <td>-</td>\n",
       "      <td>https://echa.europa.eu/substance-information/-...</td>\n",
       "      <td>https://echa.europa.eu/brief-profile/-/briefpr...</td>\n",
       "      <td>NaN</td>\n",
       "    </tr>\n",
       "    <tr>\n",
       "      <th>5769</th>\n",
       "      <td>Z-109</td>\n",
       "      <td>-</td>\n",
       "      <td>-</td>\n",
       "      <td>https://echa.europa.eu/substance-information/-...</td>\n",
       "      <td>https://echa.europa.eu/brief-profile/-/briefpr...</td>\n",
       "      <td>NaN</td>\n",
       "    </tr>\n",
       "    <tr>\n",
       "      <th>5808</th>\n",
       "      <td>α-d-Glucopyranoside, β-d-fructofuranosyl, mono...</td>\n",
       "      <td>-</td>\n",
       "      <td>-</td>\n",
       "      <td>https://echa.europa.eu/substance-information/-...</td>\n",
       "      <td>https://echa.europa.eu/brief-profile/-/briefpr...</td>\n",
       "      <td>NaN</td>\n",
       "    </tr>\n",
       "  </tbody>\n",
       "</table>\n",
       "<p>85 rows × 6 columns</p>\n",
       "</div>"
      ],
      "text/plain": [
       "                                         Substance Name EC Number CAS Number  \\\n",
       "524   1-ol, [[4-[(3-aminophenyl)amino]-6-chloro-1,3,...         -          -   \n",
       "776   2-((E)-(4-((4-(1,3-dioxo-1,3-dihydro-2H-hetere...         -          -   \n",
       "825   2-[(8-amino-7-{[4-substituted-2-sulfonatopheny...         -          -   \n",
       "1081  2-propanol and 2-butanol production, distn. re...         -          -   \n",
       "1089  2-Propenoic acid, 2-hydroxyethyl ester, reacti...         -          -   \n",
       "...                                                 ...       ...        ...   \n",
       "5590                                         TexFRon AG         -          -   \n",
       "5595                                       Thiazol Blau         -          -   \n",
       "5673  Tris(2-hydroxyethyl)ammonium salts of tall-oil...         -          -   \n",
       "5769                                              Z-109         -          -   \n",
       "5808  α-d-Glucopyranoside, β-d-fructofuranosyl, mono...         -          -   \n",
       "\n",
       "                             Substance Information Page  \\\n",
       "524   https://echa.europa.eu/substance-information/-...   \n",
       "776   https://echa.europa.eu/substance-information/-...   \n",
       "825   https://echa.europa.eu/substance-information/-...   \n",
       "1081  https://echa.europa.eu/substance-information/-...   \n",
       "1089  https://echa.europa.eu/substance-information/-...   \n",
       "...                                                 ...   \n",
       "5590  https://echa.europa.eu/substance-information/-...   \n",
       "5595  https://echa.europa.eu/substance-information/-...   \n",
       "5673  https://echa.europa.eu/substance-information/-...   \n",
       "5769  https://echa.europa.eu/substance-information/-...   \n",
       "5808  https://echa.europa.eu/substance-information/-...   \n",
       "\n",
       "                                     Brief Profile Page  \\\n",
       "524   https://echa.europa.eu/brief-profile/-/briefpr...   \n",
       "776   https://echa.europa.eu/brief-profile/-/briefpr...   \n",
       "825   https://echa.europa.eu/brief-profile/-/briefpr...   \n",
       "1081  https://echa.europa.eu/brief-profile/-/briefpr...   \n",
       "1089  https://echa.europa.eu/brief-profile/-/briefpr...   \n",
       "...                                                 ...   \n",
       "5590  https://echa.europa.eu/brief-profile/-/briefpr...   \n",
       "5595  https://echa.europa.eu/brief-profile/-/briefpr...   \n",
       "5673  https://echa.europa.eu/brief-profile/-/briefpr...   \n",
       "5769  https://echa.europa.eu/brief-profile/-/briefpr...   \n",
       "5808  https://echa.europa.eu/brief-profile/-/briefpr...   \n",
       "\n",
       "     Substance Regulatory Obligations Page  \n",
       "524                                    NaN  \n",
       "776                                    NaN  \n",
       "825                                    NaN  \n",
       "1081                                   NaN  \n",
       "1089                                   NaN  \n",
       "...                                    ...  \n",
       "5590                                   NaN  \n",
       "5595                                   NaN  \n",
       "5673                                   NaN  \n",
       "5769                                   NaN  \n",
       "5808                                   NaN  \n",
       "\n",
       "[85 rows x 6 columns]"
      ]
     },
     "execution_count": 6,
     "metadata": {},
     "output_type": "execute_result"
    }
   ],
   "source": [
    "echa_df[echa_df['EC Number'] == '-']"
   ]
  },
  {
   "cell_type": "markdown",
   "metadata": {},
   "source": [
    "# Cleaning the JSON  files"
   ]
  },
  {
   "cell_type": "code",
   "execution_count": 7,
   "metadata": {},
   "outputs": [],
   "source": [
    "import json"
   ]
  },
  {
   "cell_type": "code",
   "execution_count": 8,
   "metadata": {},
   "outputs": [],
   "source": [
    "scrape = json.load(open('../data/out_commas.json'))"
   ]
  },
  {
   "cell_type": "code",
   "execution_count": 9,
   "metadata": {},
   "outputs": [
    {
     "data": {
      "text/plain": [
       "5735"
      ]
     },
     "execution_count": 9,
     "metadata": {},
     "output_type": "execute_result"
    }
   ],
   "source": [
    "len(scrape.keys())"
   ]
  },
  {
   "cell_type": "code",
   "execution_count": 10,
   "metadata": {},
   "outputs": [],
   "source": [
    "keys = list(scrape.keys())"
   ]
  },
  {
   "cell_type": "code",
   "execution_count": 11,
   "metadata": {},
   "outputs": [],
   "source": [
    "scrape_df = pd.read_json('../data/out_commas.json')"
   ]
  },
  {
   "cell_type": "code",
   "execution_count": 12,
   "metadata": {},
   "outputs": [
    {
     "data": {
      "text/html": [
       "<div>\n",
       "<style scoped>\n",
       "    .dataframe tbody tr th:only-of-type {\n",
       "        vertical-align: middle;\n",
       "    }\n",
       "\n",
       "    .dataframe tbody tr th {\n",
       "        vertical-align: top;\n",
       "    }\n",
       "\n",
       "    .dataframe thead th {\n",
       "        text-align: right;\n",
       "    }\n",
       "</style>\n",
       "<table border=\"1\" class=\"dataframe\">\n",
       "  <thead>\n",
       "    <tr style=\"text-align: right;\">\n",
       "      <th></th>\n",
       "      <th>general</th>\n",
       "      <th>consumer uses</th>\n",
       "      <th>article service life</th>\n",
       "      <th>widespread uses by professional workers</th>\n",
       "      <th>formulation or re-packing</th>\n",
       "      <th>uses at industrial sites</th>\n",
       "      <th>manufacture</th>\n",
       "      <th>biocidal uses</th>\n",
       "    </tr>\n",
       "  </thead>\n",
       "  <tbody>\n",
       "    <tr>\n",
       "      <th>203-770-8</th>\n",
       "      <td>[This substance is registered under the REACH ...</td>\n",
       "      <td>[This substance is used in the following produ...</td>\n",
       "      <td>[ECHA has no public registered data on the use...</td>\n",
       "      <td>[ECHA has no public registered data indicating...</td>\n",
       "      <td>[ECHA has no public registered data indicating...</td>\n",
       "      <td>[ECHA has no public registered data indicating...</td>\n",
       "      <td>[This substance is used in the following activ...</td>\n",
       "      <td>NaN</td>\n",
       "    </tr>\n",
       "    <tr>\n",
       "      <th>246-466-0</th>\n",
       "      <td>[This substance is registered under the REACH ...</td>\n",
       "      <td>[This substance is used in the following produ...</td>\n",
       "      <td>[ECHA has no public registered data on the use...</td>\n",
       "      <td>[ECHA has no public registered data indicating...</td>\n",
       "      <td>[ECHA has no public registered data indicating...</td>\n",
       "      <td>[ECHA has no public registered data indicating...</td>\n",
       "      <td>[This substance is used in the following activ...</td>\n",
       "      <td>NaN</td>\n",
       "    </tr>\n",
       "    <tr>\n",
       "      <th>207-355-2</th>\n",
       "      <td>[This substance is registered under the REACH ...</td>\n",
       "      <td>[This substance is used in the following produ...</td>\n",
       "      <td>[ECHA has no public registered data on the use...</td>\n",
       "      <td>[This substance is used in the following produ...</td>\n",
       "      <td>[This substance is used in the following produ...</td>\n",
       "      <td>[This substance is used in the following produ...</td>\n",
       "      <td>[This substance is used in the following activ...</td>\n",
       "      <td>NaN</td>\n",
       "    </tr>\n",
       "    <tr>\n",
       "      <th>252-036-3</th>\n",
       "      <td>[This substance is registered under the REACH ...</td>\n",
       "      <td>[This substance is used in the following produ...</td>\n",
       "      <td>[ECHA has no public registered data on the use...</td>\n",
       "      <td>[This substance is used in the following produ...</td>\n",
       "      <td>[This substance is used in the following produ...</td>\n",
       "      <td>[This substance is used in the following produ...</td>\n",
       "      <td>[This substance is used in the following activ...</td>\n",
       "      <td>NaN</td>\n",
       "    </tr>\n",
       "    <tr>\n",
       "      <th>214-275-1</th>\n",
       "      <td>[This substance is registered under the REACH ...</td>\n",
       "      <td>[ECHA has no public registered data indicating...</td>\n",
       "      <td>[ECHA has no public registered data on the use...</td>\n",
       "      <td>[This substance is used in the following produ...</td>\n",
       "      <td>[ECHA has no public registered data indicating...</td>\n",
       "      <td>[This substance is used in the following produ...</td>\n",
       "      <td>[ECHA has no public registered data on the use...</td>\n",
       "      <td>NaN</td>\n",
       "    </tr>\n",
       "  </tbody>\n",
       "</table>\n",
       "</div>"
      ],
      "text/plain": [
       "                                                     general  \\\n",
       "203-770-8  [This substance is registered under the REACH ...   \n",
       "246-466-0  [This substance is registered under the REACH ...   \n",
       "207-355-2  [This substance is registered under the REACH ...   \n",
       "252-036-3  [This substance is registered under the REACH ...   \n",
       "214-275-1  [This substance is registered under the REACH ...   \n",
       "\n",
       "                                               consumer uses  \\\n",
       "203-770-8  [This substance is used in the following produ...   \n",
       "246-466-0  [This substance is used in the following produ...   \n",
       "207-355-2  [This substance is used in the following produ...   \n",
       "252-036-3  [This substance is used in the following produ...   \n",
       "214-275-1  [ECHA has no public registered data indicating...   \n",
       "\n",
       "                                        article service life  \\\n",
       "203-770-8  [ECHA has no public registered data on the use...   \n",
       "246-466-0  [ECHA has no public registered data on the use...   \n",
       "207-355-2  [ECHA has no public registered data on the use...   \n",
       "252-036-3  [ECHA has no public registered data on the use...   \n",
       "214-275-1  [ECHA has no public registered data on the use...   \n",
       "\n",
       "                     widespread uses by professional workers  \\\n",
       "203-770-8  [ECHA has no public registered data indicating...   \n",
       "246-466-0  [ECHA has no public registered data indicating...   \n",
       "207-355-2  [This substance is used in the following produ...   \n",
       "252-036-3  [This substance is used in the following produ...   \n",
       "214-275-1  [This substance is used in the following produ...   \n",
       "\n",
       "                                   formulation or re-packing  \\\n",
       "203-770-8  [ECHA has no public registered data indicating...   \n",
       "246-466-0  [ECHA has no public registered data indicating...   \n",
       "207-355-2  [This substance is used in the following produ...   \n",
       "252-036-3  [This substance is used in the following produ...   \n",
       "214-275-1  [ECHA has no public registered data indicating...   \n",
       "\n",
       "                                    uses at industrial sites  \\\n",
       "203-770-8  [ECHA has no public registered data indicating...   \n",
       "246-466-0  [ECHA has no public registered data indicating...   \n",
       "207-355-2  [This substance is used in the following produ...   \n",
       "252-036-3  [This substance is used in the following produ...   \n",
       "214-275-1  [This substance is used in the following produ...   \n",
       "\n",
       "                                                 manufacture biocidal uses  \n",
       "203-770-8  [This substance is used in the following activ...           NaN  \n",
       "246-466-0  [This substance is used in the following activ...           NaN  \n",
       "207-355-2  [This substance is used in the following activ...           NaN  \n",
       "252-036-3  [This substance is used in the following activ...           NaN  \n",
       "214-275-1  [ECHA has no public registered data on the use...           NaN  "
      ]
     },
     "execution_count": 12,
     "metadata": {},
     "output_type": "execute_result"
    }
   ],
   "source": [
    "scrape_df.T.head()"
   ]
  },
  {
   "cell_type": "code",
   "execution_count": 13,
   "metadata": {},
   "outputs": [
    {
     "data": {
      "text/plain": [
       "1"
      ]
     },
     "execution_count": 13,
     "metadata": {},
     "output_type": "execute_result"
    }
   ],
   "source": [
    "sum(1 for x in scrape_df.columns.to_list() if x == '-')"
   ]
  },
  {
   "cell_type": "markdown",
   "metadata": {},
   "source": [
    "## Investigating consumer uses"
   ]
  },
  {
   "cell_type": "code",
   "execution_count": 14,
   "metadata": {},
   "outputs": [],
   "source": [
    "uses = scrape_df.T['consumer uses']"
   ]
  },
  {
   "cell_type": "code",
   "execution_count": 15,
   "metadata": {},
   "outputs": [],
   "source": [
    "# only keep first paragraph of uses\n",
    "uses = uses.map(lambda x: x[0])"
   ]
  },
  {
   "cell_type": "code",
   "execution_count": 16,
   "metadata": {},
   "outputs": [],
   "source": [
    "def strip_prefix(x):\n",
    "    pat = re.compile(r'[a-zA-Z ]+: (.+)')\n",
    "    if m := re.match(pat, x):\n",
    "        return m.group(1).rstrip('.')\n",
    "    else:\n",
    "        return \"\""
   ]
  },
  {
   "cell_type": "code",
   "execution_count": 17,
   "metadata": {},
   "outputs": [],
   "source": [
    "uses = uses.map(strip_prefix)"
   ]
  },
  {
   "cell_type": "code",
   "execution_count": 18,
   "metadata": {},
   "outputs": [
    {
     "data": {
      "text/plain": [
       "203-770-8    leather treatment products and washing & clean...\n",
       "246-466-0      lubricants and greases and anti-freeze products\n",
       "207-355-2    perfumes and fragrances, cosmetics and persona...\n",
       "252-036-3                            plant protection products\n",
       "214-275-1                                                     \n",
       "Name: consumer uses, dtype: object"
      ]
     },
     "execution_count": 18,
     "metadata": {},
     "output_type": "execute_result"
    }
   ],
   "source": [
    "uses[:5]"
   ]
  },
  {
   "cell_type": "markdown",
   "metadata": {},
   "source": [
    "## Product categories"
   ]
  },
  {
   "cell_type": "code",
   "execution_count": 19,
   "metadata": {},
   "outputs": [],
   "source": [
    "with open('../product_categories.txt', 'r') as f:\n",
    "    pc = f.read()"
   ]
  },
  {
   "cell_type": "code",
   "execution_count": 20,
   "metadata": {},
   "outputs": [],
   "source": [
    "pat = re.compile(r'(PC [0-9abc]{1,2}): (.+)')"
   ]
  },
  {
   "cell_type": "code",
   "execution_count": 21,
   "metadata": {},
   "outputs": [],
   "source": [
    "product_categories = {}\n",
    "for m in re.finditer(pat, pc):\n",
    "    product_categories[m.group(2).lower()] = m.group(1)"
   ]
  },
  {
   "cell_type": "code",
   "execution_count": 22,
   "metadata": {},
   "outputs": [],
   "source": [
    "keys, vals = zip(*product_categories.items())\n",
    "keys = list(keys)\n",
    "vals = list(vals)"
   ]
  },
  {
   "cell_type": "code",
   "execution_count": 23,
   "metadata": {},
   "outputs": [],
   "source": [
    "template = pd.Series(data=len(vals) * [0], index=vals)"
   ]
  },
  {
   "cell_type": "code",
   "execution_count": 24,
   "metadata": {},
   "outputs": [],
   "source": [
    "product_categories['washing & cleaning products'] = product_categories['washing and cleaning products']"
   ]
  },
  {
   "cell_type": "code",
   "execution_count": 25,
   "metadata": {},
   "outputs": [],
   "source": [
    "def get_pc_vec(x):\n",
    "    result = template.copy()\n",
    "    for k in keys:\n",
    "        if k in x:\n",
    "            result[product_categories[k]] = 1\n",
    "    return result"
   ]
  },
  {
   "cell_type": "code",
   "execution_count": 26,
   "metadata": {},
   "outputs": [],
   "source": [
    "def get_pc_list(x):\n",
    "    result = []\n",
    "    for k in keys:\n",
    "        if k in x:\n",
    "            result.append(k)\n",
    "    return result"
   ]
  },
  {
   "cell_type": "code",
   "execution_count": 27,
   "metadata": {},
   "outputs": [
    {
     "name": "stdout",
     "output_type": "stream",
     "text": [
      "['leather treatment products']\n",
      "[]\n",
      "['air care products', 'fuels']\n",
      "['plant protection products']\n",
      "[]\n"
     ]
    }
   ],
   "source": [
    "for n in range(5):\n",
    "    print(get_pc_list(uses[n]))"
   ]
  },
  {
   "cell_type": "markdown",
   "metadata": {},
   "source": [
    "There are formatting differences between the \"official list\" and the categories scraped from the ECHA website...\n",
    "\n",
    "We could try removing all punctuation (except \"-\") and removing \"and\", and then comparing each key to each row."
   ]
  },
  {
   "cell_type": "markdown",
   "metadata": {},
   "source": [
    "## Filtering for PC 28 and 39"
   ]
  },
  {
   "cell_type": "code",
   "execution_count": 28,
   "metadata": {},
   "outputs": [],
   "source": [
    "peta_keys = keys[37].split(', ')\n",
    "peta_keys.extend(keys[26].split(', '))"
   ]
  },
  {
   "cell_type": "code",
   "execution_count": 29,
   "metadata": {},
   "outputs": [],
   "source": [
    "x = peta_keys.pop(1)"
   ]
  },
  {
   "cell_type": "code",
   "execution_count": 30,
   "metadata": {},
   "outputs": [],
   "source": [
    "peta_keys.extend(x.split(' '))"
   ]
  },
  {
   "cell_type": "code",
   "execution_count": 31,
   "metadata": {},
   "outputs": [
    {
     "data": {
      "text/plain": [
       "['cosmetics', 'perfumes', 'fragrances', 'personal', 'care', 'products']"
      ]
     },
     "execution_count": 31,
     "metadata": {},
     "output_type": "execute_result"
    }
   ],
   "source": [
    "peta_keys"
   ]
  },
  {
   "cell_type": "code",
   "execution_count": 32,
   "metadata": {},
   "outputs": [
    {
     "data": {
      "text/plain": [
       "['leather', 'treatment', 'products', 'and', 'washing', 'cleaning', 'products']"
      ]
     },
     "execution_count": 32,
     "metadata": {},
     "output_type": "execute_result"
    }
   ],
   "source": [
    "pat = re.compile(r'[A-Za-z-]+')\n",
    "re.findall(pat, uses[0])"
   ]
  },
  {
   "cell_type": "code",
   "execution_count": 33,
   "metadata": {},
   "outputs": [],
   "source": [
    "def match2839(x):\n",
    "    pat = re.compile(r'[A-Za-z-]+')\n",
    "    for m in re.findall(pat, x):\n",
    "        if m not in peta_keys:\n",
    "            return False\n",
    "    else:\n",
    "        return True"
   ]
  },
  {
   "cell_type": "code",
   "execution_count": 34,
   "metadata": {},
   "outputs": [],
   "source": [
    "filt = uses.map(match2839)"
   ]
  },
  {
   "cell_type": "code",
   "execution_count": 35,
   "metadata": {},
   "outputs": [],
   "source": [
    "filt2 = uses == \"\""
   ]
  },
  {
   "cell_type": "code",
   "execution_count": 36,
   "metadata": {},
   "outputs": [],
   "source": [
    "def any2839(x):\n",
    "    pat = re.compile(r'[A-Za-z-]+')\n",
    "    for m in re.findall(pat, x):\n",
    "        if m in peta_keys[:-2]:\n",
    "            return True\n",
    "    return False"
   ]
  },
  {
   "cell_type": "code",
   "execution_count": 37,
   "metadata": {},
   "outputs": [],
   "source": [
    "filt3 = uses.map(any2839)"
   ]
  },
  {
   "cell_type": "code",
   "execution_count": 38,
   "metadata": {},
   "outputs": [
    {
     "data": {
      "text/plain": [
       "2085"
      ]
     },
     "execution_count": 38,
     "metadata": {},
     "output_type": "execute_result"
    }
   ],
   "source": [
    "sum(filt3)"
   ]
  },
  {
   "cell_type": "code",
   "execution_count": 39,
   "metadata": {},
   "outputs": [
    {
     "data": {
      "text/plain": [
       "207-355-2    perfumes and fragrances, cosmetics and persona...\n",
       "239-387-8    air care products, biocides (e.g. disinfectant...\n",
       "218-691-4    air care products, biocides (e.g. disinfectant...\n",
       "201-766-0    cosmetics and personal care products, washing ...\n",
       "944-817-9    biocides (e.g. disinfectants, pest control pro...\n",
       "                                   ...                        \n",
       "200-412-2    cosmetics and personal care products and pharm...\n",
       "224-403-8    pharmaceuticals and cosmetics and personal car...\n",
       "276-333-2    air care products, biocides (e.g. disinfectant...\n",
       "230-636-6                 cosmetics and personal care products\n",
       "412-050-4    air care products, biocides (e.g. disinfectant...\n",
       "Name: consumer uses, Length: 2085, dtype: object"
      ]
     },
     "execution_count": 39,
     "metadata": {},
     "output_type": "execute_result"
    }
   ],
   "source": [
    "uses[filt3]"
   ]
  },
  {
   "cell_type": "markdown",
   "metadata": {},
   "source": [
    "## Cosmetic only products"
   ]
  },
  {
   "cell_type": "code",
   "execution_count": 40,
   "metadata": {},
   "outputs": [],
   "source": [
    "filt4 = uses == 'cosmetics and personal care products'"
   ]
  },
  {
   "cell_type": "code",
   "execution_count": 41,
   "metadata": {},
   "outputs": [
    {
     "data": {
      "text/plain": [
       "813-180-8    cosmetics and personal care products\n",
       "700-097-6    cosmetics and personal care products\n",
       "700-185-4    cosmetics and personal care products\n",
       "242-893-1    cosmetics and personal care products\n",
       "204-815-4    cosmetics and personal care products\n",
       "                             ...                 \n",
       "261-674-1    cosmetics and personal care products\n",
       "240-178-9    cosmetics and personal care products\n",
       "244-955-3    cosmetics and personal care products\n",
       "947-887-9    cosmetics and personal care products\n",
       "230-636-6    cosmetics and personal care products\n",
       "Name: consumer uses, Length: 471, dtype: object"
      ]
     },
     "execution_count": 41,
     "metadata": {},
     "output_type": "execute_result"
    }
   ],
   "source": [
    "uses[filt4]"
   ]
  },
  {
   "cell_type": "code",
   "execution_count": 42,
   "metadata": {},
   "outputs": [
    {
     "data": {
      "text/plain": [
       "471"
      ]
     },
     "execution_count": 42,
     "metadata": {},
     "output_type": "execute_result"
    }
   ],
   "source": [
    "sum(filt4)"
   ]
  },
  {
   "cell_type": "code",
   "execution_count": 43,
   "metadata": {},
   "outputs": [],
   "source": [
    "cosmetics = scrape_df.T[filt4]"
   ]
  },
  {
   "cell_type": "code",
   "execution_count": 44,
   "metadata": {},
   "outputs": [
    {
     "data": {
      "text/html": [
       "<div>\n",
       "<style scoped>\n",
       "    .dataframe tbody tr th:only-of-type {\n",
       "        vertical-align: middle;\n",
       "    }\n",
       "\n",
       "    .dataframe tbody tr th {\n",
       "        vertical-align: top;\n",
       "    }\n",
       "\n",
       "    .dataframe thead th {\n",
       "        text-align: right;\n",
       "    }\n",
       "</style>\n",
       "<table border=\"1\" class=\"dataframe\">\n",
       "  <thead>\n",
       "    <tr style=\"text-align: right;\">\n",
       "      <th></th>\n",
       "      <th>general</th>\n",
       "      <th>consumer uses</th>\n",
       "      <th>article service life</th>\n",
       "      <th>widespread uses by professional workers</th>\n",
       "      <th>formulation or re-packing</th>\n",
       "      <th>uses at industrial sites</th>\n",
       "      <th>manufacture</th>\n",
       "      <th>biocidal uses</th>\n",
       "    </tr>\n",
       "  </thead>\n",
       "  <tbody>\n",
       "    <tr>\n",
       "      <th>813-180-8</th>\n",
       "      <td>[This substance is registered under the REACH ...</td>\n",
       "      <td>[This substance is used in the following produ...</td>\n",
       "      <td>[ECHA has no public registered data on the use...</td>\n",
       "      <td>[ECHA has no public registered data indicating...</td>\n",
       "      <td>[This substance is used in the following produ...</td>\n",
       "      <td>[ECHA has no public registered data indicating...</td>\n",
       "      <td>[This substance is used in the following activ...</td>\n",
       "      <td>NaN</td>\n",
       "    </tr>\n",
       "    <tr>\n",
       "      <th>700-097-6</th>\n",
       "      <td>[This substance is registered under the REACH ...</td>\n",
       "      <td>[This substance is used in the following produ...</td>\n",
       "      <td>[ECHA has no public registered data on the use...</td>\n",
       "      <td>[ECHA has no public registered data indicating...</td>\n",
       "      <td>[This substance is used in the following produ...</td>\n",
       "      <td>[ECHA has no public registered data indicating...</td>\n",
       "      <td>[This substance is used in the following activ...</td>\n",
       "      <td>NaN</td>\n",
       "    </tr>\n",
       "    <tr>\n",
       "      <th>700-185-4</th>\n",
       "      <td>[This substance is registered under the REACH ...</td>\n",
       "      <td>[This substance is used in the following produ...</td>\n",
       "      <td>[ECHA has no public registered data on the use...</td>\n",
       "      <td>[ECHA has no public registered data indicating...</td>\n",
       "      <td>[This substance is used in the following produ...</td>\n",
       "      <td>[ECHA has no public registered data indicating...</td>\n",
       "      <td>[This substance is used in the following activ...</td>\n",
       "      <td>NaN</td>\n",
       "    </tr>\n",
       "    <tr>\n",
       "      <th>242-893-1</th>\n",
       "      <td>[This substance is registered under the REACH ...</td>\n",
       "      <td>[This substance is used in the following produ...</td>\n",
       "      <td>[ECHA has no public registered data on the use...</td>\n",
       "      <td>[ECHA has no public registered data indicating...</td>\n",
       "      <td>[This substance is used in the following produ...</td>\n",
       "      <td>[ECHA has no public registered data indicating...</td>\n",
       "      <td>[This substance is used in the following activ...</td>\n",
       "      <td>NaN</td>\n",
       "    </tr>\n",
       "    <tr>\n",
       "      <th>204-815-4</th>\n",
       "      <td>[This substance is registered under the REACH ...</td>\n",
       "      <td>[This substance is used in the following produ...</td>\n",
       "      <td>[ECHA has no public registered data on the use...</td>\n",
       "      <td>[ECHA has no public registered data indicating...</td>\n",
       "      <td>[This substance is used in the following produ...</td>\n",
       "      <td>[ECHA has no public registered data indicating...</td>\n",
       "      <td>[This substance is used in the following activ...</td>\n",
       "      <td>NaN</td>\n",
       "    </tr>\n",
       "  </tbody>\n",
       "</table>\n",
       "</div>"
      ],
      "text/plain": [
       "                                                     general  \\\n",
       "813-180-8  [This substance is registered under the REACH ...   \n",
       "700-097-6  [This substance is registered under the REACH ...   \n",
       "700-185-4  [This substance is registered under the REACH ...   \n",
       "242-893-1  [This substance is registered under the REACH ...   \n",
       "204-815-4  [This substance is registered under the REACH ...   \n",
       "\n",
       "                                               consumer uses  \\\n",
       "813-180-8  [This substance is used in the following produ...   \n",
       "700-097-6  [This substance is used in the following produ...   \n",
       "700-185-4  [This substance is used in the following produ...   \n",
       "242-893-1  [This substance is used in the following produ...   \n",
       "204-815-4  [This substance is used in the following produ...   \n",
       "\n",
       "                                        article service life  \\\n",
       "813-180-8  [ECHA has no public registered data on the use...   \n",
       "700-097-6  [ECHA has no public registered data on the use...   \n",
       "700-185-4  [ECHA has no public registered data on the use...   \n",
       "242-893-1  [ECHA has no public registered data on the use...   \n",
       "204-815-4  [ECHA has no public registered data on the use...   \n",
       "\n",
       "                     widespread uses by professional workers  \\\n",
       "813-180-8  [ECHA has no public registered data indicating...   \n",
       "700-097-6  [ECHA has no public registered data indicating...   \n",
       "700-185-4  [ECHA has no public registered data indicating...   \n",
       "242-893-1  [ECHA has no public registered data indicating...   \n",
       "204-815-4  [ECHA has no public registered data indicating...   \n",
       "\n",
       "                                   formulation or re-packing  \\\n",
       "813-180-8  [This substance is used in the following produ...   \n",
       "700-097-6  [This substance is used in the following produ...   \n",
       "700-185-4  [This substance is used in the following produ...   \n",
       "242-893-1  [This substance is used in the following produ...   \n",
       "204-815-4  [This substance is used in the following produ...   \n",
       "\n",
       "                                    uses at industrial sites  \\\n",
       "813-180-8  [ECHA has no public registered data indicating...   \n",
       "700-097-6  [ECHA has no public registered data indicating...   \n",
       "700-185-4  [ECHA has no public registered data indicating...   \n",
       "242-893-1  [ECHA has no public registered data indicating...   \n",
       "204-815-4  [ECHA has no public registered data indicating...   \n",
       "\n",
       "                                                 manufacture biocidal uses  \n",
       "813-180-8  [This substance is used in the following activ...           NaN  \n",
       "700-097-6  [This substance is used in the following activ...           NaN  \n",
       "700-185-4  [This substance is used in the following activ...           NaN  \n",
       "242-893-1  [This substance is used in the following activ...           NaN  \n",
       "204-815-4  [This substance is used in the following activ...           NaN  "
      ]
     },
     "execution_count": 44,
     "metadata": {},
     "output_type": "execute_result"
    }
   ],
   "source": [
    "cosmetics.head()"
   ]
  },
  {
   "cell_type": "code",
   "execution_count": 45,
   "metadata": {},
   "outputs": [
    {
     "data": {
      "text/plain": [
       "['This substance is registered under the REACH Regulation and is manufactured in and / or imported to the European Economic Area, at ≥ 1 to < 10 per annum.',\n",
       " 'This substance is used by consumers, in formulation or re-packing and in manufacturing.']"
      ]
     },
     "execution_count": 45,
     "metadata": {},
     "output_type": "execute_result"
    }
   ],
   "source": [
    "cosmetics.iloc[0, 0]"
   ]
  },
  {
   "cell_type": "code",
   "execution_count": 46,
   "metadata": {},
   "outputs": [],
   "source": [
    "def tonnage(x):\n",
    "    pat = re.compile(r'at (.+?) per annum.?')\n",
    "    if m := re.search(pat, x):\n",
    "        return m.group(1)\n",
    "    else:\n",
    "        return \"\""
   ]
  },
  {
   "cell_type": "code",
   "execution_count": 47,
   "metadata": {},
   "outputs": [
    {
     "data": {
      "text/plain": [
       "'≥ 1 to < 10'"
      ]
     },
     "execution_count": 47,
     "metadata": {},
     "output_type": "execute_result"
    }
   ],
   "source": [
    "tonnage(cosmetics.iloc[0, 0][0])"
   ]
  },
  {
   "cell_type": "code",
   "execution_count": 48,
   "metadata": {},
   "outputs": [],
   "source": [
    "cosmetics['tonnage'] = cosmetics['general'].map(lambda x: x[0]).map(tonnage)"
   ]
  },
  {
   "cell_type": "code",
   "execution_count": 49,
   "metadata": {},
   "outputs": [
    {
     "data": {
      "text/html": [
       "<div>\n",
       "<style scoped>\n",
       "    .dataframe tbody tr th:only-of-type {\n",
       "        vertical-align: middle;\n",
       "    }\n",
       "\n",
       "    .dataframe tbody tr th {\n",
       "        vertical-align: top;\n",
       "    }\n",
       "\n",
       "    .dataframe thead th {\n",
       "        text-align: right;\n",
       "    }\n",
       "</style>\n",
       "<table border=\"1\" class=\"dataframe\">\n",
       "  <thead>\n",
       "    <tr style=\"text-align: right;\">\n",
       "      <th></th>\n",
       "      <th>general</th>\n",
       "      <th>consumer uses</th>\n",
       "      <th>article service life</th>\n",
       "      <th>widespread uses by professional workers</th>\n",
       "      <th>formulation or re-packing</th>\n",
       "      <th>uses at industrial sites</th>\n",
       "      <th>manufacture</th>\n",
       "      <th>biocidal uses</th>\n",
       "      <th>tonnage</th>\n",
       "    </tr>\n",
       "  </thead>\n",
       "  <tbody>\n",
       "    <tr>\n",
       "      <th>813-180-8</th>\n",
       "      <td>[This substance is registered under the REACH ...</td>\n",
       "      <td>[This substance is used in the following produ...</td>\n",
       "      <td>[ECHA has no public registered data on the use...</td>\n",
       "      <td>[ECHA has no public registered data indicating...</td>\n",
       "      <td>[This substance is used in the following produ...</td>\n",
       "      <td>[ECHA has no public registered data indicating...</td>\n",
       "      <td>[This substance is used in the following activ...</td>\n",
       "      <td>NaN</td>\n",
       "      <td>≥ 1 to &lt; 10</td>\n",
       "    </tr>\n",
       "    <tr>\n",
       "      <th>700-097-6</th>\n",
       "      <td>[This substance is registered under the REACH ...</td>\n",
       "      <td>[This substance is used in the following produ...</td>\n",
       "      <td>[ECHA has no public registered data on the use...</td>\n",
       "      <td>[ECHA has no public registered data indicating...</td>\n",
       "      <td>[This substance is used in the following produ...</td>\n",
       "      <td>[ECHA has no public registered data indicating...</td>\n",
       "      <td>[This substance is used in the following activ...</td>\n",
       "      <td>NaN</td>\n",
       "      <td>≥ 1 to &lt; 10</td>\n",
       "    </tr>\n",
       "    <tr>\n",
       "      <th>700-185-4</th>\n",
       "      <td>[This substance is registered under the REACH ...</td>\n",
       "      <td>[This substance is used in the following produ...</td>\n",
       "      <td>[ECHA has no public registered data on the use...</td>\n",
       "      <td>[ECHA has no public registered data indicating...</td>\n",
       "      <td>[This substance is used in the following produ...</td>\n",
       "      <td>[ECHA has no public registered data indicating...</td>\n",
       "      <td>[This substance is used in the following activ...</td>\n",
       "      <td>NaN</td>\n",
       "      <td>≥ 1 to &lt; 10 tonnes</td>\n",
       "    </tr>\n",
       "    <tr>\n",
       "      <th>242-893-1</th>\n",
       "      <td>[This substance is registered under the REACH ...</td>\n",
       "      <td>[This substance is used in the following produ...</td>\n",
       "      <td>[ECHA has no public registered data on the use...</td>\n",
       "      <td>[ECHA has no public registered data indicating...</td>\n",
       "      <td>[This substance is used in the following produ...</td>\n",
       "      <td>[ECHA has no public registered data indicating...</td>\n",
       "      <td>[This substance is used in the following activ...</td>\n",
       "      <td>NaN</td>\n",
       "      <td>≥ 10 to &lt; 100</td>\n",
       "    </tr>\n",
       "    <tr>\n",
       "      <th>204-815-4</th>\n",
       "      <td>[This substance is registered under the REACH ...</td>\n",
       "      <td>[This substance is used in the following produ...</td>\n",
       "      <td>[ECHA has no public registered data on the use...</td>\n",
       "      <td>[ECHA has no public registered data indicating...</td>\n",
       "      <td>[This substance is used in the following produ...</td>\n",
       "      <td>[ECHA has no public registered data indicating...</td>\n",
       "      <td>[This substance is used in the following activ...</td>\n",
       "      <td>NaN</td>\n",
       "      <td>≥ 100 to &lt; 1 000 tonnes</td>\n",
       "    </tr>\n",
       "  </tbody>\n",
       "</table>\n",
       "</div>"
      ],
      "text/plain": [
       "                                                     general  \\\n",
       "813-180-8  [This substance is registered under the REACH ...   \n",
       "700-097-6  [This substance is registered under the REACH ...   \n",
       "700-185-4  [This substance is registered under the REACH ...   \n",
       "242-893-1  [This substance is registered under the REACH ...   \n",
       "204-815-4  [This substance is registered under the REACH ...   \n",
       "\n",
       "                                               consumer uses  \\\n",
       "813-180-8  [This substance is used in the following produ...   \n",
       "700-097-6  [This substance is used in the following produ...   \n",
       "700-185-4  [This substance is used in the following produ...   \n",
       "242-893-1  [This substance is used in the following produ...   \n",
       "204-815-4  [This substance is used in the following produ...   \n",
       "\n",
       "                                        article service life  \\\n",
       "813-180-8  [ECHA has no public registered data on the use...   \n",
       "700-097-6  [ECHA has no public registered data on the use...   \n",
       "700-185-4  [ECHA has no public registered data on the use...   \n",
       "242-893-1  [ECHA has no public registered data on the use...   \n",
       "204-815-4  [ECHA has no public registered data on the use...   \n",
       "\n",
       "                     widespread uses by professional workers  \\\n",
       "813-180-8  [ECHA has no public registered data indicating...   \n",
       "700-097-6  [ECHA has no public registered data indicating...   \n",
       "700-185-4  [ECHA has no public registered data indicating...   \n",
       "242-893-1  [ECHA has no public registered data indicating...   \n",
       "204-815-4  [ECHA has no public registered data indicating...   \n",
       "\n",
       "                                   formulation or re-packing  \\\n",
       "813-180-8  [This substance is used in the following produ...   \n",
       "700-097-6  [This substance is used in the following produ...   \n",
       "700-185-4  [This substance is used in the following produ...   \n",
       "242-893-1  [This substance is used in the following produ...   \n",
       "204-815-4  [This substance is used in the following produ...   \n",
       "\n",
       "                                    uses at industrial sites  \\\n",
       "813-180-8  [ECHA has no public registered data indicating...   \n",
       "700-097-6  [ECHA has no public registered data indicating...   \n",
       "700-185-4  [ECHA has no public registered data indicating...   \n",
       "242-893-1  [ECHA has no public registered data indicating...   \n",
       "204-815-4  [ECHA has no public registered data indicating...   \n",
       "\n",
       "                                                 manufacture biocidal uses  \\\n",
       "813-180-8  [This substance is used in the following activ...           NaN   \n",
       "700-097-6  [This substance is used in the following activ...           NaN   \n",
       "700-185-4  [This substance is used in the following activ...           NaN   \n",
       "242-893-1  [This substance is used in the following activ...           NaN   \n",
       "204-815-4  [This substance is used in the following activ...           NaN   \n",
       "\n",
       "                           tonnage  \n",
       "813-180-8              ≥ 1 to < 10  \n",
       "700-097-6              ≥ 1 to < 10  \n",
       "700-185-4       ≥ 1 to < 10 tonnes  \n",
       "242-893-1            ≥ 10 to < 100  \n",
       "204-815-4  ≥ 100 to < 1 000 tonnes  "
      ]
     },
     "execution_count": 49,
     "metadata": {},
     "output_type": "execute_result"
    }
   ],
   "source": [
    "cosmetics.head()"
   ]
  },
  {
   "cell_type": "code",
   "execution_count": 50,
   "metadata": {},
   "outputs": [],
   "source": [
    "no_tonnage_filt = cosmetics['tonnage'] == \"\""
   ]
  },
  {
   "cell_type": "code",
   "execution_count": 51,
   "metadata": {},
   "outputs": [
    {
     "name": "stdout",
     "output_type": "stream",
     "text": [
      "<class 'pandas.core.frame.DataFrame'>\n",
      "Index: 471 entries, 813-180-8 to 230-636-6\n",
      "Data columns (total 9 columns):\n",
      " #   Column                                   Non-Null Count  Dtype \n",
      "---  ------                                   --------------  ----- \n",
      " 0   general                                  471 non-null    object\n",
      " 1   consumer uses                            471 non-null    object\n",
      " 2   article service life                     471 non-null    object\n",
      " 3   widespread uses by professional workers  471 non-null    object\n",
      " 4   formulation or re-packing                471 non-null    object\n",
      " 5   uses at industrial sites                 471 non-null    object\n",
      " 6   manufacture                              471 non-null    object\n",
      " 7   biocidal uses                            6 non-null      object\n",
      " 8   tonnage                                  471 non-null    object\n",
      "dtypes: object(9)\n",
      "memory usage: 36.8+ KB\n"
     ]
    }
   ],
   "source": [
    "cosmetics.info()"
   ]
  },
  {
   "cell_type": "markdown",
   "metadata": {},
   "source": [
    "## Investigating article service life"
   ]
  },
  {
   "cell_type": "code",
   "execution_count": 52,
   "metadata": {},
   "outputs": [
    {
     "data": {
      "text/plain": [
       "['ECHA has no public registered data on the use of this substance in activities or processes at the workplace.',\n",
       " 'ECHA has no public registered data on the routes by which this substance is most likely to be released to the environment.',\n",
       " 'ECHA has no public registered data indicating whether or into which articles the substance might have been processed.']"
      ]
     },
     "execution_count": 52,
     "metadata": {},
     "output_type": "execute_result"
    }
   ],
   "source": [
    "cosmetics['article service life'][0]"
   ]
  },
  {
   "cell_type": "code",
   "execution_count": 53,
   "metadata": {},
   "outputs": [],
   "source": [
    "import numpy as np"
   ]
  },
  {
   "cell_type": "code",
   "execution_count": 54,
   "metadata": {},
   "outputs": [],
   "source": [
    "def no_public_data(x):\n",
    "    if x is np.nan:\n",
    "        return x\n",
    "    elif x.startswith('ECHA has no public registered data'):\n",
    "        return np.nan\n",
    "    else:\n",
    "        return x"
   ]
  },
  {
   "cell_type": "code",
   "execution_count": 55,
   "metadata": {},
   "outputs": [],
   "source": [
    "asl = cosmetics['article service life']"
   ]
  },
  {
   "cell_type": "code",
   "execution_count": 56,
   "metadata": {},
   "outputs": [],
   "source": [
    "asl = (asl.transform(lambda x: pd.Series(x))\n",
    "          .applymap(no_public_data)\n",
    "          .dropna(how='all'))"
   ]
  },
  {
   "cell_type": "code",
   "execution_count": 57,
   "metadata": {},
   "outputs": [
    {
     "data": {
      "text/plain": [
       "'This substance is used in the following activities or processes at workplace: transfer of chemicals, mixing in open batch processes, transfer of substance into small containers and production of mixtures or articles by tabletting, compression, extrusion or pelletisation.'"
      ]
     },
     "execution_count": 57,
     "metadata": {},
     "output_type": "execute_result"
    }
   ],
   "source": [
    "asl.iloc[1, 0]"
   ]
  },
  {
   "cell_type": "markdown",
   "metadata": {},
   "source": [
    "## Investigating widespread use by professional workers"
   ]
  },
  {
   "cell_type": "code",
   "execution_count": 58,
   "metadata": {},
   "outputs": [],
   "source": [
    "wubpw = cosmetics['widespread uses by professional workers']"
   ]
  },
  {
   "cell_type": "code",
   "execution_count": 59,
   "metadata": {},
   "outputs": [],
   "source": [
    "wubpw = wubpw.transform(lambda x: pd.Series(x))"
   ]
  },
  {
   "cell_type": "code",
   "execution_count": 60,
   "metadata": {},
   "outputs": [],
   "source": [
    "wubpw = wubpw.applymap(no_public_data).dropna(how='all')"
   ]
  },
  {
   "cell_type": "code",
   "execution_count": 61,
   "metadata": {},
   "outputs": [
    {
     "name": "stdout",
     "output_type": "stream",
     "text": [
      "<class 'pandas.core.frame.DataFrame'>\n",
      "Index: 253 entries, 250-342-1 to 947-887-9\n",
      "Data columns (total 4 columns):\n",
      " #   Column  Non-Null Count  Dtype \n",
      "---  ------  --------------  ----- \n",
      " 0   0       219 non-null    object\n",
      " 1   1       61 non-null     object\n",
      " 2   2       206 non-null    object\n",
      " 3   3       253 non-null    object\n",
      "dtypes: object(4)\n",
      "memory usage: 9.9+ KB\n"
     ]
    }
   ],
   "source": [
    "wubpw.info()"
   ]
  },
  {
   "cell_type": "code",
   "execution_count": 62,
   "metadata": {},
   "outputs": [
    {
     "name": "stdout",
     "output_type": "stream",
     "text": [
      "This substance is used in the following activities or processes at workplace: roller or brushing applications and hand mixing with intimate contact only with personal protective equipment available.\n",
      "\n",
      "This substance is used in the following activities or processes at workplace: transfer of chemicals, closed processes with no likelihood of exposure, closed, continuous processes with occasional controlled exposure, closed batch processing in synthesis or formulation, mixing in open batch processes, transfer of substance into small containers, production of mixtures or articles by tabletting, compression, extrusion or pelletisation and laboratory work.\n",
      "\n",
      "This substance is used in the following activities or processes at workplace: hand mixing with intimate contact only with personal protective equipment available.\n",
      "\n",
      "nan\n",
      "\n",
      "This substance is used in the following activities or processes at workplace: mixing in open batch processes.\n",
      "\n"
     ]
    }
   ],
   "source": [
    "for n in range(5):\n",
    "    print(wubpw.iloc[n, 2], end='\\n\\n')"
   ]
  },
  {
   "cell_type": "markdown",
   "metadata": {},
   "source": [
    "## Investigating uses at industrial sites"
   ]
  },
  {
   "cell_type": "code",
   "execution_count": 63,
   "metadata": {},
   "outputs": [],
   "source": [
    "industrial = cosmetics['uses at industrial sites']"
   ]
  },
  {
   "cell_type": "code",
   "execution_count": 64,
   "metadata": {},
   "outputs": [],
   "source": [
    "industrial = (industrial.transform(lambda x: pd.Series(x))\n",
    "              .applymap(no_public_data))[0]"
   ]
  },
  {
   "cell_type": "code",
   "execution_count": 65,
   "metadata": {},
   "outputs": [
    {
     "data": {
      "text/plain": [
       "813-180-8                                                  NaN\n",
       "700-097-6                                                  NaN\n",
       "700-185-4                                                  NaN\n",
       "242-893-1                                                  NaN\n",
       "204-815-4                                                  NaN\n",
       "                                   ...                        \n",
       "261-674-1                                                  NaN\n",
       "240-178-9    This substance is used in the following produc...\n",
       "244-955-3                                                  NaN\n",
       "947-887-9                                                  NaN\n",
       "230-636-6                                                  NaN\n",
       "Name: 0, Length: 471, dtype: object"
      ]
     },
     "execution_count": 65,
     "metadata": {},
     "output_type": "execute_result"
    }
   ],
   "source": [
    "industrial"
   ]
  },
  {
   "cell_type": "code",
   "execution_count": 66,
   "metadata": {},
   "outputs": [],
   "source": [
    "filt1 = industrial == 'This substance is used in the following products: cosmetics and personal care products.'\n",
    "filt2 = industrial.isna()"
   ]
  },
  {
   "cell_type": "code",
   "execution_count": 67,
   "metadata": {},
   "outputs": [],
   "source": [
    "cos_no_industry = cosmetics[filt1 | filt2]"
   ]
  },
  {
   "cell_type": "code",
   "execution_count": 68,
   "metadata": {},
   "outputs": [
    {
     "data": {
      "text/html": [
       "<div>\n",
       "<style scoped>\n",
       "    .dataframe tbody tr th:only-of-type {\n",
       "        vertical-align: middle;\n",
       "    }\n",
       "\n",
       "    .dataframe tbody tr th {\n",
       "        vertical-align: top;\n",
       "    }\n",
       "\n",
       "    .dataframe thead th {\n",
       "        text-align: right;\n",
       "    }\n",
       "</style>\n",
       "<table border=\"1\" class=\"dataframe\">\n",
       "  <thead>\n",
       "    <tr style=\"text-align: right;\">\n",
       "      <th></th>\n",
       "      <th>general</th>\n",
       "      <th>consumer uses</th>\n",
       "      <th>article service life</th>\n",
       "      <th>widespread uses by professional workers</th>\n",
       "      <th>formulation or re-packing</th>\n",
       "      <th>uses at industrial sites</th>\n",
       "      <th>manufacture</th>\n",
       "      <th>biocidal uses</th>\n",
       "      <th>tonnage</th>\n",
       "    </tr>\n",
       "  </thead>\n",
       "  <tbody>\n",
       "    <tr>\n",
       "      <th>813-180-8</th>\n",
       "      <td>[This substance is registered under the REACH ...</td>\n",
       "      <td>[This substance is used in the following produ...</td>\n",
       "      <td>[ECHA has no public registered data on the use...</td>\n",
       "      <td>[ECHA has no public registered data indicating...</td>\n",
       "      <td>[This substance is used in the following produ...</td>\n",
       "      <td>[ECHA has no public registered data indicating...</td>\n",
       "      <td>[This substance is used in the following activ...</td>\n",
       "      <td>NaN</td>\n",
       "      <td>≥ 1 to &lt; 10</td>\n",
       "    </tr>\n",
       "    <tr>\n",
       "      <th>700-097-6</th>\n",
       "      <td>[This substance is registered under the REACH ...</td>\n",
       "      <td>[This substance is used in the following produ...</td>\n",
       "      <td>[ECHA has no public registered data on the use...</td>\n",
       "      <td>[ECHA has no public registered data indicating...</td>\n",
       "      <td>[This substance is used in the following produ...</td>\n",
       "      <td>[ECHA has no public registered data indicating...</td>\n",
       "      <td>[This substance is used in the following activ...</td>\n",
       "      <td>NaN</td>\n",
       "      <td>≥ 1 to &lt; 10</td>\n",
       "    </tr>\n",
       "    <tr>\n",
       "      <th>700-185-4</th>\n",
       "      <td>[This substance is registered under the REACH ...</td>\n",
       "      <td>[This substance is used in the following produ...</td>\n",
       "      <td>[ECHA has no public registered data on the use...</td>\n",
       "      <td>[ECHA has no public registered data indicating...</td>\n",
       "      <td>[This substance is used in the following produ...</td>\n",
       "      <td>[ECHA has no public registered data indicating...</td>\n",
       "      <td>[This substance is used in the following activ...</td>\n",
       "      <td>NaN</td>\n",
       "      <td>≥ 1 to &lt; 10 tonnes</td>\n",
       "    </tr>\n",
       "    <tr>\n",
       "      <th>242-893-1</th>\n",
       "      <td>[This substance is registered under the REACH ...</td>\n",
       "      <td>[This substance is used in the following produ...</td>\n",
       "      <td>[ECHA has no public registered data on the use...</td>\n",
       "      <td>[ECHA has no public registered data indicating...</td>\n",
       "      <td>[This substance is used in the following produ...</td>\n",
       "      <td>[ECHA has no public registered data indicating...</td>\n",
       "      <td>[This substance is used in the following activ...</td>\n",
       "      <td>NaN</td>\n",
       "      <td>≥ 10 to &lt; 100</td>\n",
       "    </tr>\n",
       "    <tr>\n",
       "      <th>204-815-4</th>\n",
       "      <td>[This substance is registered under the REACH ...</td>\n",
       "      <td>[This substance is used in the following produ...</td>\n",
       "      <td>[ECHA has no public registered data on the use...</td>\n",
       "      <td>[ECHA has no public registered data indicating...</td>\n",
       "      <td>[This substance is used in the following produ...</td>\n",
       "      <td>[ECHA has no public registered data indicating...</td>\n",
       "      <td>[This substance is used in the following activ...</td>\n",
       "      <td>NaN</td>\n",
       "      <td>≥ 100 to &lt; 1 000 tonnes</td>\n",
       "    </tr>\n",
       "  </tbody>\n",
       "</table>\n",
       "</div>"
      ],
      "text/plain": [
       "                                                     general  \\\n",
       "813-180-8  [This substance is registered under the REACH ...   \n",
       "700-097-6  [This substance is registered under the REACH ...   \n",
       "700-185-4  [This substance is registered under the REACH ...   \n",
       "242-893-1  [This substance is registered under the REACH ...   \n",
       "204-815-4  [This substance is registered under the REACH ...   \n",
       "\n",
       "                                               consumer uses  \\\n",
       "813-180-8  [This substance is used in the following produ...   \n",
       "700-097-6  [This substance is used in the following produ...   \n",
       "700-185-4  [This substance is used in the following produ...   \n",
       "242-893-1  [This substance is used in the following produ...   \n",
       "204-815-4  [This substance is used in the following produ...   \n",
       "\n",
       "                                        article service life  \\\n",
       "813-180-8  [ECHA has no public registered data on the use...   \n",
       "700-097-6  [ECHA has no public registered data on the use...   \n",
       "700-185-4  [ECHA has no public registered data on the use...   \n",
       "242-893-1  [ECHA has no public registered data on the use...   \n",
       "204-815-4  [ECHA has no public registered data on the use...   \n",
       "\n",
       "                     widespread uses by professional workers  \\\n",
       "813-180-8  [ECHA has no public registered data indicating...   \n",
       "700-097-6  [ECHA has no public registered data indicating...   \n",
       "700-185-4  [ECHA has no public registered data indicating...   \n",
       "242-893-1  [ECHA has no public registered data indicating...   \n",
       "204-815-4  [ECHA has no public registered data indicating...   \n",
       "\n",
       "                                   formulation or re-packing  \\\n",
       "813-180-8  [This substance is used in the following produ...   \n",
       "700-097-6  [This substance is used in the following produ...   \n",
       "700-185-4  [This substance is used in the following produ...   \n",
       "242-893-1  [This substance is used in the following produ...   \n",
       "204-815-4  [This substance is used in the following produ...   \n",
       "\n",
       "                                    uses at industrial sites  \\\n",
       "813-180-8  [ECHA has no public registered data indicating...   \n",
       "700-097-6  [ECHA has no public registered data indicating...   \n",
       "700-185-4  [ECHA has no public registered data indicating...   \n",
       "242-893-1  [ECHA has no public registered data indicating...   \n",
       "204-815-4  [ECHA has no public registered data indicating...   \n",
       "\n",
       "                                                 manufacture biocidal uses  \\\n",
       "813-180-8  [This substance is used in the following activ...           NaN   \n",
       "700-097-6  [This substance is used in the following activ...           NaN   \n",
       "700-185-4  [This substance is used in the following activ...           NaN   \n",
       "242-893-1  [This substance is used in the following activ...           NaN   \n",
       "204-815-4  [This substance is used in the following activ...           NaN   \n",
       "\n",
       "                           tonnage  \n",
       "813-180-8              ≥ 1 to < 10  \n",
       "700-097-6              ≥ 1 to < 10  \n",
       "700-185-4       ≥ 1 to < 10 tonnes  \n",
       "242-893-1            ≥ 10 to < 100  \n",
       "204-815-4  ≥ 100 to < 1 000 tonnes  "
      ]
     },
     "execution_count": 68,
     "metadata": {},
     "output_type": "execute_result"
    }
   ],
   "source": [
    "cos_no_industry.head()"
   ]
  },
  {
   "cell_type": "code",
   "execution_count": 69,
   "metadata": {},
   "outputs": [
    {
     "data": {
      "text/plain": [
       "general                                    [This substance is registered under the REACH ...\n",
       "consumer uses                              [This substance is used in the following produ...\n",
       "article service life                       [ECHA has no public registered data on the use...\n",
       "widespread uses by professional workers    [This substance is used in the following produ...\n",
       "formulation or re-packing                  [This substance is used in the following produ...\n",
       "uses at industrial sites                   [ECHA has no public registered data indicating...\n",
       "manufacture                                [ECHA has no public registered data on the use...\n",
       "biocidal uses                                                                            NaN\n",
       "tonnage                                                                          ≥ 1 to < 10\n",
       "Name: -, dtype: object"
      ]
     },
     "execution_count": 69,
     "metadata": {},
     "output_type": "execute_result"
    }
   ],
   "source": [
    "cos_no_industry.loc['-', :]"
   ]
  },
  {
   "cell_type": "markdown",
   "metadata": {},
   "source": [
    "# Merging and exporting\n",
    "\n",
    "- `cos_no_industry` has cosmetics with no other industrial use.\n",
    "    - tonnage is what was reported, sometime \"tonnes\" was missing\n",
    "    - tonnage is the only column we're keeping from cos_no_industry, since we were mainly interested in filtering out substances with industrial uses.\n",
    "- perfumes and fragrances might be missing, but this is less than 30 items (I think)\n",
    "- merge with `echa_df`"
   ]
  },
  {
   "cell_type": "code",
   "execution_count": 70,
   "metadata": {},
   "outputs": [],
   "source": [
    "filt = echa_df['EC Number'] == '-'"
   ]
  },
  {
   "cell_type": "code",
   "execution_count": 71,
   "metadata": {},
   "outputs": [],
   "source": [
    "final = pd.merge(echa_df[~filt], cos_no_industry[['tonnage']], left_on='EC Number', right_index=True)"
   ]
  },
  {
   "cell_type": "code",
   "execution_count": 72,
   "metadata": {},
   "outputs": [
    {
     "data": {
      "text/html": [
       "<div>\n",
       "<style scoped>\n",
       "    .dataframe tbody tr th:only-of-type {\n",
       "        vertical-align: middle;\n",
       "    }\n",
       "\n",
       "    .dataframe tbody tr th {\n",
       "        vertical-align: top;\n",
       "    }\n",
       "\n",
       "    .dataframe thead th {\n",
       "        text-align: right;\n",
       "    }\n",
       "</style>\n",
       "<table border=\"1\" class=\"dataframe\">\n",
       "  <thead>\n",
       "    <tr style=\"text-align: right;\">\n",
       "      <th></th>\n",
       "      <th>Substance Name</th>\n",
       "      <th>EC Number</th>\n",
       "      <th>CAS Number</th>\n",
       "      <th>Substance Information Page</th>\n",
       "      <th>Brief Profile Page</th>\n",
       "      <th>Substance Regulatory Obligations Page</th>\n",
       "      <th>tonnage</th>\n",
       "    </tr>\n",
       "  </thead>\n",
       "  <tbody>\n",
       "    <tr>\n",
       "      <th>23</th>\n",
       "      <td>(10R)-10-hydroxyoctadecanoic acid</td>\n",
       "      <td>813-180-8</td>\n",
       "      <td>5856-32-6</td>\n",
       "      <td>https://echa.europa.eu/substance-information/-...</td>\n",
       "      <td>https://echa.europa.eu/brief-profile/-/briefpr...</td>\n",
       "      <td>NaN</td>\n",
       "      <td>≥ 1 to &lt; 10</td>\n",
       "    </tr>\n",
       "    <tr>\n",
       "      <th>33</th>\n",
       "      <td>(1R,2S,5R)-5-methyl-2-(propan-2-yl)-N-[2-(pyri...</td>\n",
       "      <td>700-097-6</td>\n",
       "      <td>847565-09-7</td>\n",
       "      <td>https://echa.europa.eu/substance-information/-...</td>\n",
       "      <td>https://echa.europa.eu/brief-profile/-/briefpr...</td>\n",
       "      <td>NaN</td>\n",
       "      <td>≥ 1 to &lt; 10</td>\n",
       "    </tr>\n",
       "    <tr>\n",
       "      <th>34</th>\n",
       "      <td>(1R,2S,5R)-5-methyl-2-(propan-2-yl)cyclohexyl ...</td>\n",
       "      <td>700-185-4</td>\n",
       "      <td>1122460-01-8</td>\n",
       "      <td>https://echa.europa.eu/substance-information/-...</td>\n",
       "      <td>https://echa.europa.eu/brief-profile/-/briefpr...</td>\n",
       "      <td>NaN</td>\n",
       "      <td>≥ 1 to &lt; 10 tonnes</td>\n",
       "    </tr>\n",
       "    <tr>\n",
       "      <th>48</th>\n",
       "      <td>(2-hydroxy-3-sulphopropyl)dimethyl[3-[(1-oxodo...</td>\n",
       "      <td>242-893-1</td>\n",
       "      <td>19223-55-3</td>\n",
       "      <td>https://echa.europa.eu/substance-information/-...</td>\n",
       "      <td>https://echa.europa.eu/brief-profile/-/briefpr...</td>\n",
       "      <td>NaN</td>\n",
       "      <td>≥ 10 to &lt; 100</td>\n",
       "    </tr>\n",
       "    <tr>\n",
       "      <th>49</th>\n",
       "      <td>(2-hydroxyethyl)ammonium mercaptoacetate</td>\n",
       "      <td>204-815-4</td>\n",
       "      <td>126-97-6</td>\n",
       "      <td>https://echa.europa.eu/substance-information/-...</td>\n",
       "      <td>https://echa.europa.eu/brief-profile/-/briefpr...</td>\n",
       "      <td>NaN</td>\n",
       "      <td>≥ 100 to &lt; 1 000 tonnes</td>\n",
       "    </tr>\n",
       "  </tbody>\n",
       "</table>\n",
       "</div>"
      ],
      "text/plain": [
       "                                       Substance Name  EC Number  \\\n",
       "23                  (10R)-10-hydroxyoctadecanoic acid  813-180-8   \n",
       "33  (1R,2S,5R)-5-methyl-2-(propan-2-yl)-N-[2-(pyri...  700-097-6   \n",
       "34  (1R,2S,5R)-5-methyl-2-(propan-2-yl)cyclohexyl ...  700-185-4   \n",
       "48  (2-hydroxy-3-sulphopropyl)dimethyl[3-[(1-oxodo...  242-893-1   \n",
       "49           (2-hydroxyethyl)ammonium mercaptoacetate  204-815-4   \n",
       "\n",
       "      CAS Number                         Substance Information Page  \\\n",
       "23     5856-32-6  https://echa.europa.eu/substance-information/-...   \n",
       "33   847565-09-7  https://echa.europa.eu/substance-information/-...   \n",
       "34  1122460-01-8  https://echa.europa.eu/substance-information/-...   \n",
       "48    19223-55-3  https://echa.europa.eu/substance-information/-...   \n",
       "49      126-97-6  https://echa.europa.eu/substance-information/-...   \n",
       "\n",
       "                                   Brief Profile Page  \\\n",
       "23  https://echa.europa.eu/brief-profile/-/briefpr...   \n",
       "33  https://echa.europa.eu/brief-profile/-/briefpr...   \n",
       "34  https://echa.europa.eu/brief-profile/-/briefpr...   \n",
       "48  https://echa.europa.eu/brief-profile/-/briefpr...   \n",
       "49  https://echa.europa.eu/brief-profile/-/briefpr...   \n",
       "\n",
       "   Substance Regulatory Obligations Page                  tonnage  \n",
       "23                                   NaN              ≥ 1 to < 10  \n",
       "33                                   NaN              ≥ 1 to < 10  \n",
       "34                                   NaN       ≥ 1 to < 10 tonnes  \n",
       "48                                   NaN            ≥ 10 to < 100  \n",
       "49                                   NaN  ≥ 100 to < 1 000 tonnes  "
      ]
     },
     "execution_count": 72,
     "metadata": {},
     "output_type": "execute_result"
    }
   ],
   "source": [
    "final.head()"
   ]
  },
  {
   "cell_type": "code",
   "execution_count": 73,
   "metadata": {},
   "outputs": [],
   "source": [
    "final = final.reset_index(drop=True)"
   ]
  },
  {
   "cell_type": "code",
   "execution_count": 74,
   "metadata": {},
   "outputs": [],
   "source": [
    "writer = pd.ExcelWriter('cosmetics_6apr2021_1211pm.xlsx')\n",
    "\n",
    "final.to_excel(writer, 'Sheet1')\n",
    "\n",
    "writer.save()"
   ]
  },
  {
   "cell_type": "markdown",
   "metadata": {},
   "source": [
    "# Adding dossier info"
   ]
  },
  {
   "cell_type": "code",
   "execution_count": 75,
   "metadata": {},
   "outputs": [],
   "source": [
    "df = pd.read_csv('../data/dossier-evaluation-status-export.csv', sep='\\t', skiprows=16)\n",
    "df = df.drop(columns=['Unnamed: 13'])"
   ]
  },
  {
   "cell_type": "code",
   "execution_count": 76,
   "metadata": {},
   "outputs": [
    {
     "data": {
      "text/html": [
       "<div>\n",
       "<style scoped>\n",
       "    .dataframe tbody tr th:only-of-type {\n",
       "        vertical-align: middle;\n",
       "    }\n",
       "\n",
       "    .dataframe tbody tr th {\n",
       "        vertical-align: top;\n",
       "    }\n",
       "\n",
       "    .dataframe thead th {\n",
       "        text-align: right;\n",
       "    }\n",
       "</style>\n",
       "<table border=\"1\" class=\"dataframe\">\n",
       "  <thead>\n",
       "    <tr style=\"text-align: right;\">\n",
       "      <th></th>\n",
       "      <th>Substance name</th>\n",
       "      <th>Description</th>\n",
       "      <th>EC / List no</th>\n",
       "      <th>CAS no</th>\n",
       "      <th>Decision type</th>\n",
       "      <th>Scope</th>\n",
       "      <th>Status</th>\n",
       "      <th>Decision date</th>\n",
       "      <th>Decision's deadline(s)</th>\n",
       "      <th>Decision</th>\n",
       "      <th>Appeal information</th>\n",
       "      <th>Dossier url</th>\n",
       "      <th>Latest update</th>\n",
       "    </tr>\n",
       "  </thead>\n",
       "  <tbody>\n",
       "    <tr>\n",
       "      <th>0</th>\n",
       "      <td>Tetramethylammonium hydroxide</td>\n",
       "      <td>NaN</td>\n",
       "      <td>200-882-9</td>\n",
       "      <td>75-59-2</td>\n",
       "      <td>TPE</td>\n",
       "      <td>Testing Proposal</td>\n",
       "      <td>Information requested</td>\n",
       "      <td>16/03/2021</td>\n",
       "      <td>23/09/2021</td>\n",
       "      <td>NaN</td>\n",
       "      <td>NaN</td>\n",
       "      <td>https://www.echa.europa.eu/web/guest/registrat...</td>\n",
       "      <td>18/03/2021</td>\n",
       "    </tr>\n",
       "    <tr>\n",
       "      <th>1</th>\n",
       "      <td>N-isopropyl-N'-phenyl-p-phenylenediamine</td>\n",
       "      <td>NaN</td>\n",
       "      <td>202-969-7</td>\n",
       "      <td>101-72-4</td>\n",
       "      <td>CCH</td>\n",
       "      <td>Comprehensive</td>\n",
       "      <td>Information requested</td>\n",
       "      <td>16/03/2021</td>\n",
       "      <td>21/06/2023</td>\n",
       "      <td>NaN</td>\n",
       "      <td>NaN</td>\n",
       "      <td>https://www.echa.europa.eu/web/guest/registrat...</td>\n",
       "      <td>18/03/2021</td>\n",
       "    </tr>\n",
       "    <tr>\n",
       "      <th>2</th>\n",
       "      <td>Fatty acids, C16-C18 and C18-unsatd., ME ester...</td>\n",
       "      <td>NaN</td>\n",
       "      <td>605-143-8</td>\n",
       "      <td>158318-67-3</td>\n",
       "      <td>TPE</td>\n",
       "      <td>Testing Proposal</td>\n",
       "      <td>NaN</td>\n",
       "      <td>NaN</td>\n",
       "      <td>NaN</td>\n",
       "      <td>NaN</td>\n",
       "      <td>NaN</td>\n",
       "      <td>https://www.echa.europa.eu/web/guest/registrat...</td>\n",
       "      <td>18/03/2021</td>\n",
       "    </tr>\n",
       "    <tr>\n",
       "      <th>3</th>\n",
       "      <td>Camphene</td>\n",
       "      <td>NaN</td>\n",
       "      <td>201-234-8</td>\n",
       "      <td>79-92-5</td>\n",
       "      <td>TPE</td>\n",
       "      <td>Testing Proposal</td>\n",
       "      <td>Ongoing</td>\n",
       "      <td>NaN</td>\n",
       "      <td>NaN</td>\n",
       "      <td>NaN</td>\n",
       "      <td>NaN</td>\n",
       "      <td>https://www.echa.europa.eu/web/guest/registrat...</td>\n",
       "      <td>18/03/2021</td>\n",
       "    </tr>\n",
       "    <tr>\n",
       "      <th>4</th>\n",
       "      <td>Camphene</td>\n",
       "      <td>NaN</td>\n",
       "      <td>201-234-8</td>\n",
       "      <td>79-92-5</td>\n",
       "      <td>CCH</td>\n",
       "      <td>Comprehensive</td>\n",
       "      <td>Ongoing</td>\n",
       "      <td>NaN</td>\n",
       "      <td>NaN</td>\n",
       "      <td>NaN</td>\n",
       "      <td>NaN</td>\n",
       "      <td>https://www.echa.europa.eu/web/guest/registrat...</td>\n",
       "      <td>18/03/2021</td>\n",
       "    </tr>\n",
       "  </tbody>\n",
       "</table>\n",
       "</div>"
      ],
      "text/plain": [
       "                                      Substance name Description EC / List no  \\\n",
       "0                      Tetramethylammonium hydroxide         NaN    200-882-9   \n",
       "1           N-isopropyl-N'-phenyl-p-phenylenediamine         NaN    202-969-7   \n",
       "2  Fatty acids, C16-C18 and C18-unsatd., ME ester...         NaN    605-143-8   \n",
       "3                                           Camphene         NaN    201-234-8   \n",
       "4                                           Camphene         NaN    201-234-8   \n",
       "\n",
       "        CAS no Decision type             Scope                 Status  \\\n",
       "0      75-59-2           TPE  Testing Proposal  Information requested   \n",
       "1     101-72-4           CCH     Comprehensive  Information requested   \n",
       "2  158318-67-3           TPE  Testing Proposal                    NaN   \n",
       "3      79-92-5           TPE  Testing Proposal                Ongoing   \n",
       "4      79-92-5           CCH     Comprehensive                Ongoing   \n",
       "\n",
       "  Decision date Decision's deadline(s) Decision Appeal information   \\\n",
       "0    16/03/2021             23/09/2021      NaN                 NaN   \n",
       "1    16/03/2021             21/06/2023      NaN                 NaN   \n",
       "2           NaN                    NaN      NaN                 NaN   \n",
       "3           NaN                    NaN      NaN                 NaN   \n",
       "4           NaN                    NaN      NaN                 NaN   \n",
       "\n",
       "                                         Dossier url Latest update  \n",
       "0  https://www.echa.europa.eu/web/guest/registrat...    18/03/2021  \n",
       "1  https://www.echa.europa.eu/web/guest/registrat...    18/03/2021  \n",
       "2  https://www.echa.europa.eu/web/guest/registrat...    18/03/2021  \n",
       "3  https://www.echa.europa.eu/web/guest/registrat...    18/03/2021  \n",
       "4  https://www.echa.europa.eu/web/guest/registrat...    18/03/2021  "
      ]
     },
     "execution_count": 76,
     "metadata": {},
     "output_type": "execute_result"
    }
   ],
   "source": [
    "df.head()"
   ]
  },
  {
   "cell_type": "code",
   "execution_count": 77,
   "metadata": {},
   "outputs": [
    {
     "data": {
      "text/plain": [
       "Index(['Substance name', 'Description', 'EC / List no', 'CAS no',\n",
       "       'Decision type', 'Scope', 'Status', 'Decision date',\n",
       "       'Decision's deadline(s)', 'Decision', 'Appeal information ',\n",
       "       'Dossier url', 'Latest update'],\n",
       "      dtype='object')"
      ]
     },
     "execution_count": 77,
     "metadata": {},
     "output_type": "execute_result"
    }
   ],
   "source": [
    "df.columns"
   ]
  },
  {
   "cell_type": "code",
   "execution_count": 78,
   "metadata": {},
   "outputs": [],
   "source": [
    "dossier = pd.merge(final, df, left_on='EC Number', right_on='EC / List no')"
   ]
  },
  {
   "cell_type": "code",
   "execution_count": 79,
   "metadata": {},
   "outputs": [
    {
     "name": "stdout",
     "output_type": "stream",
     "text": [
      "<class 'pandas.core.frame.DataFrame'>\n",
      "Int64Index: 80 entries, 0 to 79\n",
      "Data columns (total 20 columns):\n",
      " #   Column                                 Non-Null Count  Dtype \n",
      "---  ------                                 --------------  ----- \n",
      " 0   Substance Name                         80 non-null     object\n",
      " 1   EC Number                              80 non-null     object\n",
      " 2   CAS Number                             80 non-null     object\n",
      " 3   Substance Information Page             80 non-null     object\n",
      " 4   Brief Profile Page                     80 non-null     object\n",
      " 5   Substance Regulatory Obligations Page  17 non-null     object\n",
      " 6   tonnage                                80 non-null     object\n",
      " 7   Substance name                         80 non-null     object\n",
      " 8   Description                            1 non-null      object\n",
      " 9   EC / List no                           80 non-null     object\n",
      " 10  CAS no                                 80 non-null     object\n",
      " 11  Decision type                          80 non-null     object\n",
      " 12  Scope                                  80 non-null     object\n",
      " 13  Status                                 80 non-null     object\n",
      " 14  Decision date                          44 non-null     object\n",
      " 15  Decision's deadline(s)                 44 non-null     object\n",
      " 16  Decision                               44 non-null     object\n",
      " 17  Appeal information                     4 non-null      object\n",
      " 18  Dossier url                            78 non-null     object\n",
      " 19  Latest update                          80 non-null     object\n",
      "dtypes: object(20)\n",
      "memory usage: 13.1+ KB\n"
     ]
    }
   ],
   "source": [
    "dossier.info()"
   ]
  },
  {
   "cell_type": "code",
   "execution_count": 80,
   "metadata": {},
   "outputs": [
    {
     "data": {
      "text/html": [
       "<div>\n",
       "<style scoped>\n",
       "    .dataframe tbody tr th:only-of-type {\n",
       "        vertical-align: middle;\n",
       "    }\n",
       "\n",
       "    .dataframe tbody tr th {\n",
       "        vertical-align: top;\n",
       "    }\n",
       "\n",
       "    .dataframe thead th {\n",
       "        text-align: right;\n",
       "    }\n",
       "</style>\n",
       "<table border=\"1\" class=\"dataframe\">\n",
       "  <thead>\n",
       "    <tr style=\"text-align: right;\">\n",
       "      <th></th>\n",
       "      <th>Substance Name</th>\n",
       "      <th>EC Number</th>\n",
       "      <th>CAS Number</th>\n",
       "      <th>Substance Information Page</th>\n",
       "      <th>Brief Profile Page</th>\n",
       "      <th>Substance Regulatory Obligations Page</th>\n",
       "      <th>tonnage</th>\n",
       "      <th>Substance name</th>\n",
       "      <th>Description</th>\n",
       "      <th>EC / List no</th>\n",
       "      <th>CAS no</th>\n",
       "      <th>Decision type</th>\n",
       "      <th>Scope</th>\n",
       "      <th>Status</th>\n",
       "      <th>Decision date</th>\n",
       "      <th>Decision's deadline(s)</th>\n",
       "      <th>Decision</th>\n",
       "      <th>Appeal information</th>\n",
       "      <th>Dossier url</th>\n",
       "      <th>Latest update</th>\n",
       "    </tr>\n",
       "  </thead>\n",
       "  <tbody>\n",
       "    <tr>\n",
       "      <th>0</th>\n",
       "      <td>(1R,2S,5R)-5-methyl-2-(propan-2-yl)-N-[2-(pyri...</td>\n",
       "      <td>700-097-6</td>\n",
       "      <td>847565-09-7</td>\n",
       "      <td>https://echa.europa.eu/substance-information/-...</td>\n",
       "      <td>https://echa.europa.eu/brief-profile/-/briefpr...</td>\n",
       "      <td>NaN</td>\n",
       "      <td>≥ 1 to &lt; 10</td>\n",
       "      <td>(1R,2S,5R)-5-methyl-2-(propan-2-yl)-N-[2-(pyri...</td>\n",
       "      <td>NaN</td>\n",
       "      <td>700-097-6</td>\n",
       "      <td>847565-09-7</td>\n",
       "      <td>CCH</td>\n",
       "      <td>Targeted</td>\n",
       "      <td>Concluded</td>\n",
       "      <td>NaN</td>\n",
       "      <td>NaN</td>\n",
       "      <td>NaN</td>\n",
       "      <td>NaN</td>\n",
       "      <td>https://www.echa.europa.eu/web/guest/registrat...</td>\n",
       "      <td>13/10/2018</td>\n",
       "    </tr>\n",
       "    <tr>\n",
       "      <th>1</th>\n",
       "      <td>(2-hydroxyethyl)ammonium mercaptoacetate</td>\n",
       "      <td>204-815-4</td>\n",
       "      <td>126-97-6</td>\n",
       "      <td>https://echa.europa.eu/substance-information/-...</td>\n",
       "      <td>https://echa.europa.eu/brief-profile/-/briefpr...</td>\n",
       "      <td>NaN</td>\n",
       "      <td>≥ 100 to &lt; 1 000 tonnes</td>\n",
       "      <td>(2-hydroxyethyl)ammonium mercaptoacetate</td>\n",
       "      <td>NaN</td>\n",
       "      <td>204-815-4</td>\n",
       "      <td>126-97-6</td>\n",
       "      <td>TPE</td>\n",
       "      <td>Testing Proposal</td>\n",
       "      <td>Concluded</td>\n",
       "      <td>NaN</td>\n",
       "      <td>NaN</td>\n",
       "      <td>NaN</td>\n",
       "      <td>NaN</td>\n",
       "      <td>https://www.echa.europa.eu/web/guest/registrat...</td>\n",
       "      <td>09/03/2020</td>\n",
       "    </tr>\n",
       "    <tr>\n",
       "      <th>2</th>\n",
       "      <td>(2-hydroxyethyl)ammonium mercaptoacetate</td>\n",
       "      <td>204-815-4</td>\n",
       "      <td>126-97-6</td>\n",
       "      <td>https://echa.europa.eu/substance-information/-...</td>\n",
       "      <td>https://echa.europa.eu/brief-profile/-/briefpr...</td>\n",
       "      <td>NaN</td>\n",
       "      <td>≥ 100 to &lt; 1 000 tonnes</td>\n",
       "      <td>(2-hydroxyethyl)ammonium mercaptoacetate</td>\n",
       "      <td>NaN</td>\n",
       "      <td>204-815-4</td>\n",
       "      <td>126-97-6</td>\n",
       "      <td>CCH</td>\n",
       "      <td>Comprehensive</td>\n",
       "      <td>Information requested</td>\n",
       "      <td>07/12/2018</td>\n",
       "      <td>16/12/2019\"14/06/2022</td>\n",
       "      <td>https://www.echa.europa.eu/documents/10162/e49...</td>\n",
       "      <td>NaN</td>\n",
       "      <td>https://www.echa.europa.eu/web/guest/registrat...</td>\n",
       "      <td>02/04/2019</td>\n",
       "    </tr>\n",
       "    <tr>\n",
       "      <th>3</th>\n",
       "      <td>(3R,6R)-3,6-dimethyl-1,4-dioxane-2,5-dione</td>\n",
       "      <td>603-436-5</td>\n",
       "      <td>13076-17-0</td>\n",
       "      <td>https://echa.europa.eu/substance-information/-...</td>\n",
       "      <td>https://echa.europa.eu/brief-profile/-/briefpr...</td>\n",
       "      <td>NaN</td>\n",
       "      <td>≥ 1 000 to &lt; 10 000 tonnes</td>\n",
       "      <td>(3R,6R)-3,6-dimethyl-1,4-dioxane-2,5-dione</td>\n",
       "      <td>NaN</td>\n",
       "      <td>603-436-5</td>\n",
       "      <td>13076-17-0</td>\n",
       "      <td>CCH</td>\n",
       "      <td>Targeted</td>\n",
       "      <td>Concluded</td>\n",
       "      <td>NaN</td>\n",
       "      <td>NaN</td>\n",
       "      <td>NaN</td>\n",
       "      <td>NaN</td>\n",
       "      <td>https://www.echa.europa.eu/web/guest/registrat...</td>\n",
       "      <td>13/10/2018</td>\n",
       "    </tr>\n",
       "    <tr>\n",
       "      <th>4</th>\n",
       "      <td>(3R,6R)-3,6-dimethyl-1,4-dioxane-2,5-dione</td>\n",
       "      <td>603-436-5</td>\n",
       "      <td>13076-17-0</td>\n",
       "      <td>https://echa.europa.eu/substance-information/-...</td>\n",
       "      <td>https://echa.europa.eu/brief-profile/-/briefpr...</td>\n",
       "      <td>NaN</td>\n",
       "      <td>≥ 1 000 to &lt; 10 000 tonnes</td>\n",
       "      <td>(3R,6R)-3,6-dimethyl-1,4-dioxane-2,5-dione</td>\n",
       "      <td>NaN</td>\n",
       "      <td>603-436-5</td>\n",
       "      <td>13076-17-0</td>\n",
       "      <td>CCH</td>\n",
       "      <td>Targeted</td>\n",
       "      <td>Concluded</td>\n",
       "      <td>27/07/2015</td>\n",
       "      <td>03/02/2016</td>\n",
       "      <td>https://www.echa.europa.eu/documents/10162/119...</td>\n",
       "      <td>NaN</td>\n",
       "      <td>https://www.echa.europa.eu/web/guest/registrat...</td>\n",
       "      <td>04/10/2018</td>\n",
       "    </tr>\n",
       "  </tbody>\n",
       "</table>\n",
       "</div>"
      ],
      "text/plain": [
       "                                      Substance Name  EC Number   CAS Number  \\\n",
       "0  (1R,2S,5R)-5-methyl-2-(propan-2-yl)-N-[2-(pyri...  700-097-6  847565-09-7   \n",
       "1           (2-hydroxyethyl)ammonium mercaptoacetate  204-815-4     126-97-6   \n",
       "2           (2-hydroxyethyl)ammonium mercaptoacetate  204-815-4     126-97-6   \n",
       "3         (3R,6R)-3,6-dimethyl-1,4-dioxane-2,5-dione  603-436-5   13076-17-0   \n",
       "4         (3R,6R)-3,6-dimethyl-1,4-dioxane-2,5-dione  603-436-5   13076-17-0   \n",
       "\n",
       "                          Substance Information Page  \\\n",
       "0  https://echa.europa.eu/substance-information/-...   \n",
       "1  https://echa.europa.eu/substance-information/-...   \n",
       "2  https://echa.europa.eu/substance-information/-...   \n",
       "3  https://echa.europa.eu/substance-information/-...   \n",
       "4  https://echa.europa.eu/substance-information/-...   \n",
       "\n",
       "                                  Brief Profile Page  \\\n",
       "0  https://echa.europa.eu/brief-profile/-/briefpr...   \n",
       "1  https://echa.europa.eu/brief-profile/-/briefpr...   \n",
       "2  https://echa.europa.eu/brief-profile/-/briefpr...   \n",
       "3  https://echa.europa.eu/brief-profile/-/briefpr...   \n",
       "4  https://echa.europa.eu/brief-profile/-/briefpr...   \n",
       "\n",
       "  Substance Regulatory Obligations Page                     tonnage  \\\n",
       "0                                   NaN                 ≥ 1 to < 10   \n",
       "1                                   NaN     ≥ 100 to < 1 000 tonnes   \n",
       "2                                   NaN     ≥ 100 to < 1 000 tonnes   \n",
       "3                                   NaN  ≥ 1 000 to < 10 000 tonnes   \n",
       "4                                   NaN  ≥ 1 000 to < 10 000 tonnes   \n",
       "\n",
       "                                      Substance name Description EC / List no  \\\n",
       "0  (1R,2S,5R)-5-methyl-2-(propan-2-yl)-N-[2-(pyri...         NaN    700-097-6   \n",
       "1           (2-hydroxyethyl)ammonium mercaptoacetate         NaN    204-815-4   \n",
       "2           (2-hydroxyethyl)ammonium mercaptoacetate         NaN    204-815-4   \n",
       "3         (3R,6R)-3,6-dimethyl-1,4-dioxane-2,5-dione         NaN    603-436-5   \n",
       "4         (3R,6R)-3,6-dimethyl-1,4-dioxane-2,5-dione         NaN    603-436-5   \n",
       "\n",
       "        CAS no Decision type             Scope                 Status  \\\n",
       "0  847565-09-7           CCH          Targeted              Concluded   \n",
       "1     126-97-6           TPE  Testing Proposal              Concluded   \n",
       "2     126-97-6           CCH     Comprehensive  Information requested   \n",
       "3   13076-17-0           CCH          Targeted              Concluded   \n",
       "4   13076-17-0           CCH          Targeted              Concluded   \n",
       "\n",
       "  Decision date Decision's deadline(s)  \\\n",
       "0           NaN                    NaN   \n",
       "1           NaN                    NaN   \n",
       "2    07/12/2018  16/12/2019\"14/06/2022   \n",
       "3           NaN                    NaN   \n",
       "4    27/07/2015             03/02/2016   \n",
       "\n",
       "                                            Decision Appeal information   \\\n",
       "0                                                NaN                 NaN   \n",
       "1                                                NaN                 NaN   \n",
       "2  https://www.echa.europa.eu/documents/10162/e49...                 NaN   \n",
       "3                                                NaN                 NaN   \n",
       "4  https://www.echa.europa.eu/documents/10162/119...                 NaN   \n",
       "\n",
       "                                         Dossier url Latest update  \n",
       "0  https://www.echa.europa.eu/web/guest/registrat...    13/10/2018  \n",
       "1  https://www.echa.europa.eu/web/guest/registrat...    09/03/2020  \n",
       "2  https://www.echa.europa.eu/web/guest/registrat...    02/04/2019  \n",
       "3  https://www.echa.europa.eu/web/guest/registrat...    13/10/2018  \n",
       "4  https://www.echa.europa.eu/web/guest/registrat...    04/10/2018  "
      ]
     },
     "execution_count": 80,
     "metadata": {},
     "output_type": "execute_result"
    }
   ],
   "source": [
    "dossier.head()"
   ]
  },
  {
   "cell_type": "markdown",
   "metadata": {},
   "source": [
    "# Recent dossier info"
   ]
  },
  {
   "cell_type": "code",
   "execution_count": 82,
   "metadata": {},
   "outputs": [],
   "source": [
    "dossier_new = pd.read_excel('../evaluation_report_2020_en.xlsx')"
   ]
  },
  {
   "cell_type": "code",
   "execution_count": 83,
   "metadata": {},
   "outputs": [
    {
     "data": {
      "text/html": [
       "<div>\n",
       "<style scoped>\n",
       "    .dataframe tbody tr th:only-of-type {\n",
       "        vertical-align: middle;\n",
       "    }\n",
       "\n",
       "    .dataframe tbody tr th {\n",
       "        vertical-align: top;\n",
       "    }\n",
       "\n",
       "    .dataframe thead th {\n",
       "        text-align: right;\n",
       "    }\n",
       "</style>\n",
       "<table border=\"1\" class=\"dataframe\">\n",
       "  <thead>\n",
       "    <tr style=\"text-align: right;\">\n",
       "      <th></th>\n",
       "      <th>Public Name</th>\n",
       "      <th>EC Number</th>\n",
       "      <th>CAS Number</th>\n",
       "      <th>Evaluation Type</th>\n",
       "      <th>Status</th>\n",
       "      <th>Concluded on</th>\n",
       "      <th>Information requested</th>\n",
       "      <th>Deadline(s) for data</th>\n",
       "    </tr>\n",
       "  </thead>\n",
       "  <tbody>\n",
       "    <tr>\n",
       "      <th>0</th>\n",
       "      <td>Cysteine hydrochloride</td>\n",
       "      <td>200-157-7</td>\n",
       "      <td>52-89-1</td>\n",
       "      <td>CCH</td>\n",
       "      <td>Concluded</td>\n",
       "      <td>2020-06-23 00:00:00</td>\n",
       "      <td>no further info requested</td>\n",
       "      <td>NaN</td>\n",
       "    </tr>\n",
       "    <tr>\n",
       "      <th>1</th>\n",
       "      <td>Nicotine sulphate</td>\n",
       "      <td>200-606-7</td>\n",
       "      <td>65-30-5</td>\n",
       "      <td>CCH</td>\n",
       "      <td>Follow-up</td>\n",
       "      <td>2020-05-29 00:00:00</td>\n",
       "      <td>1. In vitro gene mutation study in bacteria (A...</td>\n",
       "      <td>2020-12-07 00:00:00</td>\n",
       "    </tr>\n",
       "    <tr>\n",
       "      <th>2</th>\n",
       "      <td>1,1-difluoroethane</td>\n",
       "      <td>200-866-1</td>\n",
       "      <td>75-37-6</td>\n",
       "      <td>CCH</td>\n",
       "      <td>Concluded</td>\n",
       "      <td>2020-02-07 00:00:00</td>\n",
       "      <td>no further info requested</td>\n",
       "      <td>NaN</td>\n",
       "    </tr>\n",
       "    <tr>\n",
       "      <th>3</th>\n",
       "      <td>3a,4,7,7a-tetrahydro-4,7-methanoindene</td>\n",
       "      <td>201-052-9</td>\n",
       "      <td>77-73-6</td>\n",
       "      <td>CCH &amp; TPE</td>\n",
       "      <td>Wait for follow-up</td>\n",
       "      <td>2020-05-26 00:00:00</td>\n",
       "      <td>Under CCH:\\n1. Sub-chronic toxicity study (90-...</td>\n",
       "      <td>31/08/2021 &amp; 31/08/2022</td>\n",
       "    </tr>\n",
       "    <tr>\n",
       "      <th>4</th>\n",
       "      <td>Pentaerithrityl tetranitrate</td>\n",
       "      <td>201-084-3</td>\n",
       "      <td>78-11-5</td>\n",
       "      <td>CCH</td>\n",
       "      <td>Concluded</td>\n",
       "      <td>2020-12-07 00:00:00</td>\n",
       "      <td>no further info requested</td>\n",
       "      <td>NaN</td>\n",
       "    </tr>\n",
       "  </tbody>\n",
       "</table>\n",
       "</div>"
      ],
      "text/plain": [
       "                              Public Name  EC Number CAS Number  \\\n",
       "0                  Cysteine hydrochloride  200-157-7    52-89-1   \n",
       "1                       Nicotine sulphate  200-606-7    65-30-5   \n",
       "2                      1,1-difluoroethane  200-866-1    75-37-6   \n",
       "3  3a,4,7,7a-tetrahydro-4,7-methanoindene  201-052-9    77-73-6   \n",
       "4            Pentaerithrityl tetranitrate  201-084-3    78-11-5   \n",
       "\n",
       "  Evaluation Type              Status         Concluded on  \\\n",
       "0             CCH           Concluded  2020-06-23 00:00:00   \n",
       "1             CCH           Follow-up  2020-05-29 00:00:00   \n",
       "2             CCH           Concluded  2020-02-07 00:00:00   \n",
       "3       CCH & TPE  Wait for follow-up  2020-05-26 00:00:00   \n",
       "4             CCH           Concluded  2020-12-07 00:00:00   \n",
       "\n",
       "                               Information requested     Deadline(s) for data  \n",
       "0                          no further info requested                      NaN  \n",
       "1  1. In vitro gene mutation study in bacteria (A...      2020-12-07 00:00:00  \n",
       "2                          no further info requested                      NaN  \n",
       "3  Under CCH:\\n1. Sub-chronic toxicity study (90-...  31/08/2021 & 31/08/2022  \n",
       "4                          no further info requested                      NaN  "
      ]
     },
     "execution_count": 83,
     "metadata": {},
     "output_type": "execute_result"
    }
   ],
   "source": [
    "dossier_new.head()"
   ]
  },
  {
   "cell_type": "code",
   "execution_count": 84,
   "metadata": {},
   "outputs": [
    {
     "name": "stdout",
     "output_type": "stream",
     "text": [
      "<class 'pandas.core.frame.DataFrame'>\n",
      "RangeIndex: 434 entries, 0 to 433\n",
      "Data columns (total 8 columns):\n",
      " #   Column                 Non-Null Count  Dtype \n",
      "---  ------                 --------------  ----- \n",
      " 0   Public Name            434 non-null    object\n",
      " 1   EC Number              434 non-null    object\n",
      " 2   CAS Number             434 non-null    object\n",
      " 3   Evaluation Type        434 non-null    object\n",
      " 4   Status                 434 non-null    object\n",
      " 5   Concluded on           434 non-null    object\n",
      " 6   Information requested  434 non-null    object\n",
      " 7   Deadline(s) for data   309 non-null    object\n",
      "dtypes: object(8)\n",
      "memory usage: 27.2+ KB\n"
     ]
    }
   ],
   "source": [
    "dossier_new.info()"
   ]
  },
  {
   "cell_type": "code",
   "execution_count": 85,
   "metadata": {},
   "outputs": [
    {
     "data": {
      "text/plain": [
       "434"
      ]
     },
     "execution_count": 85,
     "metadata": {},
     "output_type": "execute_result"
    }
   ],
   "source": [
    "pat = re.compile(r'\\d{1,3}-\\d{1,3}-\\d{1,3}')\n",
    "sum(dossier_new['EC Number'].str.match(pat))"
   ]
  },
  {
   "cell_type": "code",
   "execution_count": 86,
   "metadata": {},
   "outputs": [],
   "source": [
    "merge_new = pd.merge(dossier_new, cos_no_industry[['tonnage']], left_on='EC Number', right_index=True)"
   ]
  },
  {
   "cell_type": "code",
   "execution_count": 87,
   "metadata": {},
   "outputs": [
    {
     "data": {
      "text/html": [
       "<div>\n",
       "<style scoped>\n",
       "    .dataframe tbody tr th:only-of-type {\n",
       "        vertical-align: middle;\n",
       "    }\n",
       "\n",
       "    .dataframe tbody tr th {\n",
       "        vertical-align: top;\n",
       "    }\n",
       "\n",
       "    .dataframe thead th {\n",
       "        text-align: right;\n",
       "    }\n",
       "</style>\n",
       "<table border=\"1\" class=\"dataframe\">\n",
       "  <thead>\n",
       "    <tr style=\"text-align: right;\">\n",
       "      <th></th>\n",
       "      <th>Public Name</th>\n",
       "      <th>EC Number</th>\n",
       "      <th>CAS Number</th>\n",
       "      <th>Evaluation Type</th>\n",
       "      <th>Status</th>\n",
       "      <th>Concluded on</th>\n",
       "      <th>Information requested</th>\n",
       "      <th>Deadline(s) for data</th>\n",
       "      <th>tonnage</th>\n",
       "    </tr>\n",
       "  </thead>\n",
       "  <tbody>\n",
       "    <tr>\n",
       "      <th>50</th>\n",
       "      <td>(2-hydroxyethyl)ammonium mercaptoacetate</td>\n",
       "      <td>204-815-4</td>\n",
       "      <td>126-97-6</td>\n",
       "      <td>TPE</td>\n",
       "      <td>Concluded</td>\n",
       "      <td>2020-03-05 00:00:00</td>\n",
       "      <td>no further info requested</td>\n",
       "      <td>NaN</td>\n",
       "      <td>≥ 100 to &lt; 1 000 tonnes</td>\n",
       "    </tr>\n",
       "    <tr>\n",
       "      <th>135</th>\n",
       "      <td>Sodium 2-sulphonatoethyl laurate</td>\n",
       "      <td>230-949-8</td>\n",
       "      <td>7381-01-3</td>\n",
       "      <td>CCH</td>\n",
       "      <td>Wait for follow-up</td>\n",
       "      <td>2020-05-27 00:00:00</td>\n",
       "      <td>1. In vitro gene mutation study in bacteria (A...</td>\n",
       "      <td>2023-12-04 00:00:00</td>\n",
       "      <td>≥ 10 000 to &lt; 100 000 tonnes</td>\n",
       "    </tr>\n",
       "    <tr>\n",
       "      <th>211</th>\n",
       "      <td>Mercaptoacetic acid, monoester with propane-1,...</td>\n",
       "      <td>250-264-8</td>\n",
       "      <td>30618-84-9</td>\n",
       "      <td>CCH</td>\n",
       "      <td>Wait for follow-up</td>\n",
       "      <td>2020-08-05 00:00:00</td>\n",
       "      <td>1. In vitro gene mutation study in bacteria (A...</td>\n",
       "      <td>2021-05-13 00:00:00</td>\n",
       "      <td>≥ 1 to &lt; 10</td>\n",
       "    </tr>\n",
       "    <tr>\n",
       "      <th>264</th>\n",
       "      <td>Fatty acids, C12-18 and C18-unsatd., 2-sulfoet...</td>\n",
       "      <td>287-024-7</td>\n",
       "      <td>85408-62-4</td>\n",
       "      <td>CCH</td>\n",
       "      <td>Wait for follow-up</td>\n",
       "      <td>2020-05-27 00:00:00</td>\n",
       "      <td>1. In vitro gene mutation study in bacteria (A...</td>\n",
       "      <td>2023-09-04 00:00:00</td>\n",
       "      <td>≥ 10 000 to &lt; 100 000</td>\n",
       "    </tr>\n",
       "    <tr>\n",
       "      <th>267</th>\n",
       "      <td>Butanedioic acid, sulfo-, 1-C12-18-alkyl ester...</td>\n",
       "      <td>290-836-4</td>\n",
       "      <td>90268-36-3</td>\n",
       "      <td>CCH</td>\n",
       "      <td>Wait for follow-up</td>\n",
       "      <td>2020-03-26 00:00:00</td>\n",
       "      <td>1. Sub-chronic toxicity study (90-day), oral r...</td>\n",
       "      <td>2023-01-03 00:00:00</td>\n",
       "      <td>≥ 100 to &lt; 1 000 tonnes</td>\n",
       "    </tr>\n",
       "    <tr>\n",
       "      <th>313</th>\n",
       "      <td>Alcohols, C16-18 and C18-unsatd., ethoxylated,...</td>\n",
       "      <td>500-345-1</td>\n",
       "      <td>157627-95-7</td>\n",
       "      <td>CCH</td>\n",
       "      <td>Wait for follow-up</td>\n",
       "      <td>2020-12-17 00:00:00</td>\n",
       "      <td>1. In vitro gene mutation study in bacteria (A...</td>\n",
       "      <td>2023-03-24 00:00:00</td>\n",
       "      <td>≥ 100 to &lt; 1 000 tonnes</td>\n",
       "    </tr>\n",
       "    <tr>\n",
       "      <th>344</th>\n",
       "      <td>Olaflur</td>\n",
       "      <td>911-915-8</td>\n",
       "      <td>NS</td>\n",
       "      <td>CCH</td>\n",
       "      <td>Concluded</td>\n",
       "      <td>2020-10-15 00:00:00</td>\n",
       "      <td>no further info requested</td>\n",
       "      <td>NaN</td>\n",
       "      <td>≥ 100 to &lt; 1 000</td>\n",
       "    </tr>\n",
       "  </tbody>\n",
       "</table>\n",
       "</div>"
      ],
      "text/plain": [
       "                                           Public Name  EC Number  \\\n",
       "50            (2-hydroxyethyl)ammonium mercaptoacetate  204-815-4   \n",
       "135                   Sodium 2-sulphonatoethyl laurate  230-949-8   \n",
       "211  Mercaptoacetic acid, monoester with propane-1,...  250-264-8   \n",
       "264  Fatty acids, C12-18 and C18-unsatd., 2-sulfoet...  287-024-7   \n",
       "267  Butanedioic acid, sulfo-, 1-C12-18-alkyl ester...  290-836-4   \n",
       "313  Alcohols, C16-18 and C18-unsatd., ethoxylated,...  500-345-1   \n",
       "344                                            Olaflur  911-915-8   \n",
       "\n",
       "      CAS Number Evaluation Type              Status         Concluded on  \\\n",
       "50      126-97-6             TPE           Concluded  2020-03-05 00:00:00   \n",
       "135    7381-01-3             CCH  Wait for follow-up  2020-05-27 00:00:00   \n",
       "211   30618-84-9             CCH  Wait for follow-up  2020-08-05 00:00:00   \n",
       "264   85408-62-4             CCH  Wait for follow-up  2020-05-27 00:00:00   \n",
       "267   90268-36-3             CCH  Wait for follow-up  2020-03-26 00:00:00   \n",
       "313  157627-95-7             CCH  Wait for follow-up  2020-12-17 00:00:00   \n",
       "344           NS             CCH           Concluded  2020-10-15 00:00:00   \n",
       "\n",
       "                                 Information requested Deadline(s) for data  \\\n",
       "50                           no further info requested                  NaN   \n",
       "135  1. In vitro gene mutation study in bacteria (A...  2023-12-04 00:00:00   \n",
       "211  1. In vitro gene mutation study in bacteria (A...  2021-05-13 00:00:00   \n",
       "264  1. In vitro gene mutation study in bacteria (A...  2023-09-04 00:00:00   \n",
       "267  1. Sub-chronic toxicity study (90-day), oral r...  2023-01-03 00:00:00   \n",
       "313  1. In vitro gene mutation study in bacteria (A...  2023-03-24 00:00:00   \n",
       "344                          no further info requested                  NaN   \n",
       "\n",
       "                          tonnage  \n",
       "50        ≥ 100 to < 1 000 tonnes  \n",
       "135  ≥ 10 000 to < 100 000 tonnes  \n",
       "211                   ≥ 1 to < 10  \n",
       "264         ≥ 10 000 to < 100 000  \n",
       "267       ≥ 100 to < 1 000 tonnes  \n",
       "313       ≥ 100 to < 1 000 tonnes  \n",
       "344              ≥ 100 to < 1 000  "
      ]
     },
     "execution_count": 87,
     "metadata": {},
     "output_type": "execute_result"
    }
   ],
   "source": [
    "merge_new"
   ]
  },
  {
   "cell_type": "code",
   "execution_count": 88,
   "metadata": {},
   "outputs": [
    {
     "name": "stdout",
     "output_type": "stream",
     "text": [
      "<class 'pandas.core.frame.DataFrame'>\n",
      "Int64Index: 7 entries, 50 to 344\n",
      "Data columns (total 9 columns):\n",
      " #   Column                 Non-Null Count  Dtype \n",
      "---  ------                 --------------  ----- \n",
      " 0   Public Name            7 non-null      object\n",
      " 1   EC Number              7 non-null      object\n",
      " 2   CAS Number             7 non-null      object\n",
      " 3   Evaluation Type        7 non-null      object\n",
      " 4   Status                 7 non-null      object\n",
      " 5   Concluded on           7 non-null      object\n",
      " 6   Information requested  7 non-null      object\n",
      " 7   Deadline(s) for data   5 non-null      object\n",
      " 8   tonnage                7 non-null      object\n",
      "dtypes: object(9)\n",
      "memory usage: 560.0+ bytes\n"
     ]
    }
   ],
   "source": [
    "merge_new.info()"
   ]
  },
  {
   "cell_type": "code",
   "execution_count": 89,
   "metadata": {},
   "outputs": [],
   "source": [
    "writer = pd.ExcelWriter('cosmetics_eval_report_7apr2021.xlsx')\n",
    "\n",
    "merge_new.to_excel(writer, 'Sheet1')\n",
    "\n",
    "writer.save()"
   ]
  },
  {
   "cell_type": "markdown",
   "metadata": {},
   "source": [
    "# 2018 - 2021 dossier info"
   ]
  },
  {
   "cell_type": "code",
   "execution_count": 90,
   "metadata": {},
   "outputs": [],
   "source": [
    "df = pd.read_csv('../data/dossier-evaluation-status-export.csv', sep='\\t', skiprows=16)\n",
    "\n",
    "df = df.drop(columns=['Unnamed: 13'])"
   ]
  },
  {
   "cell_type": "code",
   "execution_count": null,
   "metadata": {},
   "outputs": [],
   "source": []
  }
 ],
 "metadata": {
  "kernelspec": {
   "display_name": "ml",
   "language": "python",
   "name": "ml"
  },
  "language_info": {
   "codemirror_mode": {
    "name": "ipython",
    "version": 3
   },
   "file_extension": ".py",
   "mimetype": "text/x-python",
   "name": "python",
   "nbconvert_exporter": "python",
   "pygments_lexer": "ipython3",
   "version": "3.8.8"
  }
 },
 "nbformat": 4,
 "nbformat_minor": 4
}
